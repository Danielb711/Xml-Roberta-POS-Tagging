{
  "nbformat": 4,
  "nbformat_minor": 0,
  "metadata": {
    "colab": {
      "provenance": [],
      "gpuType": "T4",
      "authorship_tag": "ABX9TyMOhu06CZlV+xfbHgN3tt7B",
      "include_colab_link": true
    },
    "kernelspec": {
      "name": "python3",
      "display_name": "Python 3"
    },
    "language_info": {
      "name": "python"
    },
    "accelerator": "GPU",
    "widgets": {
      "application/vnd.jupyter.widget-state+json": {
        "f186234f6acc4dd6a7d4815e156d478f": {
          "model_module": "@jupyter-widgets/controls",
          "model_name": "HBoxModel",
          "model_module_version": "1.5.0",
          "state": {
            "_dom_classes": [],
            "_model_module": "@jupyter-widgets/controls",
            "_model_module_version": "1.5.0",
            "_model_name": "HBoxModel",
            "_view_count": null,
            "_view_module": "@jupyter-widgets/controls",
            "_view_module_version": "1.5.0",
            "_view_name": "HBoxView",
            "box_style": "",
            "children": [
              "IPY_MODEL_309c503b9b0c4062872161342ddbdc6e",
              "IPY_MODEL_61af110202f34726bdee9955946c6337",
              "IPY_MODEL_337d13aae5ce41f1acaf81ce750f6b7f"
            ],
            "layout": "IPY_MODEL_202bc2f2358944b7acf37c6ada47506d"
          }
        },
        "309c503b9b0c4062872161342ddbdc6e": {
          "model_module": "@jupyter-widgets/controls",
          "model_name": "HTMLModel",
          "model_module_version": "1.5.0",
          "state": {
            "_dom_classes": [],
            "_model_module": "@jupyter-widgets/controls",
            "_model_module_version": "1.5.0",
            "_model_name": "HTMLModel",
            "_view_count": null,
            "_view_module": "@jupyter-widgets/controls",
            "_view_module_version": "1.5.0",
            "_view_name": "HTMLView",
            "description": "",
            "description_tooltip": null,
            "layout": "IPY_MODEL_ce8f25b153af41d3ae6a9e9ab3549ac6",
            "placeholder": "​",
            "style": "IPY_MODEL_34754b70cd4f4dc288575e0a4b9809cf",
            "value": "model.safetensors: 100%"
          }
        },
        "61af110202f34726bdee9955946c6337": {
          "model_module": "@jupyter-widgets/controls",
          "model_name": "FloatProgressModel",
          "model_module_version": "1.5.0",
          "state": {
            "_dom_classes": [],
            "_model_module": "@jupyter-widgets/controls",
            "_model_module_version": "1.5.0",
            "_model_name": "FloatProgressModel",
            "_view_count": null,
            "_view_module": "@jupyter-widgets/controls",
            "_view_module_version": "1.5.0",
            "_view_name": "ProgressView",
            "bar_style": "success",
            "description": "",
            "description_tooltip": null,
            "layout": "IPY_MODEL_e5be3e8f28234367a94512e3fd1a1fea",
            "max": 1115567652,
            "min": 0,
            "orientation": "horizontal",
            "style": "IPY_MODEL_a8bc4f430a16421c92a3176c75da0ca5",
            "value": 1115567652
          }
        },
        "337d13aae5ce41f1acaf81ce750f6b7f": {
          "model_module": "@jupyter-widgets/controls",
          "model_name": "HTMLModel",
          "model_module_version": "1.5.0",
          "state": {
            "_dom_classes": [],
            "_model_module": "@jupyter-widgets/controls",
            "_model_module_version": "1.5.0",
            "_model_name": "HTMLModel",
            "_view_count": null,
            "_view_module": "@jupyter-widgets/controls",
            "_view_module_version": "1.5.0",
            "_view_name": "HTMLView",
            "description": "",
            "description_tooltip": null,
            "layout": "IPY_MODEL_bbb7b95e5b7e4921910fc013e45cb327",
            "placeholder": "​",
            "style": "IPY_MODEL_96b7ff90284f4bd4901801a78ba8991b",
            "value": " 1.12G/1.12G [00:10&lt;00:00, 209MB/s]"
          }
        },
        "202bc2f2358944b7acf37c6ada47506d": {
          "model_module": "@jupyter-widgets/base",
          "model_name": "LayoutModel",
          "model_module_version": "1.2.0",
          "state": {
            "_model_module": "@jupyter-widgets/base",
            "_model_module_version": "1.2.0",
            "_model_name": "LayoutModel",
            "_view_count": null,
            "_view_module": "@jupyter-widgets/base",
            "_view_module_version": "1.2.0",
            "_view_name": "LayoutView",
            "align_content": null,
            "align_items": null,
            "align_self": null,
            "border": null,
            "bottom": null,
            "display": null,
            "flex": null,
            "flex_flow": null,
            "grid_area": null,
            "grid_auto_columns": null,
            "grid_auto_flow": null,
            "grid_auto_rows": null,
            "grid_column": null,
            "grid_gap": null,
            "grid_row": null,
            "grid_template_areas": null,
            "grid_template_columns": null,
            "grid_template_rows": null,
            "height": null,
            "justify_content": null,
            "justify_items": null,
            "left": null,
            "margin": null,
            "max_height": null,
            "max_width": null,
            "min_height": null,
            "min_width": null,
            "object_fit": null,
            "object_position": null,
            "order": null,
            "overflow": null,
            "overflow_x": null,
            "overflow_y": null,
            "padding": null,
            "right": null,
            "top": null,
            "visibility": null,
            "width": null
          }
        },
        "ce8f25b153af41d3ae6a9e9ab3549ac6": {
          "model_module": "@jupyter-widgets/base",
          "model_name": "LayoutModel",
          "model_module_version": "1.2.0",
          "state": {
            "_model_module": "@jupyter-widgets/base",
            "_model_module_version": "1.2.0",
            "_model_name": "LayoutModel",
            "_view_count": null,
            "_view_module": "@jupyter-widgets/base",
            "_view_module_version": "1.2.0",
            "_view_name": "LayoutView",
            "align_content": null,
            "align_items": null,
            "align_self": null,
            "border": null,
            "bottom": null,
            "display": null,
            "flex": null,
            "flex_flow": null,
            "grid_area": null,
            "grid_auto_columns": null,
            "grid_auto_flow": null,
            "grid_auto_rows": null,
            "grid_column": null,
            "grid_gap": null,
            "grid_row": null,
            "grid_template_areas": null,
            "grid_template_columns": null,
            "grid_template_rows": null,
            "height": null,
            "justify_content": null,
            "justify_items": null,
            "left": null,
            "margin": null,
            "max_height": null,
            "max_width": null,
            "min_height": null,
            "min_width": null,
            "object_fit": null,
            "object_position": null,
            "order": null,
            "overflow": null,
            "overflow_x": null,
            "overflow_y": null,
            "padding": null,
            "right": null,
            "top": null,
            "visibility": null,
            "width": null
          }
        },
        "34754b70cd4f4dc288575e0a4b9809cf": {
          "model_module": "@jupyter-widgets/controls",
          "model_name": "DescriptionStyleModel",
          "model_module_version": "1.5.0",
          "state": {
            "_model_module": "@jupyter-widgets/controls",
            "_model_module_version": "1.5.0",
            "_model_name": "DescriptionStyleModel",
            "_view_count": null,
            "_view_module": "@jupyter-widgets/base",
            "_view_module_version": "1.2.0",
            "_view_name": "StyleView",
            "description_width": ""
          }
        },
        "e5be3e8f28234367a94512e3fd1a1fea": {
          "model_module": "@jupyter-widgets/base",
          "model_name": "LayoutModel",
          "model_module_version": "1.2.0",
          "state": {
            "_model_module": "@jupyter-widgets/base",
            "_model_module_version": "1.2.0",
            "_model_name": "LayoutModel",
            "_view_count": null,
            "_view_module": "@jupyter-widgets/base",
            "_view_module_version": "1.2.0",
            "_view_name": "LayoutView",
            "align_content": null,
            "align_items": null,
            "align_self": null,
            "border": null,
            "bottom": null,
            "display": null,
            "flex": null,
            "flex_flow": null,
            "grid_area": null,
            "grid_auto_columns": null,
            "grid_auto_flow": null,
            "grid_auto_rows": null,
            "grid_column": null,
            "grid_gap": null,
            "grid_row": null,
            "grid_template_areas": null,
            "grid_template_columns": null,
            "grid_template_rows": null,
            "height": null,
            "justify_content": null,
            "justify_items": null,
            "left": null,
            "margin": null,
            "max_height": null,
            "max_width": null,
            "min_height": null,
            "min_width": null,
            "object_fit": null,
            "object_position": null,
            "order": null,
            "overflow": null,
            "overflow_x": null,
            "overflow_y": null,
            "padding": null,
            "right": null,
            "top": null,
            "visibility": null,
            "width": null
          }
        },
        "a8bc4f430a16421c92a3176c75da0ca5": {
          "model_module": "@jupyter-widgets/controls",
          "model_name": "ProgressStyleModel",
          "model_module_version": "1.5.0",
          "state": {
            "_model_module": "@jupyter-widgets/controls",
            "_model_module_version": "1.5.0",
            "_model_name": "ProgressStyleModel",
            "_view_count": null,
            "_view_module": "@jupyter-widgets/base",
            "_view_module_version": "1.2.0",
            "_view_name": "StyleView",
            "bar_color": null,
            "description_width": ""
          }
        },
        "bbb7b95e5b7e4921910fc013e45cb327": {
          "model_module": "@jupyter-widgets/base",
          "model_name": "LayoutModel",
          "model_module_version": "1.2.0",
          "state": {
            "_model_module": "@jupyter-widgets/base",
            "_model_module_version": "1.2.0",
            "_model_name": "LayoutModel",
            "_view_count": null,
            "_view_module": "@jupyter-widgets/base",
            "_view_module_version": "1.2.0",
            "_view_name": "LayoutView",
            "align_content": null,
            "align_items": null,
            "align_self": null,
            "border": null,
            "bottom": null,
            "display": null,
            "flex": null,
            "flex_flow": null,
            "grid_area": null,
            "grid_auto_columns": null,
            "grid_auto_flow": null,
            "grid_auto_rows": null,
            "grid_column": null,
            "grid_gap": null,
            "grid_row": null,
            "grid_template_areas": null,
            "grid_template_columns": null,
            "grid_template_rows": null,
            "height": null,
            "justify_content": null,
            "justify_items": null,
            "left": null,
            "margin": null,
            "max_height": null,
            "max_width": null,
            "min_height": null,
            "min_width": null,
            "object_fit": null,
            "object_position": null,
            "order": null,
            "overflow": null,
            "overflow_x": null,
            "overflow_y": null,
            "padding": null,
            "right": null,
            "top": null,
            "visibility": null,
            "width": null
          }
        },
        "96b7ff90284f4bd4901801a78ba8991b": {
          "model_module": "@jupyter-widgets/controls",
          "model_name": "DescriptionStyleModel",
          "model_module_version": "1.5.0",
          "state": {
            "_model_module": "@jupyter-widgets/controls",
            "_model_module_version": "1.5.0",
            "_model_name": "DescriptionStyleModel",
            "_view_count": null,
            "_view_module": "@jupyter-widgets/base",
            "_view_module_version": "1.2.0",
            "_view_name": "StyleView",
            "description_width": ""
          }
        },
        "e9c332aa66ca41a3b37be826d1081b91": {
          "model_module": "@jupyter-widgets/controls",
          "model_name": "VBoxModel",
          "model_module_version": "1.5.0",
          "state": {
            "_dom_classes": [],
            "_model_module": "@jupyter-widgets/controls",
            "_model_module_version": "1.5.0",
            "_model_name": "VBoxModel",
            "_view_count": null,
            "_view_module": "@jupyter-widgets/controls",
            "_view_module_version": "1.5.0",
            "_view_name": "VBoxView",
            "box_style": "",
            "children": [
              "IPY_MODEL_2f9b4a13c5a84ea79836451fb4a4be13",
              "IPY_MODEL_6fc9b67916314e1fb748a4234fa0aae4",
              "IPY_MODEL_d60a9e31fa9d413a9def0353dd3a6f10",
              "IPY_MODEL_67e641f46107493a8f120eb8d0cce10e"
            ],
            "layout": "IPY_MODEL_27b7d48d010a42dfa37c99fba5bc0e5d"
          }
        },
        "7e232114ea044c9c993f1a66e14deceb": {
          "model_module": "@jupyter-widgets/controls",
          "model_name": "HTMLModel",
          "model_module_version": "1.5.0",
          "state": {
            "_dom_classes": [],
            "_model_module": "@jupyter-widgets/controls",
            "_model_module_version": "1.5.0",
            "_model_name": "HTMLModel",
            "_view_count": null,
            "_view_module": "@jupyter-widgets/controls",
            "_view_module_version": "1.5.0",
            "_view_name": "HTMLView",
            "description": "",
            "description_tooltip": null,
            "layout": "IPY_MODEL_4b677341751f4862b4bb2566e8d7f2af",
            "placeholder": "​",
            "style": "IPY_MODEL_1a7baab5a1ad475bb6217c5c50dc1a1d",
            "value": "<center> <img\nsrc=https://huggingface.co/front/assets/huggingface_logo-noborder.svg\nalt='Hugging Face'> <br> Copy a token from <a\nhref=\"https://huggingface.co/settings/tokens\" target=\"_blank\">your Hugging Face\ntokens page</a> and paste it below. <br> Immediately click login after copying\nyour token or it might be stored in plain text in this notebook file. </center>"
          }
        },
        "f3af211d42034436b8176a261c0b7d63": {
          "model_module": "@jupyter-widgets/controls",
          "model_name": "PasswordModel",
          "model_module_version": "1.5.0",
          "state": {
            "_dom_classes": [],
            "_model_module": "@jupyter-widgets/controls",
            "_model_module_version": "1.5.0",
            "_model_name": "PasswordModel",
            "_view_count": null,
            "_view_module": "@jupyter-widgets/controls",
            "_view_module_version": "1.5.0",
            "_view_name": "PasswordView",
            "continuous_update": true,
            "description": "Token:",
            "description_tooltip": null,
            "disabled": false,
            "layout": "IPY_MODEL_e3ea0b1d080a47049ad37f29af08995d",
            "placeholder": "​",
            "style": "IPY_MODEL_4aab5398fe914cf89c2d2a41e5a6b37d",
            "value": ""
          }
        },
        "14fac1e3525445798d342a527d4b467b": {
          "model_module": "@jupyter-widgets/controls",
          "model_name": "CheckboxModel",
          "model_module_version": "1.5.0",
          "state": {
            "_dom_classes": [],
            "_model_module": "@jupyter-widgets/controls",
            "_model_module_version": "1.5.0",
            "_model_name": "CheckboxModel",
            "_view_count": null,
            "_view_module": "@jupyter-widgets/controls",
            "_view_module_version": "1.5.0",
            "_view_name": "CheckboxView",
            "description": "Add token as git credential?",
            "description_tooltip": null,
            "disabled": false,
            "indent": true,
            "layout": "IPY_MODEL_5fbf6d728151418e984967b4de520200",
            "style": "IPY_MODEL_5d6a4ed6d8424ebf85c709029ab05366",
            "value": true
          }
        },
        "42b53fe88e6c4684934b3d7ce6c9c487": {
          "model_module": "@jupyter-widgets/controls",
          "model_name": "ButtonModel",
          "model_module_version": "1.5.0",
          "state": {
            "_dom_classes": [],
            "_model_module": "@jupyter-widgets/controls",
            "_model_module_version": "1.5.0",
            "_model_name": "ButtonModel",
            "_view_count": null,
            "_view_module": "@jupyter-widgets/controls",
            "_view_module_version": "1.5.0",
            "_view_name": "ButtonView",
            "button_style": "",
            "description": "Login",
            "disabled": false,
            "icon": "",
            "layout": "IPY_MODEL_7e07c421a2f14ca9884d15c80fc93232",
            "style": "IPY_MODEL_e5a4d2d6e63948bd91c4b6b196f57d0d",
            "tooltip": ""
          }
        },
        "a2c2b86f866d4268acdf00b45f0186dc": {
          "model_module": "@jupyter-widgets/controls",
          "model_name": "HTMLModel",
          "model_module_version": "1.5.0",
          "state": {
            "_dom_classes": [],
            "_model_module": "@jupyter-widgets/controls",
            "_model_module_version": "1.5.0",
            "_model_name": "HTMLModel",
            "_view_count": null,
            "_view_module": "@jupyter-widgets/controls",
            "_view_module_version": "1.5.0",
            "_view_name": "HTMLView",
            "description": "",
            "description_tooltip": null,
            "layout": "IPY_MODEL_e7b6617e91c34221965f2a151341df26",
            "placeholder": "​",
            "style": "IPY_MODEL_a90dfa1d1656413facf69f995634101a",
            "value": "\n<b>Pro Tip:</b> If you don't already have one, you can create a dedicated\n'notebooks' token with 'write' access, that you can then easily reuse for all\nnotebooks. </center>"
          }
        },
        "27b7d48d010a42dfa37c99fba5bc0e5d": {
          "model_module": "@jupyter-widgets/base",
          "model_name": "LayoutModel",
          "model_module_version": "1.2.0",
          "state": {
            "_model_module": "@jupyter-widgets/base",
            "_model_module_version": "1.2.0",
            "_model_name": "LayoutModel",
            "_view_count": null,
            "_view_module": "@jupyter-widgets/base",
            "_view_module_version": "1.2.0",
            "_view_name": "LayoutView",
            "align_content": null,
            "align_items": "center",
            "align_self": null,
            "border": null,
            "bottom": null,
            "display": "flex",
            "flex": null,
            "flex_flow": "column",
            "grid_area": null,
            "grid_auto_columns": null,
            "grid_auto_flow": null,
            "grid_auto_rows": null,
            "grid_column": null,
            "grid_gap": null,
            "grid_row": null,
            "grid_template_areas": null,
            "grid_template_columns": null,
            "grid_template_rows": null,
            "height": null,
            "justify_content": null,
            "justify_items": null,
            "left": null,
            "margin": null,
            "max_height": null,
            "max_width": null,
            "min_height": null,
            "min_width": null,
            "object_fit": null,
            "object_position": null,
            "order": null,
            "overflow": null,
            "overflow_x": null,
            "overflow_y": null,
            "padding": null,
            "right": null,
            "top": null,
            "visibility": null,
            "width": "50%"
          }
        },
        "4b677341751f4862b4bb2566e8d7f2af": {
          "model_module": "@jupyter-widgets/base",
          "model_name": "LayoutModel",
          "model_module_version": "1.2.0",
          "state": {
            "_model_module": "@jupyter-widgets/base",
            "_model_module_version": "1.2.0",
            "_model_name": "LayoutModel",
            "_view_count": null,
            "_view_module": "@jupyter-widgets/base",
            "_view_module_version": "1.2.0",
            "_view_name": "LayoutView",
            "align_content": null,
            "align_items": null,
            "align_self": null,
            "border": null,
            "bottom": null,
            "display": null,
            "flex": null,
            "flex_flow": null,
            "grid_area": null,
            "grid_auto_columns": null,
            "grid_auto_flow": null,
            "grid_auto_rows": null,
            "grid_column": null,
            "grid_gap": null,
            "grid_row": null,
            "grid_template_areas": null,
            "grid_template_columns": null,
            "grid_template_rows": null,
            "height": null,
            "justify_content": null,
            "justify_items": null,
            "left": null,
            "margin": null,
            "max_height": null,
            "max_width": null,
            "min_height": null,
            "min_width": null,
            "object_fit": null,
            "object_position": null,
            "order": null,
            "overflow": null,
            "overflow_x": null,
            "overflow_y": null,
            "padding": null,
            "right": null,
            "top": null,
            "visibility": null,
            "width": null
          }
        },
        "1a7baab5a1ad475bb6217c5c50dc1a1d": {
          "model_module": "@jupyter-widgets/controls",
          "model_name": "DescriptionStyleModel",
          "model_module_version": "1.5.0",
          "state": {
            "_model_module": "@jupyter-widgets/controls",
            "_model_module_version": "1.5.0",
            "_model_name": "DescriptionStyleModel",
            "_view_count": null,
            "_view_module": "@jupyter-widgets/base",
            "_view_module_version": "1.2.0",
            "_view_name": "StyleView",
            "description_width": ""
          }
        },
        "e3ea0b1d080a47049ad37f29af08995d": {
          "model_module": "@jupyter-widgets/base",
          "model_name": "LayoutModel",
          "model_module_version": "1.2.0",
          "state": {
            "_model_module": "@jupyter-widgets/base",
            "_model_module_version": "1.2.0",
            "_model_name": "LayoutModel",
            "_view_count": null,
            "_view_module": "@jupyter-widgets/base",
            "_view_module_version": "1.2.0",
            "_view_name": "LayoutView",
            "align_content": null,
            "align_items": null,
            "align_self": null,
            "border": null,
            "bottom": null,
            "display": null,
            "flex": null,
            "flex_flow": null,
            "grid_area": null,
            "grid_auto_columns": null,
            "grid_auto_flow": null,
            "grid_auto_rows": null,
            "grid_column": null,
            "grid_gap": null,
            "grid_row": null,
            "grid_template_areas": null,
            "grid_template_columns": null,
            "grid_template_rows": null,
            "height": null,
            "justify_content": null,
            "justify_items": null,
            "left": null,
            "margin": null,
            "max_height": null,
            "max_width": null,
            "min_height": null,
            "min_width": null,
            "object_fit": null,
            "object_position": null,
            "order": null,
            "overflow": null,
            "overflow_x": null,
            "overflow_y": null,
            "padding": null,
            "right": null,
            "top": null,
            "visibility": null,
            "width": null
          }
        },
        "4aab5398fe914cf89c2d2a41e5a6b37d": {
          "model_module": "@jupyter-widgets/controls",
          "model_name": "DescriptionStyleModel",
          "model_module_version": "1.5.0",
          "state": {
            "_model_module": "@jupyter-widgets/controls",
            "_model_module_version": "1.5.0",
            "_model_name": "DescriptionStyleModel",
            "_view_count": null,
            "_view_module": "@jupyter-widgets/base",
            "_view_module_version": "1.2.0",
            "_view_name": "StyleView",
            "description_width": ""
          }
        },
        "5fbf6d728151418e984967b4de520200": {
          "model_module": "@jupyter-widgets/base",
          "model_name": "LayoutModel",
          "model_module_version": "1.2.0",
          "state": {
            "_model_module": "@jupyter-widgets/base",
            "_model_module_version": "1.2.0",
            "_model_name": "LayoutModel",
            "_view_count": null,
            "_view_module": "@jupyter-widgets/base",
            "_view_module_version": "1.2.0",
            "_view_name": "LayoutView",
            "align_content": null,
            "align_items": null,
            "align_self": null,
            "border": null,
            "bottom": null,
            "display": null,
            "flex": null,
            "flex_flow": null,
            "grid_area": null,
            "grid_auto_columns": null,
            "grid_auto_flow": null,
            "grid_auto_rows": null,
            "grid_column": null,
            "grid_gap": null,
            "grid_row": null,
            "grid_template_areas": null,
            "grid_template_columns": null,
            "grid_template_rows": null,
            "height": null,
            "justify_content": null,
            "justify_items": null,
            "left": null,
            "margin": null,
            "max_height": null,
            "max_width": null,
            "min_height": null,
            "min_width": null,
            "object_fit": null,
            "object_position": null,
            "order": null,
            "overflow": null,
            "overflow_x": null,
            "overflow_y": null,
            "padding": null,
            "right": null,
            "top": null,
            "visibility": null,
            "width": null
          }
        },
        "5d6a4ed6d8424ebf85c709029ab05366": {
          "model_module": "@jupyter-widgets/controls",
          "model_name": "DescriptionStyleModel",
          "model_module_version": "1.5.0",
          "state": {
            "_model_module": "@jupyter-widgets/controls",
            "_model_module_version": "1.5.0",
            "_model_name": "DescriptionStyleModel",
            "_view_count": null,
            "_view_module": "@jupyter-widgets/base",
            "_view_module_version": "1.2.0",
            "_view_name": "StyleView",
            "description_width": ""
          }
        },
        "7e07c421a2f14ca9884d15c80fc93232": {
          "model_module": "@jupyter-widgets/base",
          "model_name": "LayoutModel",
          "model_module_version": "1.2.0",
          "state": {
            "_model_module": "@jupyter-widgets/base",
            "_model_module_version": "1.2.0",
            "_model_name": "LayoutModel",
            "_view_count": null,
            "_view_module": "@jupyter-widgets/base",
            "_view_module_version": "1.2.0",
            "_view_name": "LayoutView",
            "align_content": null,
            "align_items": null,
            "align_self": null,
            "border": null,
            "bottom": null,
            "display": null,
            "flex": null,
            "flex_flow": null,
            "grid_area": null,
            "grid_auto_columns": null,
            "grid_auto_flow": null,
            "grid_auto_rows": null,
            "grid_column": null,
            "grid_gap": null,
            "grid_row": null,
            "grid_template_areas": null,
            "grid_template_columns": null,
            "grid_template_rows": null,
            "height": null,
            "justify_content": null,
            "justify_items": null,
            "left": null,
            "margin": null,
            "max_height": null,
            "max_width": null,
            "min_height": null,
            "min_width": null,
            "object_fit": null,
            "object_position": null,
            "order": null,
            "overflow": null,
            "overflow_x": null,
            "overflow_y": null,
            "padding": null,
            "right": null,
            "top": null,
            "visibility": null,
            "width": null
          }
        },
        "e5a4d2d6e63948bd91c4b6b196f57d0d": {
          "model_module": "@jupyter-widgets/controls",
          "model_name": "ButtonStyleModel",
          "model_module_version": "1.5.0",
          "state": {
            "_model_module": "@jupyter-widgets/controls",
            "_model_module_version": "1.5.0",
            "_model_name": "ButtonStyleModel",
            "_view_count": null,
            "_view_module": "@jupyter-widgets/base",
            "_view_module_version": "1.2.0",
            "_view_name": "StyleView",
            "button_color": null,
            "font_weight": ""
          }
        },
        "e7b6617e91c34221965f2a151341df26": {
          "model_module": "@jupyter-widgets/base",
          "model_name": "LayoutModel",
          "model_module_version": "1.2.0",
          "state": {
            "_model_module": "@jupyter-widgets/base",
            "_model_module_version": "1.2.0",
            "_model_name": "LayoutModel",
            "_view_count": null,
            "_view_module": "@jupyter-widgets/base",
            "_view_module_version": "1.2.0",
            "_view_name": "LayoutView",
            "align_content": null,
            "align_items": null,
            "align_self": null,
            "border": null,
            "bottom": null,
            "display": null,
            "flex": null,
            "flex_flow": null,
            "grid_area": null,
            "grid_auto_columns": null,
            "grid_auto_flow": null,
            "grid_auto_rows": null,
            "grid_column": null,
            "grid_gap": null,
            "grid_row": null,
            "grid_template_areas": null,
            "grid_template_columns": null,
            "grid_template_rows": null,
            "height": null,
            "justify_content": null,
            "justify_items": null,
            "left": null,
            "margin": null,
            "max_height": null,
            "max_width": null,
            "min_height": null,
            "min_width": null,
            "object_fit": null,
            "object_position": null,
            "order": null,
            "overflow": null,
            "overflow_x": null,
            "overflow_y": null,
            "padding": null,
            "right": null,
            "top": null,
            "visibility": null,
            "width": null
          }
        },
        "a90dfa1d1656413facf69f995634101a": {
          "model_module": "@jupyter-widgets/controls",
          "model_name": "DescriptionStyleModel",
          "model_module_version": "1.5.0",
          "state": {
            "_model_module": "@jupyter-widgets/controls",
            "_model_module_version": "1.5.0",
            "_model_name": "DescriptionStyleModel",
            "_view_count": null,
            "_view_module": "@jupyter-widgets/base",
            "_view_module_version": "1.2.0",
            "_view_name": "StyleView",
            "description_width": ""
          }
        },
        "490c915893fe459c8cc10d0fd9fc9eb0": {
          "model_module": "@jupyter-widgets/controls",
          "model_name": "LabelModel",
          "model_module_version": "1.5.0",
          "state": {
            "_dom_classes": [],
            "_model_module": "@jupyter-widgets/controls",
            "_model_module_version": "1.5.0",
            "_model_name": "LabelModel",
            "_view_count": null,
            "_view_module": "@jupyter-widgets/controls",
            "_view_module_version": "1.5.0",
            "_view_name": "LabelView",
            "description": "",
            "description_tooltip": null,
            "layout": "IPY_MODEL_ffed59c9d591473da884919d9f1f37e7",
            "placeholder": "​",
            "style": "IPY_MODEL_65966fdbd28444c98247d0af7286b275",
            "value": "Connecting..."
          }
        },
        "ffed59c9d591473da884919d9f1f37e7": {
          "model_module": "@jupyter-widgets/base",
          "model_name": "LayoutModel",
          "model_module_version": "1.2.0",
          "state": {
            "_model_module": "@jupyter-widgets/base",
            "_model_module_version": "1.2.0",
            "_model_name": "LayoutModel",
            "_view_count": null,
            "_view_module": "@jupyter-widgets/base",
            "_view_module_version": "1.2.0",
            "_view_name": "LayoutView",
            "align_content": null,
            "align_items": null,
            "align_self": null,
            "border": null,
            "bottom": null,
            "display": null,
            "flex": null,
            "flex_flow": null,
            "grid_area": null,
            "grid_auto_columns": null,
            "grid_auto_flow": null,
            "grid_auto_rows": null,
            "grid_column": null,
            "grid_gap": null,
            "grid_row": null,
            "grid_template_areas": null,
            "grid_template_columns": null,
            "grid_template_rows": null,
            "height": null,
            "justify_content": null,
            "justify_items": null,
            "left": null,
            "margin": null,
            "max_height": null,
            "max_width": null,
            "min_height": null,
            "min_width": null,
            "object_fit": null,
            "object_position": null,
            "order": null,
            "overflow": null,
            "overflow_x": null,
            "overflow_y": null,
            "padding": null,
            "right": null,
            "top": null,
            "visibility": null,
            "width": null
          }
        },
        "65966fdbd28444c98247d0af7286b275": {
          "model_module": "@jupyter-widgets/controls",
          "model_name": "DescriptionStyleModel",
          "model_module_version": "1.5.0",
          "state": {
            "_model_module": "@jupyter-widgets/controls",
            "_model_module_version": "1.5.0",
            "_model_name": "DescriptionStyleModel",
            "_view_count": null,
            "_view_module": "@jupyter-widgets/base",
            "_view_module_version": "1.2.0",
            "_view_name": "StyleView",
            "description_width": ""
          }
        },
        "2f9b4a13c5a84ea79836451fb4a4be13": {
          "model_module": "@jupyter-widgets/controls",
          "model_name": "LabelModel",
          "model_module_version": "1.5.0",
          "state": {
            "_dom_classes": [],
            "_model_module": "@jupyter-widgets/controls",
            "_model_module_version": "1.5.0",
            "_model_name": "LabelModel",
            "_view_count": null,
            "_view_module": "@jupyter-widgets/controls",
            "_view_module_version": "1.5.0",
            "_view_name": "LabelView",
            "description": "",
            "description_tooltip": null,
            "layout": "IPY_MODEL_a9adbc7786a14325ab253d9b64066ecd",
            "placeholder": "​",
            "style": "IPY_MODEL_aa23d64b92e542419f90d2ffbd95d17d",
            "value": "Token is valid (permission: write)."
          }
        },
        "6fc9b67916314e1fb748a4234fa0aae4": {
          "model_module": "@jupyter-widgets/controls",
          "model_name": "LabelModel",
          "model_module_version": "1.5.0",
          "state": {
            "_dom_classes": [],
            "_model_module": "@jupyter-widgets/controls",
            "_model_module_version": "1.5.0",
            "_model_name": "LabelModel",
            "_view_count": null,
            "_view_module": "@jupyter-widgets/controls",
            "_view_module_version": "1.5.0",
            "_view_name": "LabelView",
            "description": "",
            "description_tooltip": null,
            "layout": "IPY_MODEL_7b988a05fafa4c78a5f0b7f8b7a2ba76",
            "placeholder": "​",
            "style": "IPY_MODEL_578907e341a94ce882b34564576869b9",
            "value": "Your token has been saved in your configured git credential helpers (store)."
          }
        },
        "d60a9e31fa9d413a9def0353dd3a6f10": {
          "model_module": "@jupyter-widgets/controls",
          "model_name": "LabelModel",
          "model_module_version": "1.5.0",
          "state": {
            "_dom_classes": [],
            "_model_module": "@jupyter-widgets/controls",
            "_model_module_version": "1.5.0",
            "_model_name": "LabelModel",
            "_view_count": null,
            "_view_module": "@jupyter-widgets/controls",
            "_view_module_version": "1.5.0",
            "_view_name": "LabelView",
            "description": "",
            "description_tooltip": null,
            "layout": "IPY_MODEL_6ccc3a7dfcbd455f8a798c6c93fe363b",
            "placeholder": "​",
            "style": "IPY_MODEL_6fd7f69f33c046118a5a1c4753baa53f",
            "value": "Your token has been saved to /root/.cache/huggingface/token"
          }
        },
        "67e641f46107493a8f120eb8d0cce10e": {
          "model_module": "@jupyter-widgets/controls",
          "model_name": "LabelModel",
          "model_module_version": "1.5.0",
          "state": {
            "_dom_classes": [],
            "_model_module": "@jupyter-widgets/controls",
            "_model_module_version": "1.5.0",
            "_model_name": "LabelModel",
            "_view_count": null,
            "_view_module": "@jupyter-widgets/controls",
            "_view_module_version": "1.5.0",
            "_view_name": "LabelView",
            "description": "",
            "description_tooltip": null,
            "layout": "IPY_MODEL_c0c922bba53048edb62da5c14edb1f4a",
            "placeholder": "​",
            "style": "IPY_MODEL_8f6393b56cca40a3998038e35d5951cc",
            "value": "Login successful"
          }
        },
        "a9adbc7786a14325ab253d9b64066ecd": {
          "model_module": "@jupyter-widgets/base",
          "model_name": "LayoutModel",
          "model_module_version": "1.2.0",
          "state": {
            "_model_module": "@jupyter-widgets/base",
            "_model_module_version": "1.2.0",
            "_model_name": "LayoutModel",
            "_view_count": null,
            "_view_module": "@jupyter-widgets/base",
            "_view_module_version": "1.2.0",
            "_view_name": "LayoutView",
            "align_content": null,
            "align_items": null,
            "align_self": null,
            "border": null,
            "bottom": null,
            "display": null,
            "flex": null,
            "flex_flow": null,
            "grid_area": null,
            "grid_auto_columns": null,
            "grid_auto_flow": null,
            "grid_auto_rows": null,
            "grid_column": null,
            "grid_gap": null,
            "grid_row": null,
            "grid_template_areas": null,
            "grid_template_columns": null,
            "grid_template_rows": null,
            "height": null,
            "justify_content": null,
            "justify_items": null,
            "left": null,
            "margin": null,
            "max_height": null,
            "max_width": null,
            "min_height": null,
            "min_width": null,
            "object_fit": null,
            "object_position": null,
            "order": null,
            "overflow": null,
            "overflow_x": null,
            "overflow_y": null,
            "padding": null,
            "right": null,
            "top": null,
            "visibility": null,
            "width": null
          }
        },
        "aa23d64b92e542419f90d2ffbd95d17d": {
          "model_module": "@jupyter-widgets/controls",
          "model_name": "DescriptionStyleModel",
          "model_module_version": "1.5.0",
          "state": {
            "_model_module": "@jupyter-widgets/controls",
            "_model_module_version": "1.5.0",
            "_model_name": "DescriptionStyleModel",
            "_view_count": null,
            "_view_module": "@jupyter-widgets/base",
            "_view_module_version": "1.2.0",
            "_view_name": "StyleView",
            "description_width": ""
          }
        },
        "7b988a05fafa4c78a5f0b7f8b7a2ba76": {
          "model_module": "@jupyter-widgets/base",
          "model_name": "LayoutModel",
          "model_module_version": "1.2.0",
          "state": {
            "_model_module": "@jupyter-widgets/base",
            "_model_module_version": "1.2.0",
            "_model_name": "LayoutModel",
            "_view_count": null,
            "_view_module": "@jupyter-widgets/base",
            "_view_module_version": "1.2.0",
            "_view_name": "LayoutView",
            "align_content": null,
            "align_items": null,
            "align_self": null,
            "border": null,
            "bottom": null,
            "display": null,
            "flex": null,
            "flex_flow": null,
            "grid_area": null,
            "grid_auto_columns": null,
            "grid_auto_flow": null,
            "grid_auto_rows": null,
            "grid_column": null,
            "grid_gap": null,
            "grid_row": null,
            "grid_template_areas": null,
            "grid_template_columns": null,
            "grid_template_rows": null,
            "height": null,
            "justify_content": null,
            "justify_items": null,
            "left": null,
            "margin": null,
            "max_height": null,
            "max_width": null,
            "min_height": null,
            "min_width": null,
            "object_fit": null,
            "object_position": null,
            "order": null,
            "overflow": null,
            "overflow_x": null,
            "overflow_y": null,
            "padding": null,
            "right": null,
            "top": null,
            "visibility": null,
            "width": null
          }
        },
        "578907e341a94ce882b34564576869b9": {
          "model_module": "@jupyter-widgets/controls",
          "model_name": "DescriptionStyleModel",
          "model_module_version": "1.5.0",
          "state": {
            "_model_module": "@jupyter-widgets/controls",
            "_model_module_version": "1.5.0",
            "_model_name": "DescriptionStyleModel",
            "_view_count": null,
            "_view_module": "@jupyter-widgets/base",
            "_view_module_version": "1.2.0",
            "_view_name": "StyleView",
            "description_width": ""
          }
        },
        "6ccc3a7dfcbd455f8a798c6c93fe363b": {
          "model_module": "@jupyter-widgets/base",
          "model_name": "LayoutModel",
          "model_module_version": "1.2.0",
          "state": {
            "_model_module": "@jupyter-widgets/base",
            "_model_module_version": "1.2.0",
            "_model_name": "LayoutModel",
            "_view_count": null,
            "_view_module": "@jupyter-widgets/base",
            "_view_module_version": "1.2.0",
            "_view_name": "LayoutView",
            "align_content": null,
            "align_items": null,
            "align_self": null,
            "border": null,
            "bottom": null,
            "display": null,
            "flex": null,
            "flex_flow": null,
            "grid_area": null,
            "grid_auto_columns": null,
            "grid_auto_flow": null,
            "grid_auto_rows": null,
            "grid_column": null,
            "grid_gap": null,
            "grid_row": null,
            "grid_template_areas": null,
            "grid_template_columns": null,
            "grid_template_rows": null,
            "height": null,
            "justify_content": null,
            "justify_items": null,
            "left": null,
            "margin": null,
            "max_height": null,
            "max_width": null,
            "min_height": null,
            "min_width": null,
            "object_fit": null,
            "object_position": null,
            "order": null,
            "overflow": null,
            "overflow_x": null,
            "overflow_y": null,
            "padding": null,
            "right": null,
            "top": null,
            "visibility": null,
            "width": null
          }
        },
        "6fd7f69f33c046118a5a1c4753baa53f": {
          "model_module": "@jupyter-widgets/controls",
          "model_name": "DescriptionStyleModel",
          "model_module_version": "1.5.0",
          "state": {
            "_model_module": "@jupyter-widgets/controls",
            "_model_module_version": "1.5.0",
            "_model_name": "DescriptionStyleModel",
            "_view_count": null,
            "_view_module": "@jupyter-widgets/base",
            "_view_module_version": "1.2.0",
            "_view_name": "StyleView",
            "description_width": ""
          }
        },
        "c0c922bba53048edb62da5c14edb1f4a": {
          "model_module": "@jupyter-widgets/base",
          "model_name": "LayoutModel",
          "model_module_version": "1.2.0",
          "state": {
            "_model_module": "@jupyter-widgets/base",
            "_model_module_version": "1.2.0",
            "_model_name": "LayoutModel",
            "_view_count": null,
            "_view_module": "@jupyter-widgets/base",
            "_view_module_version": "1.2.0",
            "_view_name": "LayoutView",
            "align_content": null,
            "align_items": null,
            "align_self": null,
            "border": null,
            "bottom": null,
            "display": null,
            "flex": null,
            "flex_flow": null,
            "grid_area": null,
            "grid_auto_columns": null,
            "grid_auto_flow": null,
            "grid_auto_rows": null,
            "grid_column": null,
            "grid_gap": null,
            "grid_row": null,
            "grid_template_areas": null,
            "grid_template_columns": null,
            "grid_template_rows": null,
            "height": null,
            "justify_content": null,
            "justify_items": null,
            "left": null,
            "margin": null,
            "max_height": null,
            "max_width": null,
            "min_height": null,
            "min_width": null,
            "object_fit": null,
            "object_position": null,
            "order": null,
            "overflow": null,
            "overflow_x": null,
            "overflow_y": null,
            "padding": null,
            "right": null,
            "top": null,
            "visibility": null,
            "width": null
          }
        },
        "8f6393b56cca40a3998038e35d5951cc": {
          "model_module": "@jupyter-widgets/controls",
          "model_name": "DescriptionStyleModel",
          "model_module_version": "1.5.0",
          "state": {
            "_model_module": "@jupyter-widgets/controls",
            "_model_module_version": "1.5.0",
            "_model_name": "DescriptionStyleModel",
            "_view_count": null,
            "_view_module": "@jupyter-widgets/base",
            "_view_module_version": "1.2.0",
            "_view_name": "StyleView",
            "description_width": ""
          }
        },
        "96bcc2b63f1c4bfd9100912f1a3598e9": {
          "model_module": "@jupyter-widgets/controls",
          "model_name": "HBoxModel",
          "model_module_version": "1.5.0",
          "state": {
            "_dom_classes": [],
            "_model_module": "@jupyter-widgets/controls",
            "_model_module_version": "1.5.0",
            "_model_name": "HBoxModel",
            "_view_count": null,
            "_view_module": "@jupyter-widgets/controls",
            "_view_module_version": "1.5.0",
            "_view_name": "HBoxView",
            "box_style": "",
            "children": [
              "IPY_MODEL_4de9a9351fd54265b0af0a9188d79797",
              "IPY_MODEL_7a7fffcd3b6f4f9a90fe9b3bd6536643",
              "IPY_MODEL_b8a8d0db899f4b06b4aa695e13797a99"
            ],
            "layout": "IPY_MODEL_0da93a55b9ef44bcbc72f4e857e86145"
          }
        },
        "4de9a9351fd54265b0af0a9188d79797": {
          "model_module": "@jupyter-widgets/controls",
          "model_name": "HTMLModel",
          "model_module_version": "1.5.0",
          "state": {
            "_dom_classes": [],
            "_model_module": "@jupyter-widgets/controls",
            "_model_module_version": "1.5.0",
            "_model_name": "HTMLModel",
            "_view_count": null,
            "_view_module": "@jupyter-widgets/controls",
            "_view_module_version": "1.5.0",
            "_view_name": "HTMLView",
            "description": "",
            "description_tooltip": null,
            "layout": "IPY_MODEL_9d0f2b62fc66406e836b11517ec85ac3",
            "placeholder": "​",
            "style": "IPY_MODEL_e016500f6d46436da1faf3c993105ee0",
            "value": "model.safetensors: 100%"
          }
        },
        "7a7fffcd3b6f4f9a90fe9b3bd6536643": {
          "model_module": "@jupyter-widgets/controls",
          "model_name": "FloatProgressModel",
          "model_module_version": "1.5.0",
          "state": {
            "_dom_classes": [],
            "_model_module": "@jupyter-widgets/controls",
            "_model_module_version": "1.5.0",
            "_model_name": "FloatProgressModel",
            "_view_count": null,
            "_view_module": "@jupyter-widgets/controls",
            "_view_module_version": "1.5.0",
            "_view_name": "ProgressView",
            "bar_style": "success",
            "description": "",
            "description_tooltip": null,
            "layout": "IPY_MODEL_84580491551f4603aed6f49ceb9237f6",
            "max": 1109891640,
            "min": 0,
            "orientation": "horizontal",
            "style": "IPY_MODEL_bac43cc7cf56496c84497cfb429d47a2",
            "value": 1109891640
          }
        },
        "b8a8d0db899f4b06b4aa695e13797a99": {
          "model_module": "@jupyter-widgets/controls",
          "model_name": "HTMLModel",
          "model_module_version": "1.5.0",
          "state": {
            "_dom_classes": [],
            "_model_module": "@jupyter-widgets/controls",
            "_model_module_version": "1.5.0",
            "_model_name": "HTMLModel",
            "_view_count": null,
            "_view_module": "@jupyter-widgets/controls",
            "_view_module_version": "1.5.0",
            "_view_name": "HTMLView",
            "description": "",
            "description_tooltip": null,
            "layout": "IPY_MODEL_fb3dcd53378349c490447cb23d4f2c33",
            "placeholder": "​",
            "style": "IPY_MODEL_1b811a18c97b493ea07144cf2390e746",
            "value": " 1.11G/1.11G [00:29&lt;00:00, 46.2MB/s]"
          }
        },
        "0da93a55b9ef44bcbc72f4e857e86145": {
          "model_module": "@jupyter-widgets/base",
          "model_name": "LayoutModel",
          "model_module_version": "1.2.0",
          "state": {
            "_model_module": "@jupyter-widgets/base",
            "_model_module_version": "1.2.0",
            "_model_name": "LayoutModel",
            "_view_count": null,
            "_view_module": "@jupyter-widgets/base",
            "_view_module_version": "1.2.0",
            "_view_name": "LayoutView",
            "align_content": null,
            "align_items": null,
            "align_self": null,
            "border": null,
            "bottom": null,
            "display": null,
            "flex": null,
            "flex_flow": null,
            "grid_area": null,
            "grid_auto_columns": null,
            "grid_auto_flow": null,
            "grid_auto_rows": null,
            "grid_column": null,
            "grid_gap": null,
            "grid_row": null,
            "grid_template_areas": null,
            "grid_template_columns": null,
            "grid_template_rows": null,
            "height": null,
            "justify_content": null,
            "justify_items": null,
            "left": null,
            "margin": null,
            "max_height": null,
            "max_width": null,
            "min_height": null,
            "min_width": null,
            "object_fit": null,
            "object_position": null,
            "order": null,
            "overflow": null,
            "overflow_x": null,
            "overflow_y": null,
            "padding": null,
            "right": null,
            "top": null,
            "visibility": null,
            "width": null
          }
        },
        "9d0f2b62fc66406e836b11517ec85ac3": {
          "model_module": "@jupyter-widgets/base",
          "model_name": "LayoutModel",
          "model_module_version": "1.2.0",
          "state": {
            "_model_module": "@jupyter-widgets/base",
            "_model_module_version": "1.2.0",
            "_model_name": "LayoutModel",
            "_view_count": null,
            "_view_module": "@jupyter-widgets/base",
            "_view_module_version": "1.2.0",
            "_view_name": "LayoutView",
            "align_content": null,
            "align_items": null,
            "align_self": null,
            "border": null,
            "bottom": null,
            "display": null,
            "flex": null,
            "flex_flow": null,
            "grid_area": null,
            "grid_auto_columns": null,
            "grid_auto_flow": null,
            "grid_auto_rows": null,
            "grid_column": null,
            "grid_gap": null,
            "grid_row": null,
            "grid_template_areas": null,
            "grid_template_columns": null,
            "grid_template_rows": null,
            "height": null,
            "justify_content": null,
            "justify_items": null,
            "left": null,
            "margin": null,
            "max_height": null,
            "max_width": null,
            "min_height": null,
            "min_width": null,
            "object_fit": null,
            "object_position": null,
            "order": null,
            "overflow": null,
            "overflow_x": null,
            "overflow_y": null,
            "padding": null,
            "right": null,
            "top": null,
            "visibility": null,
            "width": null
          }
        },
        "e016500f6d46436da1faf3c993105ee0": {
          "model_module": "@jupyter-widgets/controls",
          "model_name": "DescriptionStyleModel",
          "model_module_version": "1.5.0",
          "state": {
            "_model_module": "@jupyter-widgets/controls",
            "_model_module_version": "1.5.0",
            "_model_name": "DescriptionStyleModel",
            "_view_count": null,
            "_view_module": "@jupyter-widgets/base",
            "_view_module_version": "1.2.0",
            "_view_name": "StyleView",
            "description_width": ""
          }
        },
        "84580491551f4603aed6f49ceb9237f6": {
          "model_module": "@jupyter-widgets/base",
          "model_name": "LayoutModel",
          "model_module_version": "1.2.0",
          "state": {
            "_model_module": "@jupyter-widgets/base",
            "_model_module_version": "1.2.0",
            "_model_name": "LayoutModel",
            "_view_count": null,
            "_view_module": "@jupyter-widgets/base",
            "_view_module_version": "1.2.0",
            "_view_name": "LayoutView",
            "align_content": null,
            "align_items": null,
            "align_self": null,
            "border": null,
            "bottom": null,
            "display": null,
            "flex": null,
            "flex_flow": null,
            "grid_area": null,
            "grid_auto_columns": null,
            "grid_auto_flow": null,
            "grid_auto_rows": null,
            "grid_column": null,
            "grid_gap": null,
            "grid_row": null,
            "grid_template_areas": null,
            "grid_template_columns": null,
            "grid_template_rows": null,
            "height": null,
            "justify_content": null,
            "justify_items": null,
            "left": null,
            "margin": null,
            "max_height": null,
            "max_width": null,
            "min_height": null,
            "min_width": null,
            "object_fit": null,
            "object_position": null,
            "order": null,
            "overflow": null,
            "overflow_x": null,
            "overflow_y": null,
            "padding": null,
            "right": null,
            "top": null,
            "visibility": null,
            "width": null
          }
        },
        "bac43cc7cf56496c84497cfb429d47a2": {
          "model_module": "@jupyter-widgets/controls",
          "model_name": "ProgressStyleModel",
          "model_module_version": "1.5.0",
          "state": {
            "_model_module": "@jupyter-widgets/controls",
            "_model_module_version": "1.5.0",
            "_model_name": "ProgressStyleModel",
            "_view_count": null,
            "_view_module": "@jupyter-widgets/base",
            "_view_module_version": "1.2.0",
            "_view_name": "StyleView",
            "bar_color": null,
            "description_width": ""
          }
        },
        "fb3dcd53378349c490447cb23d4f2c33": {
          "model_module": "@jupyter-widgets/base",
          "model_name": "LayoutModel",
          "model_module_version": "1.2.0",
          "state": {
            "_model_module": "@jupyter-widgets/base",
            "_model_module_version": "1.2.0",
            "_model_name": "LayoutModel",
            "_view_count": null,
            "_view_module": "@jupyter-widgets/base",
            "_view_module_version": "1.2.0",
            "_view_name": "LayoutView",
            "align_content": null,
            "align_items": null,
            "align_self": null,
            "border": null,
            "bottom": null,
            "display": null,
            "flex": null,
            "flex_flow": null,
            "grid_area": null,
            "grid_auto_columns": null,
            "grid_auto_flow": null,
            "grid_auto_rows": null,
            "grid_column": null,
            "grid_gap": null,
            "grid_row": null,
            "grid_template_areas": null,
            "grid_template_columns": null,
            "grid_template_rows": null,
            "height": null,
            "justify_content": null,
            "justify_items": null,
            "left": null,
            "margin": null,
            "max_height": null,
            "max_width": null,
            "min_height": null,
            "min_width": null,
            "object_fit": null,
            "object_position": null,
            "order": null,
            "overflow": null,
            "overflow_x": null,
            "overflow_y": null,
            "padding": null,
            "right": null,
            "top": null,
            "visibility": null,
            "width": null
          }
        },
        "1b811a18c97b493ea07144cf2390e746": {
          "model_module": "@jupyter-widgets/controls",
          "model_name": "DescriptionStyleModel",
          "model_module_version": "1.5.0",
          "state": {
            "_model_module": "@jupyter-widgets/controls",
            "_model_module_version": "1.5.0",
            "_model_name": "DescriptionStyleModel",
            "_view_count": null,
            "_view_module": "@jupyter-widgets/base",
            "_view_module_version": "1.2.0",
            "_view_name": "StyleView",
            "description_width": ""
          }
        },
        "ba4a0aeab0924a318ecc45ab6d2caebb": {
          "model_module": "@jupyter-widgets/controls",
          "model_name": "HBoxModel",
          "model_module_version": "1.5.0",
          "state": {
            "_dom_classes": [],
            "_model_module": "@jupyter-widgets/controls",
            "_model_module_version": "1.5.0",
            "_model_name": "HBoxModel",
            "_view_count": null,
            "_view_module": "@jupyter-widgets/controls",
            "_view_module_version": "1.5.0",
            "_view_name": "HBoxView",
            "box_style": "",
            "children": [
              "IPY_MODEL_2f63c5bca9e24c4b9fbf50f9dab95cc5",
              "IPY_MODEL_52065eb4f0344c078b416fb6f176f1b2",
              "IPY_MODEL_54ddddd5b9784e11857a75d8d5298944"
            ],
            "layout": "IPY_MODEL_644a6f1b5e1845449122779052cb8e97"
          }
        },
        "2f63c5bca9e24c4b9fbf50f9dab95cc5": {
          "model_module": "@jupyter-widgets/controls",
          "model_name": "HTMLModel",
          "model_module_version": "1.5.0",
          "state": {
            "_dom_classes": [],
            "_model_module": "@jupyter-widgets/controls",
            "_model_module_version": "1.5.0",
            "_model_name": "HTMLModel",
            "_view_count": null,
            "_view_module": "@jupyter-widgets/controls",
            "_view_module_version": "1.5.0",
            "_view_name": "HTMLView",
            "description": "",
            "description_tooltip": null,
            "layout": "IPY_MODEL_0e020dbc6cbe4676a2af1c69e5c181dc",
            "placeholder": "​",
            "style": "IPY_MODEL_a45a046b01454289aa46250152b99453",
            "value": "README.md: 100%"
          }
        },
        "52065eb4f0344c078b416fb6f176f1b2": {
          "model_module": "@jupyter-widgets/controls",
          "model_name": "FloatProgressModel",
          "model_module_version": "1.5.0",
          "state": {
            "_dom_classes": [],
            "_model_module": "@jupyter-widgets/controls",
            "_model_module_version": "1.5.0",
            "_model_name": "FloatProgressModel",
            "_view_count": null,
            "_view_module": "@jupyter-widgets/controls",
            "_view_module_version": "1.5.0",
            "_view_name": "ProgressView",
            "bar_style": "success",
            "description": "",
            "description_tooltip": null,
            "layout": "IPY_MODEL_309383320169404190af2d140d1f17aa",
            "max": 5174,
            "min": 0,
            "orientation": "horizontal",
            "style": "IPY_MODEL_b1131d79bb654dec99cbbbe10c06577b",
            "value": 5174
          }
        },
        "54ddddd5b9784e11857a75d8d5298944": {
          "model_module": "@jupyter-widgets/controls",
          "model_name": "HTMLModel",
          "model_module_version": "1.5.0",
          "state": {
            "_dom_classes": [],
            "_model_module": "@jupyter-widgets/controls",
            "_model_module_version": "1.5.0",
            "_model_name": "HTMLModel",
            "_view_count": null,
            "_view_module": "@jupyter-widgets/controls",
            "_view_module_version": "1.5.0",
            "_view_name": "HTMLView",
            "description": "",
            "description_tooltip": null,
            "layout": "IPY_MODEL_c4fbf33e75a74b2891f24c832a7de32b",
            "placeholder": "​",
            "style": "IPY_MODEL_95dc5c8b16144312bd00652274b3fa04",
            "value": " 5.17k/5.17k [00:00&lt;00:00, 362kB/s]"
          }
        },
        "644a6f1b5e1845449122779052cb8e97": {
          "model_module": "@jupyter-widgets/base",
          "model_name": "LayoutModel",
          "model_module_version": "1.2.0",
          "state": {
            "_model_module": "@jupyter-widgets/base",
            "_model_module_version": "1.2.0",
            "_model_name": "LayoutModel",
            "_view_count": null,
            "_view_module": "@jupyter-widgets/base",
            "_view_module_version": "1.2.0",
            "_view_name": "LayoutView",
            "align_content": null,
            "align_items": null,
            "align_self": null,
            "border": null,
            "bottom": null,
            "display": null,
            "flex": null,
            "flex_flow": null,
            "grid_area": null,
            "grid_auto_columns": null,
            "grid_auto_flow": null,
            "grid_auto_rows": null,
            "grid_column": null,
            "grid_gap": null,
            "grid_row": null,
            "grid_template_areas": null,
            "grid_template_columns": null,
            "grid_template_rows": null,
            "height": null,
            "justify_content": null,
            "justify_items": null,
            "left": null,
            "margin": null,
            "max_height": null,
            "max_width": null,
            "min_height": null,
            "min_width": null,
            "object_fit": null,
            "object_position": null,
            "order": null,
            "overflow": null,
            "overflow_x": null,
            "overflow_y": null,
            "padding": null,
            "right": null,
            "top": null,
            "visibility": null,
            "width": null
          }
        },
        "0e020dbc6cbe4676a2af1c69e5c181dc": {
          "model_module": "@jupyter-widgets/base",
          "model_name": "LayoutModel",
          "model_module_version": "1.2.0",
          "state": {
            "_model_module": "@jupyter-widgets/base",
            "_model_module_version": "1.2.0",
            "_model_name": "LayoutModel",
            "_view_count": null,
            "_view_module": "@jupyter-widgets/base",
            "_view_module_version": "1.2.0",
            "_view_name": "LayoutView",
            "align_content": null,
            "align_items": null,
            "align_self": null,
            "border": null,
            "bottom": null,
            "display": null,
            "flex": null,
            "flex_flow": null,
            "grid_area": null,
            "grid_auto_columns": null,
            "grid_auto_flow": null,
            "grid_auto_rows": null,
            "grid_column": null,
            "grid_gap": null,
            "grid_row": null,
            "grid_template_areas": null,
            "grid_template_columns": null,
            "grid_template_rows": null,
            "height": null,
            "justify_content": null,
            "justify_items": null,
            "left": null,
            "margin": null,
            "max_height": null,
            "max_width": null,
            "min_height": null,
            "min_width": null,
            "object_fit": null,
            "object_position": null,
            "order": null,
            "overflow": null,
            "overflow_x": null,
            "overflow_y": null,
            "padding": null,
            "right": null,
            "top": null,
            "visibility": null,
            "width": null
          }
        },
        "a45a046b01454289aa46250152b99453": {
          "model_module": "@jupyter-widgets/controls",
          "model_name": "DescriptionStyleModel",
          "model_module_version": "1.5.0",
          "state": {
            "_model_module": "@jupyter-widgets/controls",
            "_model_module_version": "1.5.0",
            "_model_name": "DescriptionStyleModel",
            "_view_count": null,
            "_view_module": "@jupyter-widgets/base",
            "_view_module_version": "1.2.0",
            "_view_name": "StyleView",
            "description_width": ""
          }
        },
        "309383320169404190af2d140d1f17aa": {
          "model_module": "@jupyter-widgets/base",
          "model_name": "LayoutModel",
          "model_module_version": "1.2.0",
          "state": {
            "_model_module": "@jupyter-widgets/base",
            "_model_module_version": "1.2.0",
            "_model_name": "LayoutModel",
            "_view_count": null,
            "_view_module": "@jupyter-widgets/base",
            "_view_module_version": "1.2.0",
            "_view_name": "LayoutView",
            "align_content": null,
            "align_items": null,
            "align_self": null,
            "border": null,
            "bottom": null,
            "display": null,
            "flex": null,
            "flex_flow": null,
            "grid_area": null,
            "grid_auto_columns": null,
            "grid_auto_flow": null,
            "grid_auto_rows": null,
            "grid_column": null,
            "grid_gap": null,
            "grid_row": null,
            "grid_template_areas": null,
            "grid_template_columns": null,
            "grid_template_rows": null,
            "height": null,
            "justify_content": null,
            "justify_items": null,
            "left": null,
            "margin": null,
            "max_height": null,
            "max_width": null,
            "min_height": null,
            "min_width": null,
            "object_fit": null,
            "object_position": null,
            "order": null,
            "overflow": null,
            "overflow_x": null,
            "overflow_y": null,
            "padding": null,
            "right": null,
            "top": null,
            "visibility": null,
            "width": null
          }
        },
        "b1131d79bb654dec99cbbbe10c06577b": {
          "model_module": "@jupyter-widgets/controls",
          "model_name": "ProgressStyleModel",
          "model_module_version": "1.5.0",
          "state": {
            "_model_module": "@jupyter-widgets/controls",
            "_model_module_version": "1.5.0",
            "_model_name": "ProgressStyleModel",
            "_view_count": null,
            "_view_module": "@jupyter-widgets/base",
            "_view_module_version": "1.2.0",
            "_view_name": "StyleView",
            "bar_color": null,
            "description_width": ""
          }
        },
        "c4fbf33e75a74b2891f24c832a7de32b": {
          "model_module": "@jupyter-widgets/base",
          "model_name": "LayoutModel",
          "model_module_version": "1.2.0",
          "state": {
            "_model_module": "@jupyter-widgets/base",
            "_model_module_version": "1.2.0",
            "_model_name": "LayoutModel",
            "_view_count": null,
            "_view_module": "@jupyter-widgets/base",
            "_view_module_version": "1.2.0",
            "_view_name": "LayoutView",
            "align_content": null,
            "align_items": null,
            "align_self": null,
            "border": null,
            "bottom": null,
            "display": null,
            "flex": null,
            "flex_flow": null,
            "grid_area": null,
            "grid_auto_columns": null,
            "grid_auto_flow": null,
            "grid_auto_rows": null,
            "grid_column": null,
            "grid_gap": null,
            "grid_row": null,
            "grid_template_areas": null,
            "grid_template_columns": null,
            "grid_template_rows": null,
            "height": null,
            "justify_content": null,
            "justify_items": null,
            "left": null,
            "margin": null,
            "max_height": null,
            "max_width": null,
            "min_height": null,
            "min_width": null,
            "object_fit": null,
            "object_position": null,
            "order": null,
            "overflow": null,
            "overflow_x": null,
            "overflow_y": null,
            "padding": null,
            "right": null,
            "top": null,
            "visibility": null,
            "width": null
          }
        },
        "95dc5c8b16144312bd00652274b3fa04": {
          "model_module": "@jupyter-widgets/controls",
          "model_name": "DescriptionStyleModel",
          "model_module_version": "1.5.0",
          "state": {
            "_model_module": "@jupyter-widgets/controls",
            "_model_module_version": "1.5.0",
            "_model_name": "DescriptionStyleModel",
            "_view_count": null,
            "_view_module": "@jupyter-widgets/base",
            "_view_module_version": "1.2.0",
            "_view_name": "StyleView",
            "description_width": ""
          }
        },
        "972b69f62e524429a88fef3c53daf3f2": {
          "model_module": "@jupyter-widgets/controls",
          "model_name": "HBoxModel",
          "model_module_version": "1.5.0",
          "state": {
            "_dom_classes": [],
            "_model_module": "@jupyter-widgets/controls",
            "_model_module_version": "1.5.0",
            "_model_name": "HBoxModel",
            "_view_count": null,
            "_view_module": "@jupyter-widgets/controls",
            "_view_module_version": "1.5.0",
            "_view_name": "HBoxView",
            "box_style": "",
            "children": [
              "IPY_MODEL_ae94e51dd5cb432ca5871079c3a76543",
              "IPY_MODEL_693842c520624d7783259783833ad8a0",
              "IPY_MODEL_1d9f46c375c64640b4eadef9a0394664"
            ],
            "layout": "IPY_MODEL_f181db002b9b4ed8b53ef411a7726830"
          }
        },
        "ae94e51dd5cb432ca5871079c3a76543": {
          "model_module": "@jupyter-widgets/controls",
          "model_name": "HTMLModel",
          "model_module_version": "1.5.0",
          "state": {
            "_dom_classes": [],
            "_model_module": "@jupyter-widgets/controls",
            "_model_module_version": "1.5.0",
            "_model_name": "HTMLModel",
            "_view_count": null,
            "_view_module": "@jupyter-widgets/controls",
            "_view_module_version": "1.5.0",
            "_view_name": "HTMLView",
            "description": "",
            "description_tooltip": null,
            "layout": "IPY_MODEL_c19f12bcaaae4531bf1ce9233903d54b",
            "placeholder": "​",
            "style": "IPY_MODEL_4cad0486bf63477bb2ae6c3e2a2d88a2",
            "value": "sentencepiece.bpe.model: 100%"
          }
        },
        "693842c520624d7783259783833ad8a0": {
          "model_module": "@jupyter-widgets/controls",
          "model_name": "FloatProgressModel",
          "model_module_version": "1.5.0",
          "state": {
            "_dom_classes": [],
            "_model_module": "@jupyter-widgets/controls",
            "_model_module_version": "1.5.0",
            "_model_name": "FloatProgressModel",
            "_view_count": null,
            "_view_module": "@jupyter-widgets/controls",
            "_view_module_version": "1.5.0",
            "_view_name": "ProgressView",
            "bar_style": "success",
            "description": "",
            "description_tooltip": null,
            "layout": "IPY_MODEL_e35cae8fb7784517b2a3a8a07fd3f22b",
            "max": 5069051,
            "min": 0,
            "orientation": "horizontal",
            "style": "IPY_MODEL_e9809e955e4248fbb3e7c2494a5712f4",
            "value": 5069051
          }
        },
        "1d9f46c375c64640b4eadef9a0394664": {
          "model_module": "@jupyter-widgets/controls",
          "model_name": "HTMLModel",
          "model_module_version": "1.5.0",
          "state": {
            "_dom_classes": [],
            "_model_module": "@jupyter-widgets/controls",
            "_model_module_version": "1.5.0",
            "_model_name": "HTMLModel",
            "_view_count": null,
            "_view_module": "@jupyter-widgets/controls",
            "_view_module_version": "1.5.0",
            "_view_name": "HTMLView",
            "description": "",
            "description_tooltip": null,
            "layout": "IPY_MODEL_bcc90eae80c646788d90f24007942fc7",
            "placeholder": "​",
            "style": "IPY_MODEL_edb78f5e480e4734933d243aea5db9fc",
            "value": " 5.07M/5.07M [00:00&lt;00:00, 74.7kB/s]"
          }
        },
        "f181db002b9b4ed8b53ef411a7726830": {
          "model_module": "@jupyter-widgets/base",
          "model_name": "LayoutModel",
          "model_module_version": "1.2.0",
          "state": {
            "_model_module": "@jupyter-widgets/base",
            "_model_module_version": "1.2.0",
            "_model_name": "LayoutModel",
            "_view_count": null,
            "_view_module": "@jupyter-widgets/base",
            "_view_module_version": "1.2.0",
            "_view_name": "LayoutView",
            "align_content": null,
            "align_items": null,
            "align_self": null,
            "border": null,
            "bottom": null,
            "display": null,
            "flex": null,
            "flex_flow": null,
            "grid_area": null,
            "grid_auto_columns": null,
            "grid_auto_flow": null,
            "grid_auto_rows": null,
            "grid_column": null,
            "grid_gap": null,
            "grid_row": null,
            "grid_template_areas": null,
            "grid_template_columns": null,
            "grid_template_rows": null,
            "height": null,
            "justify_content": null,
            "justify_items": null,
            "left": null,
            "margin": null,
            "max_height": null,
            "max_width": null,
            "min_height": null,
            "min_width": null,
            "object_fit": null,
            "object_position": null,
            "order": null,
            "overflow": null,
            "overflow_x": null,
            "overflow_y": null,
            "padding": null,
            "right": null,
            "top": null,
            "visibility": null,
            "width": null
          }
        },
        "c19f12bcaaae4531bf1ce9233903d54b": {
          "model_module": "@jupyter-widgets/base",
          "model_name": "LayoutModel",
          "model_module_version": "1.2.0",
          "state": {
            "_model_module": "@jupyter-widgets/base",
            "_model_module_version": "1.2.0",
            "_model_name": "LayoutModel",
            "_view_count": null,
            "_view_module": "@jupyter-widgets/base",
            "_view_module_version": "1.2.0",
            "_view_name": "LayoutView",
            "align_content": null,
            "align_items": null,
            "align_self": null,
            "border": null,
            "bottom": null,
            "display": null,
            "flex": null,
            "flex_flow": null,
            "grid_area": null,
            "grid_auto_columns": null,
            "grid_auto_flow": null,
            "grid_auto_rows": null,
            "grid_column": null,
            "grid_gap": null,
            "grid_row": null,
            "grid_template_areas": null,
            "grid_template_columns": null,
            "grid_template_rows": null,
            "height": null,
            "justify_content": null,
            "justify_items": null,
            "left": null,
            "margin": null,
            "max_height": null,
            "max_width": null,
            "min_height": null,
            "min_width": null,
            "object_fit": null,
            "object_position": null,
            "order": null,
            "overflow": null,
            "overflow_x": null,
            "overflow_y": null,
            "padding": null,
            "right": null,
            "top": null,
            "visibility": null,
            "width": null
          }
        },
        "4cad0486bf63477bb2ae6c3e2a2d88a2": {
          "model_module": "@jupyter-widgets/controls",
          "model_name": "DescriptionStyleModel",
          "model_module_version": "1.5.0",
          "state": {
            "_model_module": "@jupyter-widgets/controls",
            "_model_module_version": "1.5.0",
            "_model_name": "DescriptionStyleModel",
            "_view_count": null,
            "_view_module": "@jupyter-widgets/base",
            "_view_module_version": "1.2.0",
            "_view_name": "StyleView",
            "description_width": ""
          }
        },
        "e35cae8fb7784517b2a3a8a07fd3f22b": {
          "model_module": "@jupyter-widgets/base",
          "model_name": "LayoutModel",
          "model_module_version": "1.2.0",
          "state": {
            "_model_module": "@jupyter-widgets/base",
            "_model_module_version": "1.2.0",
            "_model_name": "LayoutModel",
            "_view_count": null,
            "_view_module": "@jupyter-widgets/base",
            "_view_module_version": "1.2.0",
            "_view_name": "LayoutView",
            "align_content": null,
            "align_items": null,
            "align_self": null,
            "border": null,
            "bottom": null,
            "display": null,
            "flex": null,
            "flex_flow": null,
            "grid_area": null,
            "grid_auto_columns": null,
            "grid_auto_flow": null,
            "grid_auto_rows": null,
            "grid_column": null,
            "grid_gap": null,
            "grid_row": null,
            "grid_template_areas": null,
            "grid_template_columns": null,
            "grid_template_rows": null,
            "height": null,
            "justify_content": null,
            "justify_items": null,
            "left": null,
            "margin": null,
            "max_height": null,
            "max_width": null,
            "min_height": null,
            "min_width": null,
            "object_fit": null,
            "object_position": null,
            "order": null,
            "overflow": null,
            "overflow_x": null,
            "overflow_y": null,
            "padding": null,
            "right": null,
            "top": null,
            "visibility": null,
            "width": null
          }
        },
        "e9809e955e4248fbb3e7c2494a5712f4": {
          "model_module": "@jupyter-widgets/controls",
          "model_name": "ProgressStyleModel",
          "model_module_version": "1.5.0",
          "state": {
            "_model_module": "@jupyter-widgets/controls",
            "_model_module_version": "1.5.0",
            "_model_name": "ProgressStyleModel",
            "_view_count": null,
            "_view_module": "@jupyter-widgets/base",
            "_view_module_version": "1.2.0",
            "_view_name": "StyleView",
            "bar_color": null,
            "description_width": ""
          }
        },
        "bcc90eae80c646788d90f24007942fc7": {
          "model_module": "@jupyter-widgets/base",
          "model_name": "LayoutModel",
          "model_module_version": "1.2.0",
          "state": {
            "_model_module": "@jupyter-widgets/base",
            "_model_module_version": "1.2.0",
            "_model_name": "LayoutModel",
            "_view_count": null,
            "_view_module": "@jupyter-widgets/base",
            "_view_module_version": "1.2.0",
            "_view_name": "LayoutView",
            "align_content": null,
            "align_items": null,
            "align_self": null,
            "border": null,
            "bottom": null,
            "display": null,
            "flex": null,
            "flex_flow": null,
            "grid_area": null,
            "grid_auto_columns": null,
            "grid_auto_flow": null,
            "grid_auto_rows": null,
            "grid_column": null,
            "grid_gap": null,
            "grid_row": null,
            "grid_template_areas": null,
            "grid_template_columns": null,
            "grid_template_rows": null,
            "height": null,
            "justify_content": null,
            "justify_items": null,
            "left": null,
            "margin": null,
            "max_height": null,
            "max_width": null,
            "min_height": null,
            "min_width": null,
            "object_fit": null,
            "object_position": null,
            "order": null,
            "overflow": null,
            "overflow_x": null,
            "overflow_y": null,
            "padding": null,
            "right": null,
            "top": null,
            "visibility": null,
            "width": null
          }
        },
        "edb78f5e480e4734933d243aea5db9fc": {
          "model_module": "@jupyter-widgets/controls",
          "model_name": "DescriptionStyleModel",
          "model_module_version": "1.5.0",
          "state": {
            "_model_module": "@jupyter-widgets/controls",
            "_model_module_version": "1.5.0",
            "_model_name": "DescriptionStyleModel",
            "_view_count": null,
            "_view_module": "@jupyter-widgets/base",
            "_view_module_version": "1.2.0",
            "_view_name": "StyleView",
            "description_width": ""
          }
        },
        "4b01dd2d28d24bef9aa89b1c9c5ba565": {
          "model_module": "@jupyter-widgets/controls",
          "model_name": "HBoxModel",
          "model_module_version": "1.5.0",
          "state": {
            "_dom_classes": [],
            "_model_module": "@jupyter-widgets/controls",
            "_model_module_version": "1.5.0",
            "_model_name": "HBoxModel",
            "_view_count": null,
            "_view_module": "@jupyter-widgets/controls",
            "_view_module_version": "1.5.0",
            "_view_name": "HBoxView",
            "box_style": "",
            "children": [
              "IPY_MODEL_bab4611667d84b99b2ac4171fc3c1a62",
              "IPY_MODEL_766ba76827444fa9a1e5076e22aea5d4",
              "IPY_MODEL_182402d356b84091be39f17a67061fe1"
            ],
            "layout": "IPY_MODEL_68fb13b2e7eb46268814f4d7340c5539"
          }
        },
        "bab4611667d84b99b2ac4171fc3c1a62": {
          "model_module": "@jupyter-widgets/controls",
          "model_name": "HTMLModel",
          "model_module_version": "1.5.0",
          "state": {
            "_dom_classes": [],
            "_model_module": "@jupyter-widgets/controls",
            "_model_module_version": "1.5.0",
            "_model_name": "HTMLModel",
            "_view_count": null,
            "_view_module": "@jupyter-widgets/controls",
            "_view_module_version": "1.5.0",
            "_view_name": "HTMLView",
            "description": "",
            "description_tooltip": null,
            "layout": "IPY_MODEL_5a8300a4c32442edb0f6e95b9c582970",
            "placeholder": "​",
            "style": "IPY_MODEL_18e1b58dabe347a896791c71ec31ccd9",
            "value": "Upload 2 LFS files: 100%"
          }
        },
        "766ba76827444fa9a1e5076e22aea5d4": {
          "model_module": "@jupyter-widgets/controls",
          "model_name": "FloatProgressModel",
          "model_module_version": "1.5.0",
          "state": {
            "_dom_classes": [],
            "_model_module": "@jupyter-widgets/controls",
            "_model_module_version": "1.5.0",
            "_model_name": "FloatProgressModel",
            "_view_count": null,
            "_view_module": "@jupyter-widgets/controls",
            "_view_module_version": "1.5.0",
            "_view_name": "ProgressView",
            "bar_style": "success",
            "description": "",
            "description_tooltip": null,
            "layout": "IPY_MODEL_f92501b0ca284405be1eb6430ef1da58",
            "max": 2,
            "min": 0,
            "orientation": "horizontal",
            "style": "IPY_MODEL_f9e1f525544a4e4e892d62598e81c3f6",
            "value": 2
          }
        },
        "182402d356b84091be39f17a67061fe1": {
          "model_module": "@jupyter-widgets/controls",
          "model_name": "HTMLModel",
          "model_module_version": "1.5.0",
          "state": {
            "_dom_classes": [],
            "_model_module": "@jupyter-widgets/controls",
            "_model_module_version": "1.5.0",
            "_model_name": "HTMLModel",
            "_view_count": null,
            "_view_module": "@jupyter-widgets/controls",
            "_view_module_version": "1.5.0",
            "_view_name": "HTMLView",
            "description": "",
            "description_tooltip": null,
            "layout": "IPY_MODEL_2588c7d0a79c4c069791dc93cd7b21c6",
            "placeholder": "​",
            "style": "IPY_MODEL_ca5a5366ebcf4d5cb60d2f620a63fe70",
            "value": " 2/2 [00:01&lt;00:00,  1.22it/s]"
          }
        },
        "68fb13b2e7eb46268814f4d7340c5539": {
          "model_module": "@jupyter-widgets/base",
          "model_name": "LayoutModel",
          "model_module_version": "1.2.0",
          "state": {
            "_model_module": "@jupyter-widgets/base",
            "_model_module_version": "1.2.0",
            "_model_name": "LayoutModel",
            "_view_count": null,
            "_view_module": "@jupyter-widgets/base",
            "_view_module_version": "1.2.0",
            "_view_name": "LayoutView",
            "align_content": null,
            "align_items": null,
            "align_self": null,
            "border": null,
            "bottom": null,
            "display": null,
            "flex": null,
            "flex_flow": null,
            "grid_area": null,
            "grid_auto_columns": null,
            "grid_auto_flow": null,
            "grid_auto_rows": null,
            "grid_column": null,
            "grid_gap": null,
            "grid_row": null,
            "grid_template_areas": null,
            "grid_template_columns": null,
            "grid_template_rows": null,
            "height": null,
            "justify_content": null,
            "justify_items": null,
            "left": null,
            "margin": null,
            "max_height": null,
            "max_width": null,
            "min_height": null,
            "min_width": null,
            "object_fit": null,
            "object_position": null,
            "order": null,
            "overflow": null,
            "overflow_x": null,
            "overflow_y": null,
            "padding": null,
            "right": null,
            "top": null,
            "visibility": null,
            "width": null
          }
        },
        "5a8300a4c32442edb0f6e95b9c582970": {
          "model_module": "@jupyter-widgets/base",
          "model_name": "LayoutModel",
          "model_module_version": "1.2.0",
          "state": {
            "_model_module": "@jupyter-widgets/base",
            "_model_module_version": "1.2.0",
            "_model_name": "LayoutModel",
            "_view_count": null,
            "_view_module": "@jupyter-widgets/base",
            "_view_module_version": "1.2.0",
            "_view_name": "LayoutView",
            "align_content": null,
            "align_items": null,
            "align_self": null,
            "border": null,
            "bottom": null,
            "display": null,
            "flex": null,
            "flex_flow": null,
            "grid_area": null,
            "grid_auto_columns": null,
            "grid_auto_flow": null,
            "grid_auto_rows": null,
            "grid_column": null,
            "grid_gap": null,
            "grid_row": null,
            "grid_template_areas": null,
            "grid_template_columns": null,
            "grid_template_rows": null,
            "height": null,
            "justify_content": null,
            "justify_items": null,
            "left": null,
            "margin": null,
            "max_height": null,
            "max_width": null,
            "min_height": null,
            "min_width": null,
            "object_fit": null,
            "object_position": null,
            "order": null,
            "overflow": null,
            "overflow_x": null,
            "overflow_y": null,
            "padding": null,
            "right": null,
            "top": null,
            "visibility": null,
            "width": null
          }
        },
        "18e1b58dabe347a896791c71ec31ccd9": {
          "model_module": "@jupyter-widgets/controls",
          "model_name": "DescriptionStyleModel",
          "model_module_version": "1.5.0",
          "state": {
            "_model_module": "@jupyter-widgets/controls",
            "_model_module_version": "1.5.0",
            "_model_name": "DescriptionStyleModel",
            "_view_count": null,
            "_view_module": "@jupyter-widgets/base",
            "_view_module_version": "1.2.0",
            "_view_name": "StyleView",
            "description_width": ""
          }
        },
        "f92501b0ca284405be1eb6430ef1da58": {
          "model_module": "@jupyter-widgets/base",
          "model_name": "LayoutModel",
          "model_module_version": "1.2.0",
          "state": {
            "_model_module": "@jupyter-widgets/base",
            "_model_module_version": "1.2.0",
            "_model_name": "LayoutModel",
            "_view_count": null,
            "_view_module": "@jupyter-widgets/base",
            "_view_module_version": "1.2.0",
            "_view_name": "LayoutView",
            "align_content": null,
            "align_items": null,
            "align_self": null,
            "border": null,
            "bottom": null,
            "display": null,
            "flex": null,
            "flex_flow": null,
            "grid_area": null,
            "grid_auto_columns": null,
            "grid_auto_flow": null,
            "grid_auto_rows": null,
            "grid_column": null,
            "grid_gap": null,
            "grid_row": null,
            "grid_template_areas": null,
            "grid_template_columns": null,
            "grid_template_rows": null,
            "height": null,
            "justify_content": null,
            "justify_items": null,
            "left": null,
            "margin": null,
            "max_height": null,
            "max_width": null,
            "min_height": null,
            "min_width": null,
            "object_fit": null,
            "object_position": null,
            "order": null,
            "overflow": null,
            "overflow_x": null,
            "overflow_y": null,
            "padding": null,
            "right": null,
            "top": null,
            "visibility": null,
            "width": null
          }
        },
        "f9e1f525544a4e4e892d62598e81c3f6": {
          "model_module": "@jupyter-widgets/controls",
          "model_name": "ProgressStyleModel",
          "model_module_version": "1.5.0",
          "state": {
            "_model_module": "@jupyter-widgets/controls",
            "_model_module_version": "1.5.0",
            "_model_name": "ProgressStyleModel",
            "_view_count": null,
            "_view_module": "@jupyter-widgets/base",
            "_view_module_version": "1.2.0",
            "_view_name": "StyleView",
            "bar_color": null,
            "description_width": ""
          }
        },
        "2588c7d0a79c4c069791dc93cd7b21c6": {
          "model_module": "@jupyter-widgets/base",
          "model_name": "LayoutModel",
          "model_module_version": "1.2.0",
          "state": {
            "_model_module": "@jupyter-widgets/base",
            "_model_module_version": "1.2.0",
            "_model_name": "LayoutModel",
            "_view_count": null,
            "_view_module": "@jupyter-widgets/base",
            "_view_module_version": "1.2.0",
            "_view_name": "LayoutView",
            "align_content": null,
            "align_items": null,
            "align_self": null,
            "border": null,
            "bottom": null,
            "display": null,
            "flex": null,
            "flex_flow": null,
            "grid_area": null,
            "grid_auto_columns": null,
            "grid_auto_flow": null,
            "grid_auto_rows": null,
            "grid_column": null,
            "grid_gap": null,
            "grid_row": null,
            "grid_template_areas": null,
            "grid_template_columns": null,
            "grid_template_rows": null,
            "height": null,
            "justify_content": null,
            "justify_items": null,
            "left": null,
            "margin": null,
            "max_height": null,
            "max_width": null,
            "min_height": null,
            "min_width": null,
            "object_fit": null,
            "object_position": null,
            "order": null,
            "overflow": null,
            "overflow_x": null,
            "overflow_y": null,
            "padding": null,
            "right": null,
            "top": null,
            "visibility": null,
            "width": null
          }
        },
        "ca5a5366ebcf4d5cb60d2f620a63fe70": {
          "model_module": "@jupyter-widgets/controls",
          "model_name": "DescriptionStyleModel",
          "model_module_version": "1.5.0",
          "state": {
            "_model_module": "@jupyter-widgets/controls",
            "_model_module_version": "1.5.0",
            "_model_name": "DescriptionStyleModel",
            "_view_count": null,
            "_view_module": "@jupyter-widgets/base",
            "_view_module_version": "1.2.0",
            "_view_name": "StyleView",
            "description_width": ""
          }
        },
        "2e6f65f94ffc45f1863872ce6da5bfe0": {
          "model_module": "@jupyter-widgets/controls",
          "model_name": "HBoxModel",
          "model_module_version": "1.5.0",
          "state": {
            "_dom_classes": [],
            "_model_module": "@jupyter-widgets/controls",
            "_model_module_version": "1.5.0",
            "_model_name": "HBoxModel",
            "_view_count": null,
            "_view_module": "@jupyter-widgets/controls",
            "_view_module_version": "1.5.0",
            "_view_name": "HBoxView",
            "box_style": "",
            "children": [
              "IPY_MODEL_37f4028479cb40698ebf3d783dc1017a",
              "IPY_MODEL_772042fa538e40bbbdd4138092ee4341",
              "IPY_MODEL_f0dea7f920e64888b26411a98c3344b7"
            ],
            "layout": "IPY_MODEL_f2779bb580f841859a3deb95db5cc4cb"
          }
        },
        "37f4028479cb40698ebf3d783dc1017a": {
          "model_module": "@jupyter-widgets/controls",
          "model_name": "HTMLModel",
          "model_module_version": "1.5.0",
          "state": {
            "_dom_classes": [],
            "_model_module": "@jupyter-widgets/controls",
            "_model_module_version": "1.5.0",
            "_model_name": "HTMLModel",
            "_view_count": null,
            "_view_module": "@jupyter-widgets/controls",
            "_view_module_version": "1.5.0",
            "_view_name": "HTMLView",
            "description": "",
            "description_tooltip": null,
            "layout": "IPY_MODEL_72d38de8b4584e4f98a908b28b343b3b",
            "placeholder": "​",
            "style": "IPY_MODEL_7b9e9d5b3c734f64afe55c285c097561",
            "value": "tokenizer.json: 100%"
          }
        },
        "772042fa538e40bbbdd4138092ee4341": {
          "model_module": "@jupyter-widgets/controls",
          "model_name": "FloatProgressModel",
          "model_module_version": "1.5.0",
          "state": {
            "_dom_classes": [],
            "_model_module": "@jupyter-widgets/controls",
            "_model_module_version": "1.5.0",
            "_model_name": "FloatProgressModel",
            "_view_count": null,
            "_view_module": "@jupyter-widgets/controls",
            "_view_module_version": "1.5.0",
            "_view_name": "ProgressView",
            "bar_style": "success",
            "description": "",
            "description_tooltip": null,
            "layout": "IPY_MODEL_f34509a84daa47a6aea00551ebdd2f12",
            "max": 17082987,
            "min": 0,
            "orientation": "horizontal",
            "style": "IPY_MODEL_88253aaef901429682da4d4910360824",
            "value": 17082987
          }
        },
        "f0dea7f920e64888b26411a98c3344b7": {
          "model_module": "@jupyter-widgets/controls",
          "model_name": "HTMLModel",
          "model_module_version": "1.5.0",
          "state": {
            "_dom_classes": [],
            "_model_module": "@jupyter-widgets/controls",
            "_model_module_version": "1.5.0",
            "_model_name": "HTMLModel",
            "_view_count": null,
            "_view_module": "@jupyter-widgets/controls",
            "_view_module_version": "1.5.0",
            "_view_name": "HTMLView",
            "description": "",
            "description_tooltip": null,
            "layout": "IPY_MODEL_3b368b6c9cb94e219e7692d781621f7e",
            "placeholder": "​",
            "style": "IPY_MODEL_4f7b17227c54426287aac7d06073fd9a",
            "value": " 17.1M/17.1M [00:01&lt;00:00, 16.5MB/s]"
          }
        },
        "f2779bb580f841859a3deb95db5cc4cb": {
          "model_module": "@jupyter-widgets/base",
          "model_name": "LayoutModel",
          "model_module_version": "1.2.0",
          "state": {
            "_model_module": "@jupyter-widgets/base",
            "_model_module_version": "1.2.0",
            "_model_name": "LayoutModel",
            "_view_count": null,
            "_view_module": "@jupyter-widgets/base",
            "_view_module_version": "1.2.0",
            "_view_name": "LayoutView",
            "align_content": null,
            "align_items": null,
            "align_self": null,
            "border": null,
            "bottom": null,
            "display": null,
            "flex": null,
            "flex_flow": null,
            "grid_area": null,
            "grid_auto_columns": null,
            "grid_auto_flow": null,
            "grid_auto_rows": null,
            "grid_column": null,
            "grid_gap": null,
            "grid_row": null,
            "grid_template_areas": null,
            "grid_template_columns": null,
            "grid_template_rows": null,
            "height": null,
            "justify_content": null,
            "justify_items": null,
            "left": null,
            "margin": null,
            "max_height": null,
            "max_width": null,
            "min_height": null,
            "min_width": null,
            "object_fit": null,
            "object_position": null,
            "order": null,
            "overflow": null,
            "overflow_x": null,
            "overflow_y": null,
            "padding": null,
            "right": null,
            "top": null,
            "visibility": null,
            "width": null
          }
        },
        "72d38de8b4584e4f98a908b28b343b3b": {
          "model_module": "@jupyter-widgets/base",
          "model_name": "LayoutModel",
          "model_module_version": "1.2.0",
          "state": {
            "_model_module": "@jupyter-widgets/base",
            "_model_module_version": "1.2.0",
            "_model_name": "LayoutModel",
            "_view_count": null,
            "_view_module": "@jupyter-widgets/base",
            "_view_module_version": "1.2.0",
            "_view_name": "LayoutView",
            "align_content": null,
            "align_items": null,
            "align_self": null,
            "border": null,
            "bottom": null,
            "display": null,
            "flex": null,
            "flex_flow": null,
            "grid_area": null,
            "grid_auto_columns": null,
            "grid_auto_flow": null,
            "grid_auto_rows": null,
            "grid_column": null,
            "grid_gap": null,
            "grid_row": null,
            "grid_template_areas": null,
            "grid_template_columns": null,
            "grid_template_rows": null,
            "height": null,
            "justify_content": null,
            "justify_items": null,
            "left": null,
            "margin": null,
            "max_height": null,
            "max_width": null,
            "min_height": null,
            "min_width": null,
            "object_fit": null,
            "object_position": null,
            "order": null,
            "overflow": null,
            "overflow_x": null,
            "overflow_y": null,
            "padding": null,
            "right": null,
            "top": null,
            "visibility": null,
            "width": null
          }
        },
        "7b9e9d5b3c734f64afe55c285c097561": {
          "model_module": "@jupyter-widgets/controls",
          "model_name": "DescriptionStyleModel",
          "model_module_version": "1.5.0",
          "state": {
            "_model_module": "@jupyter-widgets/controls",
            "_model_module_version": "1.5.0",
            "_model_name": "DescriptionStyleModel",
            "_view_count": null,
            "_view_module": "@jupyter-widgets/base",
            "_view_module_version": "1.2.0",
            "_view_name": "StyleView",
            "description_width": ""
          }
        },
        "f34509a84daa47a6aea00551ebdd2f12": {
          "model_module": "@jupyter-widgets/base",
          "model_name": "LayoutModel",
          "model_module_version": "1.2.0",
          "state": {
            "_model_module": "@jupyter-widgets/base",
            "_model_module_version": "1.2.0",
            "_model_name": "LayoutModel",
            "_view_count": null,
            "_view_module": "@jupyter-widgets/base",
            "_view_module_version": "1.2.0",
            "_view_name": "LayoutView",
            "align_content": null,
            "align_items": null,
            "align_self": null,
            "border": null,
            "bottom": null,
            "display": null,
            "flex": null,
            "flex_flow": null,
            "grid_area": null,
            "grid_auto_columns": null,
            "grid_auto_flow": null,
            "grid_auto_rows": null,
            "grid_column": null,
            "grid_gap": null,
            "grid_row": null,
            "grid_template_areas": null,
            "grid_template_columns": null,
            "grid_template_rows": null,
            "height": null,
            "justify_content": null,
            "justify_items": null,
            "left": null,
            "margin": null,
            "max_height": null,
            "max_width": null,
            "min_height": null,
            "min_width": null,
            "object_fit": null,
            "object_position": null,
            "order": null,
            "overflow": null,
            "overflow_x": null,
            "overflow_y": null,
            "padding": null,
            "right": null,
            "top": null,
            "visibility": null,
            "width": null
          }
        },
        "88253aaef901429682da4d4910360824": {
          "model_module": "@jupyter-widgets/controls",
          "model_name": "ProgressStyleModel",
          "model_module_version": "1.5.0",
          "state": {
            "_model_module": "@jupyter-widgets/controls",
            "_model_module_version": "1.5.0",
            "_model_name": "ProgressStyleModel",
            "_view_count": null,
            "_view_module": "@jupyter-widgets/base",
            "_view_module_version": "1.2.0",
            "_view_name": "StyleView",
            "bar_color": null,
            "description_width": ""
          }
        },
        "3b368b6c9cb94e219e7692d781621f7e": {
          "model_module": "@jupyter-widgets/base",
          "model_name": "LayoutModel",
          "model_module_version": "1.2.0",
          "state": {
            "_model_module": "@jupyter-widgets/base",
            "_model_module_version": "1.2.0",
            "_model_name": "LayoutModel",
            "_view_count": null,
            "_view_module": "@jupyter-widgets/base",
            "_view_module_version": "1.2.0",
            "_view_name": "LayoutView",
            "align_content": null,
            "align_items": null,
            "align_self": null,
            "border": null,
            "bottom": null,
            "display": null,
            "flex": null,
            "flex_flow": null,
            "grid_area": null,
            "grid_auto_columns": null,
            "grid_auto_flow": null,
            "grid_auto_rows": null,
            "grid_column": null,
            "grid_gap": null,
            "grid_row": null,
            "grid_template_areas": null,
            "grid_template_columns": null,
            "grid_template_rows": null,
            "height": null,
            "justify_content": null,
            "justify_items": null,
            "left": null,
            "margin": null,
            "max_height": null,
            "max_width": null,
            "min_height": null,
            "min_width": null,
            "object_fit": null,
            "object_position": null,
            "order": null,
            "overflow": null,
            "overflow_x": null,
            "overflow_y": null,
            "padding": null,
            "right": null,
            "top": null,
            "visibility": null,
            "width": null
          }
        },
        "4f7b17227c54426287aac7d06073fd9a": {
          "model_module": "@jupyter-widgets/controls",
          "model_name": "DescriptionStyleModel",
          "model_module_version": "1.5.0",
          "state": {
            "_model_module": "@jupyter-widgets/controls",
            "_model_module_version": "1.5.0",
            "_model_name": "DescriptionStyleModel",
            "_view_count": null,
            "_view_module": "@jupyter-widgets/base",
            "_view_module_version": "1.2.0",
            "_view_name": "StyleView",
            "description_width": ""
          }
        },
        "72e0bfec10c947c9a48efe4e5d8d4ce3": {
          "model_module": "@jupyter-widgets/controls",
          "model_name": "HBoxModel",
          "model_module_version": "1.5.0",
          "state": {
            "_dom_classes": [],
            "_model_module": "@jupyter-widgets/controls",
            "_model_module_version": "1.5.0",
            "_model_name": "HBoxModel",
            "_view_count": null,
            "_view_module": "@jupyter-widgets/controls",
            "_view_module_version": "1.5.0",
            "_view_name": "HBoxView",
            "box_style": "",
            "children": [
              "IPY_MODEL_c3a0d7c9c1824146957efd604994835c",
              "IPY_MODEL_a8e77dfc37bd4184b20fdde8a6e4eb7e",
              "IPY_MODEL_23f2ff51df914e3f9a2755e4f14ff006"
            ],
            "layout": "IPY_MODEL_694abe08fc654e81be4e986d8f5399e6"
          }
        },
        "c3a0d7c9c1824146957efd604994835c": {
          "model_module": "@jupyter-widgets/controls",
          "model_name": "HTMLModel",
          "model_module_version": "1.5.0",
          "state": {
            "_dom_classes": [],
            "_model_module": "@jupyter-widgets/controls",
            "_model_module_version": "1.5.0",
            "_model_name": "HTMLModel",
            "_view_count": null,
            "_view_module": "@jupyter-widgets/controls",
            "_view_module_version": "1.5.0",
            "_view_name": "HTMLView",
            "description": "",
            "description_tooltip": null,
            "layout": "IPY_MODEL_29a5c398abfb46bbb4f800307945cbc1",
            "placeholder": "​",
            "style": "IPY_MODEL_2a56f191080246c2ac46161af99353df",
            "value": "tokenizer_config.json: 100%"
          }
        },
        "a8e77dfc37bd4184b20fdde8a6e4eb7e": {
          "model_module": "@jupyter-widgets/controls",
          "model_name": "FloatProgressModel",
          "model_module_version": "1.5.0",
          "state": {
            "_dom_classes": [],
            "_model_module": "@jupyter-widgets/controls",
            "_model_module_version": "1.5.0",
            "_model_name": "FloatProgressModel",
            "_view_count": null,
            "_view_module": "@jupyter-widgets/controls",
            "_view_module_version": "1.5.0",
            "_view_name": "ProgressView",
            "bar_style": "success",
            "description": "",
            "description_tooltip": null,
            "layout": "IPY_MODEL_0b0e62bd9f0540d7971f1b8908ffb5fa",
            "max": 25,
            "min": 0,
            "orientation": "horizontal",
            "style": "IPY_MODEL_4f4ed0b6b8474d2d9fa5b658eb1b678f",
            "value": 25
          }
        },
        "23f2ff51df914e3f9a2755e4f14ff006": {
          "model_module": "@jupyter-widgets/controls",
          "model_name": "HTMLModel",
          "model_module_version": "1.5.0",
          "state": {
            "_dom_classes": [],
            "_model_module": "@jupyter-widgets/controls",
            "_model_module_version": "1.5.0",
            "_model_name": "HTMLModel",
            "_view_count": null,
            "_view_module": "@jupyter-widgets/controls",
            "_view_module_version": "1.5.0",
            "_view_name": "HTMLView",
            "description": "",
            "description_tooltip": null,
            "layout": "IPY_MODEL_def07442822345518a494f38b8602eb5",
            "placeholder": "​",
            "style": "IPY_MODEL_118758ac00d24a2ab7a7bb861f2a7749",
            "value": " 25.0/25.0 [00:00&lt;00:00, 1.16kB/s]"
          }
        },
        "694abe08fc654e81be4e986d8f5399e6": {
          "model_module": "@jupyter-widgets/base",
          "model_name": "LayoutModel",
          "model_module_version": "1.2.0",
          "state": {
            "_model_module": "@jupyter-widgets/base",
            "_model_module_version": "1.2.0",
            "_model_name": "LayoutModel",
            "_view_count": null,
            "_view_module": "@jupyter-widgets/base",
            "_view_module_version": "1.2.0",
            "_view_name": "LayoutView",
            "align_content": null,
            "align_items": null,
            "align_self": null,
            "border": null,
            "bottom": null,
            "display": null,
            "flex": null,
            "flex_flow": null,
            "grid_area": null,
            "grid_auto_columns": null,
            "grid_auto_flow": null,
            "grid_auto_rows": null,
            "grid_column": null,
            "grid_gap": null,
            "grid_row": null,
            "grid_template_areas": null,
            "grid_template_columns": null,
            "grid_template_rows": null,
            "height": null,
            "justify_content": null,
            "justify_items": null,
            "left": null,
            "margin": null,
            "max_height": null,
            "max_width": null,
            "min_height": null,
            "min_width": null,
            "object_fit": null,
            "object_position": null,
            "order": null,
            "overflow": null,
            "overflow_x": null,
            "overflow_y": null,
            "padding": null,
            "right": null,
            "top": null,
            "visibility": null,
            "width": null
          }
        },
        "29a5c398abfb46bbb4f800307945cbc1": {
          "model_module": "@jupyter-widgets/base",
          "model_name": "LayoutModel",
          "model_module_version": "1.2.0",
          "state": {
            "_model_module": "@jupyter-widgets/base",
            "_model_module_version": "1.2.0",
            "_model_name": "LayoutModel",
            "_view_count": null,
            "_view_module": "@jupyter-widgets/base",
            "_view_module_version": "1.2.0",
            "_view_name": "LayoutView",
            "align_content": null,
            "align_items": null,
            "align_self": null,
            "border": null,
            "bottom": null,
            "display": null,
            "flex": null,
            "flex_flow": null,
            "grid_area": null,
            "grid_auto_columns": null,
            "grid_auto_flow": null,
            "grid_auto_rows": null,
            "grid_column": null,
            "grid_gap": null,
            "grid_row": null,
            "grid_template_areas": null,
            "grid_template_columns": null,
            "grid_template_rows": null,
            "height": null,
            "justify_content": null,
            "justify_items": null,
            "left": null,
            "margin": null,
            "max_height": null,
            "max_width": null,
            "min_height": null,
            "min_width": null,
            "object_fit": null,
            "object_position": null,
            "order": null,
            "overflow": null,
            "overflow_x": null,
            "overflow_y": null,
            "padding": null,
            "right": null,
            "top": null,
            "visibility": null,
            "width": null
          }
        },
        "2a56f191080246c2ac46161af99353df": {
          "model_module": "@jupyter-widgets/controls",
          "model_name": "DescriptionStyleModel",
          "model_module_version": "1.5.0",
          "state": {
            "_model_module": "@jupyter-widgets/controls",
            "_model_module_version": "1.5.0",
            "_model_name": "DescriptionStyleModel",
            "_view_count": null,
            "_view_module": "@jupyter-widgets/base",
            "_view_module_version": "1.2.0",
            "_view_name": "StyleView",
            "description_width": ""
          }
        },
        "0b0e62bd9f0540d7971f1b8908ffb5fa": {
          "model_module": "@jupyter-widgets/base",
          "model_name": "LayoutModel",
          "model_module_version": "1.2.0",
          "state": {
            "_model_module": "@jupyter-widgets/base",
            "_model_module_version": "1.2.0",
            "_model_name": "LayoutModel",
            "_view_count": null,
            "_view_module": "@jupyter-widgets/base",
            "_view_module_version": "1.2.0",
            "_view_name": "LayoutView",
            "align_content": null,
            "align_items": null,
            "align_self": null,
            "border": null,
            "bottom": null,
            "display": null,
            "flex": null,
            "flex_flow": null,
            "grid_area": null,
            "grid_auto_columns": null,
            "grid_auto_flow": null,
            "grid_auto_rows": null,
            "grid_column": null,
            "grid_gap": null,
            "grid_row": null,
            "grid_template_areas": null,
            "grid_template_columns": null,
            "grid_template_rows": null,
            "height": null,
            "justify_content": null,
            "justify_items": null,
            "left": null,
            "margin": null,
            "max_height": null,
            "max_width": null,
            "min_height": null,
            "min_width": null,
            "object_fit": null,
            "object_position": null,
            "order": null,
            "overflow": null,
            "overflow_x": null,
            "overflow_y": null,
            "padding": null,
            "right": null,
            "top": null,
            "visibility": null,
            "width": null
          }
        },
        "4f4ed0b6b8474d2d9fa5b658eb1b678f": {
          "model_module": "@jupyter-widgets/controls",
          "model_name": "ProgressStyleModel",
          "model_module_version": "1.5.0",
          "state": {
            "_model_module": "@jupyter-widgets/controls",
            "_model_module_version": "1.5.0",
            "_model_name": "ProgressStyleModel",
            "_view_count": null,
            "_view_module": "@jupyter-widgets/base",
            "_view_module_version": "1.2.0",
            "_view_name": "StyleView",
            "bar_color": null,
            "description_width": ""
          }
        },
        "def07442822345518a494f38b8602eb5": {
          "model_module": "@jupyter-widgets/base",
          "model_name": "LayoutModel",
          "model_module_version": "1.2.0",
          "state": {
            "_model_module": "@jupyter-widgets/base",
            "_model_module_version": "1.2.0",
            "_model_name": "LayoutModel",
            "_view_count": null,
            "_view_module": "@jupyter-widgets/base",
            "_view_module_version": "1.2.0",
            "_view_name": "LayoutView",
            "align_content": null,
            "align_items": null,
            "align_self": null,
            "border": null,
            "bottom": null,
            "display": null,
            "flex": null,
            "flex_flow": null,
            "grid_area": null,
            "grid_auto_columns": null,
            "grid_auto_flow": null,
            "grid_auto_rows": null,
            "grid_column": null,
            "grid_gap": null,
            "grid_row": null,
            "grid_template_areas": null,
            "grid_template_columns": null,
            "grid_template_rows": null,
            "height": null,
            "justify_content": null,
            "justify_items": null,
            "left": null,
            "margin": null,
            "max_height": null,
            "max_width": null,
            "min_height": null,
            "min_width": null,
            "object_fit": null,
            "object_position": null,
            "order": null,
            "overflow": null,
            "overflow_x": null,
            "overflow_y": null,
            "padding": null,
            "right": null,
            "top": null,
            "visibility": null,
            "width": null
          }
        },
        "118758ac00d24a2ab7a7bb861f2a7749": {
          "model_module": "@jupyter-widgets/controls",
          "model_name": "DescriptionStyleModel",
          "model_module_version": "1.5.0",
          "state": {
            "_model_module": "@jupyter-widgets/controls",
            "_model_module_version": "1.5.0",
            "_model_name": "DescriptionStyleModel",
            "_view_count": null,
            "_view_module": "@jupyter-widgets/base",
            "_view_module_version": "1.2.0",
            "_view_name": "StyleView",
            "description_width": ""
          }
        },
        "b15770d26e004864b1f80277a9d959ab": {
          "model_module": "@jupyter-widgets/controls",
          "model_name": "HBoxModel",
          "model_module_version": "1.5.0",
          "state": {
            "_dom_classes": [],
            "_model_module": "@jupyter-widgets/controls",
            "_model_module_version": "1.5.0",
            "_model_name": "HBoxModel",
            "_view_count": null,
            "_view_module": "@jupyter-widgets/controls",
            "_view_module_version": "1.5.0",
            "_view_name": "HBoxView",
            "box_style": "",
            "children": [
              "IPY_MODEL_b712ffa3efaf434bb75d9b5893bb9dd1",
              "IPY_MODEL_f44ce58ef96248bc8661c12ee03e87c8",
              "IPY_MODEL_265a490fde7f48c787449a93aa4dab76"
            ],
            "layout": "IPY_MODEL_c06c24a2a6a340f0b40a92a68b96adfb"
          }
        },
        "b712ffa3efaf434bb75d9b5893bb9dd1": {
          "model_module": "@jupyter-widgets/controls",
          "model_name": "HTMLModel",
          "model_module_version": "1.5.0",
          "state": {
            "_dom_classes": [],
            "_model_module": "@jupyter-widgets/controls",
            "_model_module_version": "1.5.0",
            "_model_name": "HTMLModel",
            "_view_count": null,
            "_view_module": "@jupyter-widgets/controls",
            "_view_module_version": "1.5.0",
            "_view_name": "HTMLView",
            "description": "",
            "description_tooltip": null,
            "layout": "IPY_MODEL_01733c0d0d8e4f94a1d4fb2a7a439ea4",
            "placeholder": "​",
            "style": "IPY_MODEL_eab831f96fdf4d969e6fca3964630ec0",
            "value": "sentencepiece.bpe.model: 100%"
          }
        },
        "f44ce58ef96248bc8661c12ee03e87c8": {
          "model_module": "@jupyter-widgets/controls",
          "model_name": "FloatProgressModel",
          "model_module_version": "1.5.0",
          "state": {
            "_dom_classes": [],
            "_model_module": "@jupyter-widgets/controls",
            "_model_module_version": "1.5.0",
            "_model_name": "FloatProgressModel",
            "_view_count": null,
            "_view_module": "@jupyter-widgets/controls",
            "_view_module_version": "1.5.0",
            "_view_name": "ProgressView",
            "bar_style": "success",
            "description": "",
            "description_tooltip": null,
            "layout": "IPY_MODEL_08dcccdb3f384a8d92785d868cc45322",
            "max": 5069051,
            "min": 0,
            "orientation": "horizontal",
            "style": "IPY_MODEL_62ca90cc9e264368b62a65167f07317a",
            "value": 5069051
          }
        },
        "265a490fde7f48c787449a93aa4dab76": {
          "model_module": "@jupyter-widgets/controls",
          "model_name": "HTMLModel",
          "model_module_version": "1.5.0",
          "state": {
            "_dom_classes": [],
            "_model_module": "@jupyter-widgets/controls",
            "_model_module_version": "1.5.0",
            "_model_name": "HTMLModel",
            "_view_count": null,
            "_view_module": "@jupyter-widgets/controls",
            "_view_module_version": "1.5.0",
            "_view_name": "HTMLView",
            "description": "",
            "description_tooltip": null,
            "layout": "IPY_MODEL_5497b941dba746a09eab83c7db10281b",
            "placeholder": "​",
            "style": "IPY_MODEL_e4c9959b90bf4d3dafedb53216ee0726",
            "value": " 5.07M/5.07M [00:00&lt;00:00, 15.3MB/s]"
          }
        },
        "c06c24a2a6a340f0b40a92a68b96adfb": {
          "model_module": "@jupyter-widgets/base",
          "model_name": "LayoutModel",
          "model_module_version": "1.2.0",
          "state": {
            "_model_module": "@jupyter-widgets/base",
            "_model_module_version": "1.2.0",
            "_model_name": "LayoutModel",
            "_view_count": null,
            "_view_module": "@jupyter-widgets/base",
            "_view_module_version": "1.2.0",
            "_view_name": "LayoutView",
            "align_content": null,
            "align_items": null,
            "align_self": null,
            "border": null,
            "bottom": null,
            "display": null,
            "flex": null,
            "flex_flow": null,
            "grid_area": null,
            "grid_auto_columns": null,
            "grid_auto_flow": null,
            "grid_auto_rows": null,
            "grid_column": null,
            "grid_gap": null,
            "grid_row": null,
            "grid_template_areas": null,
            "grid_template_columns": null,
            "grid_template_rows": null,
            "height": null,
            "justify_content": null,
            "justify_items": null,
            "left": null,
            "margin": null,
            "max_height": null,
            "max_width": null,
            "min_height": null,
            "min_width": null,
            "object_fit": null,
            "object_position": null,
            "order": null,
            "overflow": null,
            "overflow_x": null,
            "overflow_y": null,
            "padding": null,
            "right": null,
            "top": null,
            "visibility": null,
            "width": null
          }
        },
        "01733c0d0d8e4f94a1d4fb2a7a439ea4": {
          "model_module": "@jupyter-widgets/base",
          "model_name": "LayoutModel",
          "model_module_version": "1.2.0",
          "state": {
            "_model_module": "@jupyter-widgets/base",
            "_model_module_version": "1.2.0",
            "_model_name": "LayoutModel",
            "_view_count": null,
            "_view_module": "@jupyter-widgets/base",
            "_view_module_version": "1.2.0",
            "_view_name": "LayoutView",
            "align_content": null,
            "align_items": null,
            "align_self": null,
            "border": null,
            "bottom": null,
            "display": null,
            "flex": null,
            "flex_flow": null,
            "grid_area": null,
            "grid_auto_columns": null,
            "grid_auto_flow": null,
            "grid_auto_rows": null,
            "grid_column": null,
            "grid_gap": null,
            "grid_row": null,
            "grid_template_areas": null,
            "grid_template_columns": null,
            "grid_template_rows": null,
            "height": null,
            "justify_content": null,
            "justify_items": null,
            "left": null,
            "margin": null,
            "max_height": null,
            "max_width": null,
            "min_height": null,
            "min_width": null,
            "object_fit": null,
            "object_position": null,
            "order": null,
            "overflow": null,
            "overflow_x": null,
            "overflow_y": null,
            "padding": null,
            "right": null,
            "top": null,
            "visibility": null,
            "width": null
          }
        },
        "eab831f96fdf4d969e6fca3964630ec0": {
          "model_module": "@jupyter-widgets/controls",
          "model_name": "DescriptionStyleModel",
          "model_module_version": "1.5.0",
          "state": {
            "_model_module": "@jupyter-widgets/controls",
            "_model_module_version": "1.5.0",
            "_model_name": "DescriptionStyleModel",
            "_view_count": null,
            "_view_module": "@jupyter-widgets/base",
            "_view_module_version": "1.2.0",
            "_view_name": "StyleView",
            "description_width": ""
          }
        },
        "08dcccdb3f384a8d92785d868cc45322": {
          "model_module": "@jupyter-widgets/base",
          "model_name": "LayoutModel",
          "model_module_version": "1.2.0",
          "state": {
            "_model_module": "@jupyter-widgets/base",
            "_model_module_version": "1.2.0",
            "_model_name": "LayoutModel",
            "_view_count": null,
            "_view_module": "@jupyter-widgets/base",
            "_view_module_version": "1.2.0",
            "_view_name": "LayoutView",
            "align_content": null,
            "align_items": null,
            "align_self": null,
            "border": null,
            "bottom": null,
            "display": null,
            "flex": null,
            "flex_flow": null,
            "grid_area": null,
            "grid_auto_columns": null,
            "grid_auto_flow": null,
            "grid_auto_rows": null,
            "grid_column": null,
            "grid_gap": null,
            "grid_row": null,
            "grid_template_areas": null,
            "grid_template_columns": null,
            "grid_template_rows": null,
            "height": null,
            "justify_content": null,
            "justify_items": null,
            "left": null,
            "margin": null,
            "max_height": null,
            "max_width": null,
            "min_height": null,
            "min_width": null,
            "object_fit": null,
            "object_position": null,
            "order": null,
            "overflow": null,
            "overflow_x": null,
            "overflow_y": null,
            "padding": null,
            "right": null,
            "top": null,
            "visibility": null,
            "width": null
          }
        },
        "62ca90cc9e264368b62a65167f07317a": {
          "model_module": "@jupyter-widgets/controls",
          "model_name": "ProgressStyleModel",
          "model_module_version": "1.5.0",
          "state": {
            "_model_module": "@jupyter-widgets/controls",
            "_model_module_version": "1.5.0",
            "_model_name": "ProgressStyleModel",
            "_view_count": null,
            "_view_module": "@jupyter-widgets/base",
            "_view_module_version": "1.2.0",
            "_view_name": "StyleView",
            "bar_color": null,
            "description_width": ""
          }
        },
        "5497b941dba746a09eab83c7db10281b": {
          "model_module": "@jupyter-widgets/base",
          "model_name": "LayoutModel",
          "model_module_version": "1.2.0",
          "state": {
            "_model_module": "@jupyter-widgets/base",
            "_model_module_version": "1.2.0",
            "_model_name": "LayoutModel",
            "_view_count": null,
            "_view_module": "@jupyter-widgets/base",
            "_view_module_version": "1.2.0",
            "_view_name": "LayoutView",
            "align_content": null,
            "align_items": null,
            "align_self": null,
            "border": null,
            "bottom": null,
            "display": null,
            "flex": null,
            "flex_flow": null,
            "grid_area": null,
            "grid_auto_columns": null,
            "grid_auto_flow": null,
            "grid_auto_rows": null,
            "grid_column": null,
            "grid_gap": null,
            "grid_row": null,
            "grid_template_areas": null,
            "grid_template_columns": null,
            "grid_template_rows": null,
            "height": null,
            "justify_content": null,
            "justify_items": null,
            "left": null,
            "margin": null,
            "max_height": null,
            "max_width": null,
            "min_height": null,
            "min_width": null,
            "object_fit": null,
            "object_position": null,
            "order": null,
            "overflow": null,
            "overflow_x": null,
            "overflow_y": null,
            "padding": null,
            "right": null,
            "top": null,
            "visibility": null,
            "width": null
          }
        },
        "e4c9959b90bf4d3dafedb53216ee0726": {
          "model_module": "@jupyter-widgets/controls",
          "model_name": "DescriptionStyleModel",
          "model_module_version": "1.5.0",
          "state": {
            "_model_module": "@jupyter-widgets/controls",
            "_model_module_version": "1.5.0",
            "_model_name": "DescriptionStyleModel",
            "_view_count": null,
            "_view_module": "@jupyter-widgets/base",
            "_view_module_version": "1.2.0",
            "_view_name": "StyleView",
            "description_width": ""
          }
        },
        "33c42658e34c40b5962695271923464c": {
          "model_module": "@jupyter-widgets/controls",
          "model_name": "HBoxModel",
          "model_module_version": "1.5.0",
          "state": {
            "_dom_classes": [],
            "_model_module": "@jupyter-widgets/controls",
            "_model_module_version": "1.5.0",
            "_model_name": "HBoxModel",
            "_view_count": null,
            "_view_module": "@jupyter-widgets/controls",
            "_view_module_version": "1.5.0",
            "_view_name": "HBoxView",
            "box_style": "",
            "children": [
              "IPY_MODEL_27529eb1b4034d0abf424c499f42b8ae",
              "IPY_MODEL_93ac304c8e914b1082b2b2afe0877f62",
              "IPY_MODEL_05f60f326e8e47418416a9d254ded9f6"
            ],
            "layout": "IPY_MODEL_ed70f49fd0694688aad933ac62ad8351"
          }
        },
        "27529eb1b4034d0abf424c499f42b8ae": {
          "model_module": "@jupyter-widgets/controls",
          "model_name": "HTMLModel",
          "model_module_version": "1.5.0",
          "state": {
            "_dom_classes": [],
            "_model_module": "@jupyter-widgets/controls",
            "_model_module_version": "1.5.0",
            "_model_name": "HTMLModel",
            "_view_count": null,
            "_view_module": "@jupyter-widgets/controls",
            "_view_module_version": "1.5.0",
            "_view_name": "HTMLView",
            "description": "",
            "description_tooltip": null,
            "layout": "IPY_MODEL_2da08c4a3d0e4df3b8cef996a5275579",
            "placeholder": "​",
            "style": "IPY_MODEL_3fe6d0bc1c4544bd9493c318f44341cc",
            "value": "tokenizer.json: 100%"
          }
        },
        "93ac304c8e914b1082b2b2afe0877f62": {
          "model_module": "@jupyter-widgets/controls",
          "model_name": "FloatProgressModel",
          "model_module_version": "1.5.0",
          "state": {
            "_dom_classes": [],
            "_model_module": "@jupyter-widgets/controls",
            "_model_module_version": "1.5.0",
            "_model_name": "FloatProgressModel",
            "_view_count": null,
            "_view_module": "@jupyter-widgets/controls",
            "_view_module_version": "1.5.0",
            "_view_name": "ProgressView",
            "bar_style": "success",
            "description": "",
            "description_tooltip": null,
            "layout": "IPY_MODEL_f31725b4a91443d9a1b66497b2a1a135",
            "max": 9096718,
            "min": 0,
            "orientation": "horizontal",
            "style": "IPY_MODEL_249291f1fdd7401db5d2d744022d95c6",
            "value": 9096718
          }
        },
        "05f60f326e8e47418416a9d254ded9f6": {
          "model_module": "@jupyter-widgets/controls",
          "model_name": "HTMLModel",
          "model_module_version": "1.5.0",
          "state": {
            "_dom_classes": [],
            "_model_module": "@jupyter-widgets/controls",
            "_model_module_version": "1.5.0",
            "_model_name": "HTMLModel",
            "_view_count": null,
            "_view_module": "@jupyter-widgets/controls",
            "_view_module_version": "1.5.0",
            "_view_name": "HTMLView",
            "description": "",
            "description_tooltip": null,
            "layout": "IPY_MODEL_b278afc0781944889cd9890647cfb32d",
            "placeholder": "​",
            "style": "IPY_MODEL_83888c50a3214b1b92f55b3a616c7791",
            "value": " 9.10M/9.10M [00:00&lt;00:00, 27.0MB/s]"
          }
        },
        "ed70f49fd0694688aad933ac62ad8351": {
          "model_module": "@jupyter-widgets/base",
          "model_name": "LayoutModel",
          "model_module_version": "1.2.0",
          "state": {
            "_model_module": "@jupyter-widgets/base",
            "_model_module_version": "1.2.0",
            "_model_name": "LayoutModel",
            "_view_count": null,
            "_view_module": "@jupyter-widgets/base",
            "_view_module_version": "1.2.0",
            "_view_name": "LayoutView",
            "align_content": null,
            "align_items": null,
            "align_self": null,
            "border": null,
            "bottom": null,
            "display": null,
            "flex": null,
            "flex_flow": null,
            "grid_area": null,
            "grid_auto_columns": null,
            "grid_auto_flow": null,
            "grid_auto_rows": null,
            "grid_column": null,
            "grid_gap": null,
            "grid_row": null,
            "grid_template_areas": null,
            "grid_template_columns": null,
            "grid_template_rows": null,
            "height": null,
            "justify_content": null,
            "justify_items": null,
            "left": null,
            "margin": null,
            "max_height": null,
            "max_width": null,
            "min_height": null,
            "min_width": null,
            "object_fit": null,
            "object_position": null,
            "order": null,
            "overflow": null,
            "overflow_x": null,
            "overflow_y": null,
            "padding": null,
            "right": null,
            "top": null,
            "visibility": null,
            "width": null
          }
        },
        "2da08c4a3d0e4df3b8cef996a5275579": {
          "model_module": "@jupyter-widgets/base",
          "model_name": "LayoutModel",
          "model_module_version": "1.2.0",
          "state": {
            "_model_module": "@jupyter-widgets/base",
            "_model_module_version": "1.2.0",
            "_model_name": "LayoutModel",
            "_view_count": null,
            "_view_module": "@jupyter-widgets/base",
            "_view_module_version": "1.2.0",
            "_view_name": "LayoutView",
            "align_content": null,
            "align_items": null,
            "align_self": null,
            "border": null,
            "bottom": null,
            "display": null,
            "flex": null,
            "flex_flow": null,
            "grid_area": null,
            "grid_auto_columns": null,
            "grid_auto_flow": null,
            "grid_auto_rows": null,
            "grid_column": null,
            "grid_gap": null,
            "grid_row": null,
            "grid_template_areas": null,
            "grid_template_columns": null,
            "grid_template_rows": null,
            "height": null,
            "justify_content": null,
            "justify_items": null,
            "left": null,
            "margin": null,
            "max_height": null,
            "max_width": null,
            "min_height": null,
            "min_width": null,
            "object_fit": null,
            "object_position": null,
            "order": null,
            "overflow": null,
            "overflow_x": null,
            "overflow_y": null,
            "padding": null,
            "right": null,
            "top": null,
            "visibility": null,
            "width": null
          }
        },
        "3fe6d0bc1c4544bd9493c318f44341cc": {
          "model_module": "@jupyter-widgets/controls",
          "model_name": "DescriptionStyleModel",
          "model_module_version": "1.5.0",
          "state": {
            "_model_module": "@jupyter-widgets/controls",
            "_model_module_version": "1.5.0",
            "_model_name": "DescriptionStyleModel",
            "_view_count": null,
            "_view_module": "@jupyter-widgets/base",
            "_view_module_version": "1.2.0",
            "_view_name": "StyleView",
            "description_width": ""
          }
        },
        "f31725b4a91443d9a1b66497b2a1a135": {
          "model_module": "@jupyter-widgets/base",
          "model_name": "LayoutModel",
          "model_module_version": "1.2.0",
          "state": {
            "_model_module": "@jupyter-widgets/base",
            "_model_module_version": "1.2.0",
            "_model_name": "LayoutModel",
            "_view_count": null,
            "_view_module": "@jupyter-widgets/base",
            "_view_module_version": "1.2.0",
            "_view_name": "LayoutView",
            "align_content": null,
            "align_items": null,
            "align_self": null,
            "border": null,
            "bottom": null,
            "display": null,
            "flex": null,
            "flex_flow": null,
            "grid_area": null,
            "grid_auto_columns": null,
            "grid_auto_flow": null,
            "grid_auto_rows": null,
            "grid_column": null,
            "grid_gap": null,
            "grid_row": null,
            "grid_template_areas": null,
            "grid_template_columns": null,
            "grid_template_rows": null,
            "height": null,
            "justify_content": null,
            "justify_items": null,
            "left": null,
            "margin": null,
            "max_height": null,
            "max_width": null,
            "min_height": null,
            "min_width": null,
            "object_fit": null,
            "object_position": null,
            "order": null,
            "overflow": null,
            "overflow_x": null,
            "overflow_y": null,
            "padding": null,
            "right": null,
            "top": null,
            "visibility": null,
            "width": null
          }
        },
        "249291f1fdd7401db5d2d744022d95c6": {
          "model_module": "@jupyter-widgets/controls",
          "model_name": "ProgressStyleModel",
          "model_module_version": "1.5.0",
          "state": {
            "_model_module": "@jupyter-widgets/controls",
            "_model_module_version": "1.5.0",
            "_model_name": "ProgressStyleModel",
            "_view_count": null,
            "_view_module": "@jupyter-widgets/base",
            "_view_module_version": "1.2.0",
            "_view_name": "StyleView",
            "bar_color": null,
            "description_width": ""
          }
        },
        "b278afc0781944889cd9890647cfb32d": {
          "model_module": "@jupyter-widgets/base",
          "model_name": "LayoutModel",
          "model_module_version": "1.2.0",
          "state": {
            "_model_module": "@jupyter-widgets/base",
            "_model_module_version": "1.2.0",
            "_model_name": "LayoutModel",
            "_view_count": null,
            "_view_module": "@jupyter-widgets/base",
            "_view_module_version": "1.2.0",
            "_view_name": "LayoutView",
            "align_content": null,
            "align_items": null,
            "align_self": null,
            "border": null,
            "bottom": null,
            "display": null,
            "flex": null,
            "flex_flow": null,
            "grid_area": null,
            "grid_auto_columns": null,
            "grid_auto_flow": null,
            "grid_auto_rows": null,
            "grid_column": null,
            "grid_gap": null,
            "grid_row": null,
            "grid_template_areas": null,
            "grid_template_columns": null,
            "grid_template_rows": null,
            "height": null,
            "justify_content": null,
            "justify_items": null,
            "left": null,
            "margin": null,
            "max_height": null,
            "max_width": null,
            "min_height": null,
            "min_width": null,
            "object_fit": null,
            "object_position": null,
            "order": null,
            "overflow": null,
            "overflow_x": null,
            "overflow_y": null,
            "padding": null,
            "right": null,
            "top": null,
            "visibility": null,
            "width": null
          }
        },
        "83888c50a3214b1b92f55b3a616c7791": {
          "model_module": "@jupyter-widgets/controls",
          "model_name": "DescriptionStyleModel",
          "model_module_version": "1.5.0",
          "state": {
            "_model_module": "@jupyter-widgets/controls",
            "_model_module_version": "1.5.0",
            "_model_name": "DescriptionStyleModel",
            "_view_count": null,
            "_view_module": "@jupyter-widgets/base",
            "_view_module_version": "1.2.0",
            "_view_name": "StyleView",
            "description_width": ""
          }
        },
        "45202d9bf7674605a3df4d106569e623": {
          "model_module": "@jupyter-widgets/controls",
          "model_name": "HBoxModel",
          "model_module_version": "1.5.0",
          "state": {
            "_dom_classes": [],
            "_model_module": "@jupyter-widgets/controls",
            "_model_module_version": "1.5.0",
            "_model_name": "HBoxModel",
            "_view_count": null,
            "_view_module": "@jupyter-widgets/controls",
            "_view_module_version": "1.5.0",
            "_view_name": "HBoxView",
            "box_style": "",
            "children": [
              "IPY_MODEL_89b289df408449d6bb7a6e65bddab507",
              "IPY_MODEL_788696b798e44b858b3da6f8ccf9e097",
              "IPY_MODEL_32253f98d2f949b0a143691c0ab5d1eb"
            ],
            "layout": "IPY_MODEL_1a1f8694708445b7a21cc6bcd3757a19"
          }
        },
        "89b289df408449d6bb7a6e65bddab507": {
          "model_module": "@jupyter-widgets/controls",
          "model_name": "HTMLModel",
          "model_module_version": "1.5.0",
          "state": {
            "_dom_classes": [],
            "_model_module": "@jupyter-widgets/controls",
            "_model_module_version": "1.5.0",
            "_model_name": "HTMLModel",
            "_view_count": null,
            "_view_module": "@jupyter-widgets/controls",
            "_view_module_version": "1.5.0",
            "_view_name": "HTMLView",
            "description": "",
            "description_tooltip": null,
            "layout": "IPY_MODEL_6c3adc707f174dcfbe3358fc0a605116",
            "placeholder": "​",
            "style": "IPY_MODEL_cc15e89a8a1c49ac9fb10639dfffca2c",
            "value": "config.json: 100%"
          }
        },
        "788696b798e44b858b3da6f8ccf9e097": {
          "model_module": "@jupyter-widgets/controls",
          "model_name": "FloatProgressModel",
          "model_module_version": "1.5.0",
          "state": {
            "_dom_classes": [],
            "_model_module": "@jupyter-widgets/controls",
            "_model_module_version": "1.5.0",
            "_model_name": "FloatProgressModel",
            "_view_count": null,
            "_view_module": "@jupyter-widgets/controls",
            "_view_module_version": "1.5.0",
            "_view_name": "ProgressView",
            "bar_style": "success",
            "description": "",
            "description_tooltip": null,
            "layout": "IPY_MODEL_95b0d2a9f5c14642b95bf24756104459",
            "max": 615,
            "min": 0,
            "orientation": "horizontal",
            "style": "IPY_MODEL_56e75550742c4ebc9cd40997407e4b9b",
            "value": 615
          }
        },
        "32253f98d2f949b0a143691c0ab5d1eb": {
          "model_module": "@jupyter-widgets/controls",
          "model_name": "HTMLModel",
          "model_module_version": "1.5.0",
          "state": {
            "_dom_classes": [],
            "_model_module": "@jupyter-widgets/controls",
            "_model_module_version": "1.5.0",
            "_model_name": "HTMLModel",
            "_view_count": null,
            "_view_module": "@jupyter-widgets/controls",
            "_view_module_version": "1.5.0",
            "_view_name": "HTMLView",
            "description": "",
            "description_tooltip": null,
            "layout": "IPY_MODEL_9c5b7216bd484ff3b3d6afaf598c74f7",
            "placeholder": "​",
            "style": "IPY_MODEL_6e9969d8b7db4367b45ff30fa991dd81",
            "value": " 615/615 [00:00&lt;00:00, 35.7kB/s]"
          }
        },
        "1a1f8694708445b7a21cc6bcd3757a19": {
          "model_module": "@jupyter-widgets/base",
          "model_name": "LayoutModel",
          "model_module_version": "1.2.0",
          "state": {
            "_model_module": "@jupyter-widgets/base",
            "_model_module_version": "1.2.0",
            "_model_name": "LayoutModel",
            "_view_count": null,
            "_view_module": "@jupyter-widgets/base",
            "_view_module_version": "1.2.0",
            "_view_name": "LayoutView",
            "align_content": null,
            "align_items": null,
            "align_self": null,
            "border": null,
            "bottom": null,
            "display": null,
            "flex": null,
            "flex_flow": null,
            "grid_area": null,
            "grid_auto_columns": null,
            "grid_auto_flow": null,
            "grid_auto_rows": null,
            "grid_column": null,
            "grid_gap": null,
            "grid_row": null,
            "grid_template_areas": null,
            "grid_template_columns": null,
            "grid_template_rows": null,
            "height": null,
            "justify_content": null,
            "justify_items": null,
            "left": null,
            "margin": null,
            "max_height": null,
            "max_width": null,
            "min_height": null,
            "min_width": null,
            "object_fit": null,
            "object_position": null,
            "order": null,
            "overflow": null,
            "overflow_x": null,
            "overflow_y": null,
            "padding": null,
            "right": null,
            "top": null,
            "visibility": null,
            "width": null
          }
        },
        "6c3adc707f174dcfbe3358fc0a605116": {
          "model_module": "@jupyter-widgets/base",
          "model_name": "LayoutModel",
          "model_module_version": "1.2.0",
          "state": {
            "_model_module": "@jupyter-widgets/base",
            "_model_module_version": "1.2.0",
            "_model_name": "LayoutModel",
            "_view_count": null,
            "_view_module": "@jupyter-widgets/base",
            "_view_module_version": "1.2.0",
            "_view_name": "LayoutView",
            "align_content": null,
            "align_items": null,
            "align_self": null,
            "border": null,
            "bottom": null,
            "display": null,
            "flex": null,
            "flex_flow": null,
            "grid_area": null,
            "grid_auto_columns": null,
            "grid_auto_flow": null,
            "grid_auto_rows": null,
            "grid_column": null,
            "grid_gap": null,
            "grid_row": null,
            "grid_template_areas": null,
            "grid_template_columns": null,
            "grid_template_rows": null,
            "height": null,
            "justify_content": null,
            "justify_items": null,
            "left": null,
            "margin": null,
            "max_height": null,
            "max_width": null,
            "min_height": null,
            "min_width": null,
            "object_fit": null,
            "object_position": null,
            "order": null,
            "overflow": null,
            "overflow_x": null,
            "overflow_y": null,
            "padding": null,
            "right": null,
            "top": null,
            "visibility": null,
            "width": null
          }
        },
        "cc15e89a8a1c49ac9fb10639dfffca2c": {
          "model_module": "@jupyter-widgets/controls",
          "model_name": "DescriptionStyleModel",
          "model_module_version": "1.5.0",
          "state": {
            "_model_module": "@jupyter-widgets/controls",
            "_model_module_version": "1.5.0",
            "_model_name": "DescriptionStyleModel",
            "_view_count": null,
            "_view_module": "@jupyter-widgets/base",
            "_view_module_version": "1.2.0",
            "_view_name": "StyleView",
            "description_width": ""
          }
        },
        "95b0d2a9f5c14642b95bf24756104459": {
          "model_module": "@jupyter-widgets/base",
          "model_name": "LayoutModel",
          "model_module_version": "1.2.0",
          "state": {
            "_model_module": "@jupyter-widgets/base",
            "_model_module_version": "1.2.0",
            "_model_name": "LayoutModel",
            "_view_count": null,
            "_view_module": "@jupyter-widgets/base",
            "_view_module_version": "1.2.0",
            "_view_name": "LayoutView",
            "align_content": null,
            "align_items": null,
            "align_self": null,
            "border": null,
            "bottom": null,
            "display": null,
            "flex": null,
            "flex_flow": null,
            "grid_area": null,
            "grid_auto_columns": null,
            "grid_auto_flow": null,
            "grid_auto_rows": null,
            "grid_column": null,
            "grid_gap": null,
            "grid_row": null,
            "grid_template_areas": null,
            "grid_template_columns": null,
            "grid_template_rows": null,
            "height": null,
            "justify_content": null,
            "justify_items": null,
            "left": null,
            "margin": null,
            "max_height": null,
            "max_width": null,
            "min_height": null,
            "min_width": null,
            "object_fit": null,
            "object_position": null,
            "order": null,
            "overflow": null,
            "overflow_x": null,
            "overflow_y": null,
            "padding": null,
            "right": null,
            "top": null,
            "visibility": null,
            "width": null
          }
        },
        "56e75550742c4ebc9cd40997407e4b9b": {
          "model_module": "@jupyter-widgets/controls",
          "model_name": "ProgressStyleModel",
          "model_module_version": "1.5.0",
          "state": {
            "_model_module": "@jupyter-widgets/controls",
            "_model_module_version": "1.5.0",
            "_model_name": "ProgressStyleModel",
            "_view_count": null,
            "_view_module": "@jupyter-widgets/base",
            "_view_module_version": "1.2.0",
            "_view_name": "StyleView",
            "bar_color": null,
            "description_width": ""
          }
        },
        "9c5b7216bd484ff3b3d6afaf598c74f7": {
          "model_module": "@jupyter-widgets/base",
          "model_name": "LayoutModel",
          "model_module_version": "1.2.0",
          "state": {
            "_model_module": "@jupyter-widgets/base",
            "_model_module_version": "1.2.0",
            "_model_name": "LayoutModel",
            "_view_count": null,
            "_view_module": "@jupyter-widgets/base",
            "_view_module_version": "1.2.0",
            "_view_name": "LayoutView",
            "align_content": null,
            "align_items": null,
            "align_self": null,
            "border": null,
            "bottom": null,
            "display": null,
            "flex": null,
            "flex_flow": null,
            "grid_area": null,
            "grid_auto_columns": null,
            "grid_auto_flow": null,
            "grid_auto_rows": null,
            "grid_column": null,
            "grid_gap": null,
            "grid_row": null,
            "grid_template_areas": null,
            "grid_template_columns": null,
            "grid_template_rows": null,
            "height": null,
            "justify_content": null,
            "justify_items": null,
            "left": null,
            "margin": null,
            "max_height": null,
            "max_width": null,
            "min_height": null,
            "min_width": null,
            "object_fit": null,
            "object_position": null,
            "order": null,
            "overflow": null,
            "overflow_x": null,
            "overflow_y": null,
            "padding": null,
            "right": null,
            "top": null,
            "visibility": null,
            "width": null
          }
        },
        "6e9969d8b7db4367b45ff30fa991dd81": {
          "model_module": "@jupyter-widgets/controls",
          "model_name": "DescriptionStyleModel",
          "model_module_version": "1.5.0",
          "state": {
            "_model_module": "@jupyter-widgets/controls",
            "_model_module_version": "1.5.0",
            "_model_name": "DescriptionStyleModel",
            "_view_count": null,
            "_view_module": "@jupyter-widgets/base",
            "_view_module_version": "1.2.0",
            "_view_name": "StyleView",
            "description_width": ""
          }
        }
      }
    }
  },
  "cells": [
    {
      "cell_type": "markdown",
      "metadata": {
        "id": "view-in-github",
        "colab_type": "text"
      },
      "source": [
        "<a href=\"https://colab.research.google.com/github/Danielb711/Xml-Roberta-POS-Tagging/blob/main/POS.ipynb\" target=\"_parent\"><img src=\"https://colab.research.google.com/assets/colab-badge.svg\" alt=\"Open In Colab\"/></a>"
      ]
    },
    {
      "cell_type": "markdown",
      "source": [
        "# **Librerías necesarias**"
      ],
      "metadata": {
        "id": "R0kD6Oqbr-V-"
      }
    },
    {
      "cell_type": "code",
      "source": [
        "!pip install conllu\n",
        "!pip install transformers\n",
        "!pip install torch\n",
        "!pip install seqeval\n",
        "!pip install huggingface_hub\n",
        "\n",
        "from google.colab import drive\n",
        "import os\n",
        "from conllu import parse\n",
        "from transformers import XLMRobertaTokenizerFast, XLMRobertaForTokenClassification, AdamW\n",
        "import torch\n",
        "from torch.utils.data import Dataset, DataLoader\n",
        "from torch.nn import CrossEntropyLoss\n",
        "import numpy as np\n",
        "from sklearn.metrics import classification_report\n",
        "from huggingface_hub import notebook_login\n",
        "from huggingface_hub import HfApi, upload_folder"
      ],
      "metadata": {
        "id": "-x6WqGtEsCO_",
        "colab": {
          "base_uri": "https://localhost:8080/"
        },
        "outputId": "c9f2bf4a-e3c8-4c00-e11d-4300a4347736"
      },
      "execution_count": 1,
      "outputs": [
        {
          "output_type": "stream",
          "name": "stdout",
          "text": [
            "Collecting conllu\n",
            "  Downloading conllu-4.5.3-py2.py3-none-any.whl (16 kB)\n",
            "Installing collected packages: conllu\n",
            "Successfully installed conllu-4.5.3\n",
            "Requirement already satisfied: transformers in /usr/local/lib/python3.10/dist-packages (4.41.2)\n",
            "Requirement already satisfied: filelock in /usr/local/lib/python3.10/dist-packages (from transformers) (3.15.4)\n",
            "Requirement already satisfied: huggingface-hub<1.0,>=0.23.0 in /usr/local/lib/python3.10/dist-packages (from transformers) (0.23.4)\n",
            "Requirement already satisfied: numpy>=1.17 in /usr/local/lib/python3.10/dist-packages (from transformers) (1.25.2)\n",
            "Requirement already satisfied: packaging>=20.0 in /usr/local/lib/python3.10/dist-packages (from transformers) (24.1)\n",
            "Requirement already satisfied: pyyaml>=5.1 in /usr/local/lib/python3.10/dist-packages (from transformers) (6.0.1)\n",
            "Requirement already satisfied: regex!=2019.12.17 in /usr/local/lib/python3.10/dist-packages (from transformers) (2024.5.15)\n",
            "Requirement already satisfied: requests in /usr/local/lib/python3.10/dist-packages (from transformers) (2.31.0)\n",
            "Requirement already satisfied: tokenizers<0.20,>=0.19 in /usr/local/lib/python3.10/dist-packages (from transformers) (0.19.1)\n",
            "Requirement already satisfied: safetensors>=0.4.1 in /usr/local/lib/python3.10/dist-packages (from transformers) (0.4.3)\n",
            "Requirement already satisfied: tqdm>=4.27 in /usr/local/lib/python3.10/dist-packages (from transformers) (4.66.4)\n",
            "Requirement already satisfied: fsspec>=2023.5.0 in /usr/local/lib/python3.10/dist-packages (from huggingface-hub<1.0,>=0.23.0->transformers) (2023.6.0)\n",
            "Requirement already satisfied: typing-extensions>=3.7.4.3 in /usr/local/lib/python3.10/dist-packages (from huggingface-hub<1.0,>=0.23.0->transformers) (4.12.2)\n",
            "Requirement already satisfied: charset-normalizer<4,>=2 in /usr/local/lib/python3.10/dist-packages (from requests->transformers) (3.3.2)\n",
            "Requirement already satisfied: idna<4,>=2.5 in /usr/local/lib/python3.10/dist-packages (from requests->transformers) (3.7)\n",
            "Requirement already satisfied: urllib3<3,>=1.21.1 in /usr/local/lib/python3.10/dist-packages (from requests->transformers) (2.0.7)\n",
            "Requirement already satisfied: certifi>=2017.4.17 in /usr/local/lib/python3.10/dist-packages (from requests->transformers) (2024.6.2)\n",
            "Requirement already satisfied: torch in /usr/local/lib/python3.10/dist-packages (2.3.0+cu121)\n",
            "Requirement already satisfied: filelock in /usr/local/lib/python3.10/dist-packages (from torch) (3.15.4)\n",
            "Requirement already satisfied: typing-extensions>=4.8.0 in /usr/local/lib/python3.10/dist-packages (from torch) (4.12.2)\n",
            "Requirement already satisfied: sympy in /usr/local/lib/python3.10/dist-packages (from torch) (1.12.1)\n",
            "Requirement already satisfied: networkx in /usr/local/lib/python3.10/dist-packages (from torch) (3.3)\n",
            "Requirement already satisfied: jinja2 in /usr/local/lib/python3.10/dist-packages (from torch) (3.1.4)\n",
            "Requirement already satisfied: fsspec in /usr/local/lib/python3.10/dist-packages (from torch) (2023.6.0)\n",
            "Collecting nvidia-cuda-nvrtc-cu12==12.1.105 (from torch)\n",
            "  Using cached nvidia_cuda_nvrtc_cu12-12.1.105-py3-none-manylinux1_x86_64.whl (23.7 MB)\n",
            "Collecting nvidia-cuda-runtime-cu12==12.1.105 (from torch)\n",
            "  Using cached nvidia_cuda_runtime_cu12-12.1.105-py3-none-manylinux1_x86_64.whl (823 kB)\n",
            "Collecting nvidia-cuda-cupti-cu12==12.1.105 (from torch)\n",
            "  Using cached nvidia_cuda_cupti_cu12-12.1.105-py3-none-manylinux1_x86_64.whl (14.1 MB)\n",
            "Collecting nvidia-cudnn-cu12==8.9.2.26 (from torch)\n",
            "  Using cached nvidia_cudnn_cu12-8.9.2.26-py3-none-manylinux1_x86_64.whl (731.7 MB)\n",
            "Collecting nvidia-cublas-cu12==12.1.3.1 (from torch)\n",
            "  Using cached nvidia_cublas_cu12-12.1.3.1-py3-none-manylinux1_x86_64.whl (410.6 MB)\n",
            "Collecting nvidia-cufft-cu12==11.0.2.54 (from torch)\n",
            "  Using cached nvidia_cufft_cu12-11.0.2.54-py3-none-manylinux1_x86_64.whl (121.6 MB)\n",
            "Collecting nvidia-curand-cu12==10.3.2.106 (from torch)\n",
            "  Using cached nvidia_curand_cu12-10.3.2.106-py3-none-manylinux1_x86_64.whl (56.5 MB)\n",
            "Collecting nvidia-cusolver-cu12==11.4.5.107 (from torch)\n",
            "  Using cached nvidia_cusolver_cu12-11.4.5.107-py3-none-manylinux1_x86_64.whl (124.2 MB)\n",
            "Collecting nvidia-cusparse-cu12==12.1.0.106 (from torch)\n",
            "  Using cached nvidia_cusparse_cu12-12.1.0.106-py3-none-manylinux1_x86_64.whl (196.0 MB)\n",
            "Collecting nvidia-nccl-cu12==2.20.5 (from torch)\n",
            "  Using cached nvidia_nccl_cu12-2.20.5-py3-none-manylinux2014_x86_64.whl (176.2 MB)\n",
            "Collecting nvidia-nvtx-cu12==12.1.105 (from torch)\n",
            "  Using cached nvidia_nvtx_cu12-12.1.105-py3-none-manylinux1_x86_64.whl (99 kB)\n",
            "Requirement already satisfied: triton==2.3.0 in /usr/local/lib/python3.10/dist-packages (from torch) (2.3.0)\n",
            "Collecting nvidia-nvjitlink-cu12 (from nvidia-cusolver-cu12==11.4.5.107->torch)\n",
            "  Downloading nvidia_nvjitlink_cu12-12.5.82-py3-none-manylinux2014_x86_64.whl (21.3 MB)\n",
            "\u001b[2K     \u001b[90m━━━━━━━━━━━━━━━━━━━━━━━━━━━━━━━━━━━━━━━━\u001b[0m \u001b[32m21.3/21.3 MB\u001b[0m \u001b[31m37.8 MB/s\u001b[0m eta \u001b[36m0:00:00\u001b[0m\n",
            "\u001b[?25hRequirement already satisfied: MarkupSafe>=2.0 in /usr/local/lib/python3.10/dist-packages (from jinja2->torch) (2.1.5)\n",
            "Requirement already satisfied: mpmath<1.4.0,>=1.1.0 in /usr/local/lib/python3.10/dist-packages (from sympy->torch) (1.3.0)\n",
            "Installing collected packages: nvidia-nvtx-cu12, nvidia-nvjitlink-cu12, nvidia-nccl-cu12, nvidia-curand-cu12, nvidia-cufft-cu12, nvidia-cuda-runtime-cu12, nvidia-cuda-nvrtc-cu12, nvidia-cuda-cupti-cu12, nvidia-cublas-cu12, nvidia-cusparse-cu12, nvidia-cudnn-cu12, nvidia-cusolver-cu12\n",
            "Successfully installed nvidia-cublas-cu12-12.1.3.1 nvidia-cuda-cupti-cu12-12.1.105 nvidia-cuda-nvrtc-cu12-12.1.105 nvidia-cuda-runtime-cu12-12.1.105 nvidia-cudnn-cu12-8.9.2.26 nvidia-cufft-cu12-11.0.2.54 nvidia-curand-cu12-10.3.2.106 nvidia-cusolver-cu12-11.4.5.107 nvidia-cusparse-cu12-12.1.0.106 nvidia-nccl-cu12-2.20.5 nvidia-nvjitlink-cu12-12.5.82 nvidia-nvtx-cu12-12.1.105\n",
            "Collecting seqeval\n",
            "  Downloading seqeval-1.2.2.tar.gz (43 kB)\n",
            "\u001b[2K     \u001b[90m━━━━━━━━━━━━━━━━━━━━━━━━━━━━━━━━━━━━━━━━\u001b[0m \u001b[32m43.6/43.6 kB\u001b[0m \u001b[31m2.3 MB/s\u001b[0m eta \u001b[36m0:00:00\u001b[0m\n",
            "\u001b[?25h  Preparing metadata (setup.py) ... \u001b[?25l\u001b[?25hdone\n",
            "Requirement already satisfied: numpy>=1.14.0 in /usr/local/lib/python3.10/dist-packages (from seqeval) (1.25.2)\n",
            "Requirement already satisfied: scikit-learn>=0.21.3 in /usr/local/lib/python3.10/dist-packages (from seqeval) (1.2.2)\n",
            "Requirement already satisfied: scipy>=1.3.2 in /usr/local/lib/python3.10/dist-packages (from scikit-learn>=0.21.3->seqeval) (1.11.4)\n",
            "Requirement already satisfied: joblib>=1.1.1 in /usr/local/lib/python3.10/dist-packages (from scikit-learn>=0.21.3->seqeval) (1.4.2)\n",
            "Requirement already satisfied: threadpoolctl>=2.0.0 in /usr/local/lib/python3.10/dist-packages (from scikit-learn>=0.21.3->seqeval) (3.5.0)\n",
            "Building wheels for collected packages: seqeval\n",
            "  Building wheel for seqeval (setup.py) ... \u001b[?25l\u001b[?25hdone\n",
            "  Created wheel for seqeval: filename=seqeval-1.2.2-py3-none-any.whl size=16161 sha256=169ecba6a17229b5fb5257046ea07c22b4c27d06d5b13cf3739c12b90711233c\n",
            "  Stored in directory: /root/.cache/pip/wheels/1a/67/4a/ad4082dd7dfc30f2abfe4d80a2ed5926a506eb8a972b4767fa\n",
            "Successfully built seqeval\n",
            "Installing collected packages: seqeval\n",
            "Successfully installed seqeval-1.2.2\n",
            "Requirement already satisfied: huggingface_hub in /usr/local/lib/python3.10/dist-packages (0.23.4)\n",
            "Requirement already satisfied: filelock in /usr/local/lib/python3.10/dist-packages (from huggingface_hub) (3.15.4)\n",
            "Requirement already satisfied: fsspec>=2023.5.0 in /usr/local/lib/python3.10/dist-packages (from huggingface_hub) (2023.6.0)\n",
            "Requirement already satisfied: packaging>=20.9 in /usr/local/lib/python3.10/dist-packages (from huggingface_hub) (24.1)\n",
            "Requirement already satisfied: pyyaml>=5.1 in /usr/local/lib/python3.10/dist-packages (from huggingface_hub) (6.0.1)\n",
            "Requirement already satisfied: requests in /usr/local/lib/python3.10/dist-packages (from huggingface_hub) (2.31.0)\n",
            "Requirement already satisfied: tqdm>=4.42.1 in /usr/local/lib/python3.10/dist-packages (from huggingface_hub) (4.66.4)\n",
            "Requirement already satisfied: typing-extensions>=3.7.4.3 in /usr/local/lib/python3.10/dist-packages (from huggingface_hub) (4.12.2)\n",
            "Requirement already satisfied: charset-normalizer<4,>=2 in /usr/local/lib/python3.10/dist-packages (from requests->huggingface_hub) (3.3.2)\n",
            "Requirement already satisfied: idna<4,>=2.5 in /usr/local/lib/python3.10/dist-packages (from requests->huggingface_hub) (3.7)\n",
            "Requirement already satisfied: urllib3<3,>=1.21.1 in /usr/local/lib/python3.10/dist-packages (from requests->huggingface_hub) (2.0.7)\n",
            "Requirement already satisfied: certifi>=2017.4.17 in /usr/local/lib/python3.10/dist-packages (from requests->huggingface_hub) (2024.6.2)\n"
          ]
        }
      ]
    },
    {
      "cell_type": "markdown",
      "source": [
        "# **Acceso a los datos**"
      ],
      "metadata": {
        "id": "uKsCoo2Rp7W3"
      }
    },
    {
      "cell_type": "markdown",
      "source": [
        "## Montamos el drive"
      ],
      "metadata": {
        "id": "MPTOEDOPp_Je"
      }
    },
    {
      "cell_type": "code",
      "execution_count": 2,
      "metadata": {
        "colab": {
          "base_uri": "https://localhost:8080/"
        },
        "id": "b9EZ1tGONRxw",
        "outputId": "20245473-9d5b-4958-bd7b-f1da7fd6596d"
      },
      "outputs": [
        {
          "output_type": "stream",
          "name": "stdout",
          "text": [
            "Mounted at /content/drive\n"
          ]
        }
      ],
      "source": [
        "# Montamos el drive para acceder a los archivos\n",
        "drive.mount('/content/drive')"
      ]
    },
    {
      "cell_type": "markdown",
      "source": [
        "## Lista de archivos"
      ],
      "metadata": {
        "id": "U3QUinI-qFsM"
      }
    },
    {
      "cell_type": "code",
      "source": [
        "# Ruta a la carpeta dentro de Google Drive\n",
        "folder_path = '/content/drive/My Drive/ServicioSocial/UniversalDependencies/UD_Spanish-AnCora'\n",
        "\n",
        "# Listar los archivos en la carpeta\n",
        "files = os.listdir(folder_path)\n",
        "print(\"Archivos en la carpeta:\", files)"
      ],
      "metadata": {
        "colab": {
          "base_uri": "https://localhost:8080/"
        },
        "id": "U78MLFA_PK-7",
        "outputId": "4f744945-faa8-4a16-9ecb-4728326c1cf0"
      },
      "execution_count": 3,
      "outputs": [
        {
          "output_type": "stream",
          "name": "stdout",
          "text": [
            "Archivos en la carpeta: ['README.md', 'LICENSE.txt', 'es_ancora-ud-dev.conllu', 'es_ancora-ud-test.conllu', 'es_ancora-ud-train.conllu', 'stats.xml', 'es_ancora-ud-dev.txt', 'es_ancora-ud-test.txt', 'es_ancora-ud-train.txt']\n"
          ]
        }
      ]
    },
    {
      "cell_type": "markdown",
      "source": [
        "## **Datos de entrenamiento**"
      ],
      "metadata": {
        "id": "zCqnP_ITqLUH"
      }
    },
    {
      "cell_type": "code",
      "source": [
        "# Accedemos a los datos de entrenamiento\n",
        "file_path = os.path.join(folder_path, 'es_ancora-ud-train.conllu')\n",
        "\n",
        "# Abrir y leer el contenido del archivo\n",
        "with open(file_path, 'r') as file:\n",
        "    entrenamiento = file.read()\n",
        "\n",
        "# Muestra las primeras 500 caracteres para verificar el contenido\n",
        "print(entrenamiento[:500])"
      ],
      "metadata": {
        "colab": {
          "base_uri": "https://localhost:8080/"
        },
        "id": "dmZJ2i-VPWDJ",
        "outputId": "5d730d1c-e4b8-4101-c73c-86b0cd830026"
      },
      "execution_count": 4,
      "outputs": [
        {
          "output_type": "stream",
          "name": "stdout",
          "text": [
            "# global.Entity = eid-etype-head-other\n",
            "# newdoc id = 3LB-CAST-104_c-1\n",
            "# sent_id = 3LB-CAST-104_c-1-s1\n",
            "# text = Las reservas de oro y divisas de Rusia subieron 800 millones de dólares y el 26 de mayo equivalían a 19.100 millones de dólares, informó hoy un comunicado del Banco Central.\n",
            "# orig_file_sentence 001#58\n",
            "1\tLas\tel\tDET\tda0fp0\tDefinite=Def|Gender=Fem|Number=Plur|PronType=Art\t2\tdet\t2:det\t_\n",
            "2\treservas\treserva\tNOUN\tncfp000\tGender=Fem|Number=Plur\t9\tnsubj\t9:nsubj\tArgTem=arg1:tem\n",
            "3\tde\tde\tADP\tsps00\n"
          ]
        }
      ]
    },
    {
      "cell_type": "markdown",
      "source": [
        "### Formato ConLLu"
      ],
      "metadata": {
        "id": "xJdS19d5qPbl"
      }
    },
    {
      "cell_type": "code",
      "source": [
        "# Parsea el contenido del archivo\n",
        "sentences_train = parse(entrenamiento)"
      ],
      "metadata": {
        "id": "Du9FAltOqZ9L"
      },
      "execution_count": 5,
      "outputs": []
    },
    {
      "cell_type": "markdown",
      "source": [
        "### Como se ve el contenido"
      ],
      "metadata": {
        "id": "QTdccZn6vCTn"
      }
    },
    {
      "cell_type": "code",
      "source": [
        "sentences_train[0]"
      ],
      "metadata": {
        "colab": {
          "base_uri": "https://localhost:8080/"
        },
        "id": "UR5bCfqgukDN",
        "outputId": "d60cfd41-cf0c-441c-9880-9a21b3d37d37"
      },
      "execution_count": 6,
      "outputs": [
        {
          "output_type": "execute_result",
          "data": {
            "text/plain": [
              "TokenList<Las, reservas, de, oro, y, divisas, de, Rusia, subieron, 800, millones, de, dólares, y, el, 26, de, mayo, equivalían, a, 19.100, millones, de, dólares, ,, informó, hoy, un, comunicado, del, de, el, Banco, Central, ., metadata={global.Entity: \"eid-etype-head-other\", newdoc id: \"3LB-CAST-104_c-1\", sent_id: \"3LB-CAST-104_c-1-s1\", text: \"Las reservas de oro y divisas de Rusia subieron 800 millones de dólares y el 26 de mayo equivalían a 19.100 millones de dólares, informó hoy un comunicado del Banco Central.\"}>"
            ]
          },
          "metadata": {},
          "execution_count": 6
        }
      ]
    },
    {
      "cell_type": "code",
      "source": [
        "sentences_train[0][0]"
      ],
      "metadata": {
        "colab": {
          "base_uri": "https://localhost:8080/"
        },
        "id": "q0EEE9TUuakN",
        "outputId": "626d21c3-05d8-4b81-e106-b8e13d96d718"
      },
      "execution_count": 7,
      "outputs": [
        {
          "output_type": "execute_result",
          "data": {
            "text/plain": [
              "{'id': 1,\n",
              " 'form': 'Las',\n",
              " 'lemma': 'el',\n",
              " 'upos': 'DET',\n",
              " 'xpos': 'da0fp0',\n",
              " 'feats': {'Definite': 'Def',\n",
              "  'Gender': 'Fem',\n",
              "  'Number': 'Plur',\n",
              "  'PronType': 'Art'},\n",
              " 'head': 2,\n",
              " 'deprel': 'det',\n",
              " 'deps': [('det', 2)],\n",
              " 'misc': None}"
            ]
          },
          "metadata": {},
          "execution_count": 7
        }
      ]
    },
    {
      "cell_type": "markdown",
      "source": [
        "### Obtenemos los datos que nos interesan para pos tagging que es la palabra y su POS"
      ],
      "metadata": {
        "id": "KdnOoITg-RV1"
      }
    },
    {
      "cell_type": "code",
      "source": [
        "oraciones_train = []\n",
        "labels_train = []\n",
        "\n",
        "for sentence in sentences_train:\n",
        "    palabras = [token['form'] for token in sentence]\n",
        "    pos_tags = [token['upos'] for token in sentence]\n",
        "\n",
        "    oraciones_train.append(palabras)\n",
        "    labels_train.append(pos_tags)"
      ],
      "metadata": {
        "id": "omq1WErc-Y5F"
      },
      "execution_count": 8,
      "outputs": []
    },
    {
      "cell_type": "markdown",
      "source": [
        "## **Datos de validación**"
      ],
      "metadata": {
        "id": "LZxJJ6vBtr9m"
      }
    },
    {
      "cell_type": "code",
      "source": [
        "# Accedemos a los datos de validación\n",
        "file_path = os.path.join(folder_path, 'es_ancora-ud-dev.conllu')\n",
        "\n",
        "# Abrir y leer el contenido del archivo\n",
        "with open(file_path, 'r') as file:\n",
        "    validacion = file.read()\n",
        "\n",
        "# Muestra las primeras 500 caracteres para verificar el contenido\n",
        "print(validacion[:500])"
      ],
      "metadata": {
        "colab": {
          "base_uri": "https://localhost:8080/"
        },
        "id": "prhC03y6tw2e",
        "outputId": "af0bfd04-ced9-48aa-f4fa-50419128f0a7"
      },
      "execution_count": 9,
      "outputs": [
        {
          "output_type": "stream",
          "name": "stdout",
          "text": [
            "# global.Entity = eid-etype-head-other\n",
            "# newdoc id = 3LB-CAST-111_C-2\n",
            "# sent_id = 3LB-CAST-111_C-2-s1\n",
            "# text = El gobernante, con ganada fama desde que llegó hace 16 meses al poder de explotar al máximo su oratoria y acusado por sus detractores de incontinencia verbal, enmudeció desde el momento en el que el Tribunal Supremo de Justicia (TSJ) decidió suspender temporalmente los comicios múltiples ante la imposibilidad \"técnica\" de celebrarlos el 28 de mayo.\n",
            "# orig_file_sentence 001#1\n",
            "1\tEl\tel\tDET\n"
          ]
        }
      ]
    },
    {
      "cell_type": "markdown",
      "source": [
        "### Formato ConLLu"
      ],
      "metadata": {
        "id": "u64bIWZDt_IH"
      }
    },
    {
      "cell_type": "code",
      "source": [
        "# Parsea el contenido del archivo\n",
        "sentences_val = parse(validacion)"
      ],
      "metadata": {
        "id": "ueb1wA2XuDkT"
      },
      "execution_count": 10,
      "outputs": []
    },
    {
      "cell_type": "markdown",
      "source": [
        "### Como se ve el contenido"
      ],
      "metadata": {
        "id": "4rwwo97JuLEo"
      }
    },
    {
      "cell_type": "code",
      "source": [
        "sentences_val[0]"
      ],
      "metadata": {
        "colab": {
          "base_uri": "https://localhost:8080/"
        },
        "id": "c0TSYq6kuMqs",
        "outputId": "104794b5-e7ae-4e55-a28a-06c94af36ace"
      },
      "execution_count": 11,
      "outputs": [
        {
          "output_type": "execute_result",
          "data": {
            "text/plain": [
              "TokenList<El, gobernante, ,, con, ganada, fama, desde, que, llegó, hace, 16, meses, al, a, el, poder, de, explotar, al, a, el, máximo, su, oratoria, y, acusado, por, sus, detractores, de, incontinencia, verbal, ,, enmudeció, desde, el, momento, en, el, que, el, Tribunal, Supremo, de, Justicia, (, TSJ, ), decidió, suspender, temporalmente, los, comicios, múltiples, ante, la, imposibilidad, \", técnica, \", de, celebrarlos, celebrar, los, el, 28, de, mayo, ., metadata={global.Entity: \"eid-etype-head-other\", newdoc id: \"3LB-CAST-111_C-2\", sent_id: \"3LB-CAST-111_C-2-s1\", text: \"El gobernante, con ganada fama desde que llegó hace 16 meses al poder de explotar al máximo su oratoria y acusado por sus detractores de incontinencia verbal, enmudeció desde el momento en el que el Tribunal Supremo de Justicia (TSJ) decidió suspender temporalmente los comicios múltiples ante la imposibilidad \"técnica\" de celebrarlos el 28 de mayo.\"}>"
            ]
          },
          "metadata": {},
          "execution_count": 11
        }
      ]
    },
    {
      "cell_type": "code",
      "source": [
        "sentences_val[0][0]"
      ],
      "metadata": {
        "colab": {
          "base_uri": "https://localhost:8080/"
        },
        "id": "kLPuicR9uPKa",
        "outputId": "7b7991c0-1dba-486e-d13e-d1931f9f91cf"
      },
      "execution_count": 12,
      "outputs": [
        {
          "output_type": "execute_result",
          "data": {
            "text/plain": [
              "{'id': 1,\n",
              " 'form': 'El',\n",
              " 'lemma': 'el',\n",
              " 'upos': 'DET',\n",
              " 'xpos': 'da0ms0',\n",
              " 'feats': {'Definite': 'Def',\n",
              "  'Gender': 'Masc',\n",
              "  'Number': 'Sing',\n",
              "  'PronType': 'Art'},\n",
              " 'head': 2,\n",
              " 'deprel': 'det',\n",
              " 'deps': [('det', 2)],\n",
              " 'misc': None}"
            ]
          },
          "metadata": {},
          "execution_count": 12
        }
      ]
    },
    {
      "cell_type": "markdown",
      "source": [
        "### Obtenemos los datos que nos interesan para pos tagging que es la palabra y su POS"
      ],
      "metadata": {
        "id": "mh1KpqVzuUBl"
      }
    },
    {
      "cell_type": "code",
      "source": [
        "oraciones_val = []\n",
        "labels_val = []\n",
        "\n",
        "for sentence in sentences_val:\n",
        "    palabras = [token['form'] for token in sentence]\n",
        "    pos_tags = [token['upos'] for token in sentence]\n",
        "\n",
        "    oraciones_val.append(palabras)\n",
        "    labels_val.append(pos_tags)"
      ],
      "metadata": {
        "id": "Ou-_KlAouUwB"
      },
      "execution_count": 13,
      "outputs": []
    },
    {
      "cell_type": "markdown",
      "source": [
        "## **Datos de Testeo**"
      ],
      "metadata": {
        "id": "rCU4rGIkuwuj"
      }
    },
    {
      "cell_type": "code",
      "source": [
        "# Accedemos a los datos de validación\n",
        "file_path = os.path.join(folder_path, 'es_ancora-ud-test.conllu')\n",
        "\n",
        "# Abrir y leer el contenido del archivo\n",
        "with open(file_path, 'r') as file:\n",
        "    test = file.read()\n",
        "\n",
        "# Muestra las primeras 500 caracteres para verificar el contenido\n",
        "print(test[:500])"
      ],
      "metadata": {
        "colab": {
          "base_uri": "https://localhost:8080/"
        },
        "id": "boVIVBJkuyX7",
        "outputId": "9ec5efde-943d-4947-85b6-737feb2de065"
      },
      "execution_count": 14,
      "outputs": [
        {
          "output_type": "stream",
          "name": "stdout",
          "text": [
            "# global.Entity = eid-etype-head-other\n",
            "# newdoc id = 3LB-CAST-111_C-4\n",
            "# sent_id = 3LB-CAST-111_C-4-s1\n",
            "# text = Partidario de la \"perestroika\" de Mijail Gorbachov en la Unión Soviética, en 1989 entró en conflicto con Yívkov, líder durante 35 años del Partido Comunista y del Estado búlgaro, y le acusó en una carta abierta de utilizar métodos poco democráticos de gobierno.\n",
            "# orig_file_sentence 001#1\n",
            "1\tPartidario\tpartidario\tADJ\taq0ms0\tGender=Masc|Number=Sing\t17\tamod\t17:amod\t_\n",
            "2\tde\tde\tADP\tsps00\t_\t5\tc\n"
          ]
        }
      ]
    },
    {
      "cell_type": "markdown",
      "source": [
        "### Formato ConLLu"
      ],
      "metadata": {
        "id": "bf3f9pgsu7h-"
      }
    },
    {
      "cell_type": "code",
      "source": [
        "# Parsea el contenido del archivo\n",
        "sentences_test = parse(test)"
      ],
      "metadata": {
        "id": "uoEyZQ3Mu8BL"
      },
      "execution_count": 15,
      "outputs": []
    },
    {
      "cell_type": "markdown",
      "source": [
        "### Como se ve el contenido"
      ],
      "metadata": {
        "id": "UhYcvQS5vHTO"
      }
    },
    {
      "cell_type": "code",
      "source": [
        "sentences_test[0]"
      ],
      "metadata": {
        "colab": {
          "base_uri": "https://localhost:8080/"
        },
        "id": "eSwUHfB8vKAa",
        "outputId": "1e3dd9ca-3ee3-48c6-92b7-123b1c91f142"
      },
      "execution_count": 16,
      "outputs": [
        {
          "output_type": "execute_result",
          "data": {
            "text/plain": [
              "TokenList<Partidario, de, la, \", perestroika, \", de, Mijail, Gorbachov, en, la, Unión, Soviética, ,, en, 1989, entró, en, conflicto, con, Yívkov, ,, líder, durante, 35, años, del, de, el, Partido, Comunista, y, del, de, el, Estado, búlgaro, ,, y, le, acusó, en, una, carta, abierta, de, utilizar, métodos, poco, democráticos, de, gobierno, ., metadata={global.Entity: \"eid-etype-head-other\", newdoc id: \"3LB-CAST-111_C-4\", sent_id: \"3LB-CAST-111_C-4-s1\", text: \"Partidario de la \"perestroika\" de Mijail Gorbachov en la Unión Soviética, en 1989 entró en conflicto con Yívkov, líder durante 35 años del Partido Comunista y del Estado búlgaro, y le acusó en una carta abierta de utilizar métodos poco democráticos de gobierno.\"}>"
            ]
          },
          "metadata": {},
          "execution_count": 16
        }
      ]
    },
    {
      "cell_type": "code",
      "source": [
        "sentences_test[0][0]"
      ],
      "metadata": {
        "colab": {
          "base_uri": "https://localhost:8080/"
        },
        "id": "xiLoVycGvNL6",
        "outputId": "83958c74-0fff-49ca-d222-3ca50805f13b"
      },
      "execution_count": 17,
      "outputs": [
        {
          "output_type": "execute_result",
          "data": {
            "text/plain": [
              "{'id': 1,\n",
              " 'form': 'Partidario',\n",
              " 'lemma': 'partidario',\n",
              " 'upos': 'ADJ',\n",
              " 'xpos': 'aq0ms0',\n",
              " 'feats': {'Gender': 'Masc', 'Number': 'Sing'},\n",
              " 'head': 17,\n",
              " 'deprel': 'amod',\n",
              " 'deps': [('amod', 17)],\n",
              " 'misc': None}"
            ]
          },
          "metadata": {},
          "execution_count": 17
        }
      ]
    },
    {
      "cell_type": "markdown",
      "source": [
        "### Obtenemos los datos que nos interesan para pos tagging que es la palabra y su POS"
      ],
      "metadata": {
        "id": "X9ThmHS7vOXH"
      }
    },
    {
      "cell_type": "code",
      "source": [
        "oraciones_test = []\n",
        "labels_test = []\n",
        "\n",
        "for sentence in sentences_test:\n",
        "    palabras = [token['form'] for token in sentence]\n",
        "    pos_tags = [token['upos'] for token in sentence]\n",
        "\n",
        "    oraciones_test.append(palabras)\n",
        "    labels_test.append(pos_tags)"
      ],
      "metadata": {
        "id": "vbCtln3KvSQ3"
      },
      "execution_count": 18,
      "outputs": []
    },
    {
      "cell_type": "markdown",
      "source": [
        "# **Modelado con Transformers**"
      ],
      "metadata": {
        "id": "JcnW68kk9YSZ"
      }
    },
    {
      "cell_type": "markdown",
      "source": [
        "## **Tokenizador**"
      ],
      "metadata": {
        "id": "e1CbdCPq_pT4"
      }
    },
    {
      "cell_type": "markdown",
      "source": [
        "Antes de proceder con el entrenamiento o la evaluación de nuestro modelo, necesitamos preparar nuestros datos de texto para que estén en un formato adecuado que el modelo pueda entender. Esto implica convertir el texto crudo en una secuencia de tokens o unidades de texto más pequeñas. Para realizar esta tarea, utilizamos un tokenizador.\n",
        "\n",
        "El tokenizador desempeña varias funciones clave:\n",
        "\n",
        "* Divide el texto: Transforma el texto crudo en tokens, que pueden ser palabras,\n",
        "partes de palabras, o incluso caracteres, dependiendo del vocabulario preentrenado del modelo.\n",
        "* Convierte a IDs: Asigna a cada token un identificador único según el vocabulario del modelo preentrenado.\n",
        "* Añade tokens especiales: Inserta tokens especiales requeridos por el modelo para entender correctamente la estructura del texto, como los tokens de inicio, separación y relleno.\n",
        "* Crea máscaras de atención: Genera máscaras para indicar al modelo qué partes de la secuencia son tokens reales y cuáles son relleno.\n",
        "\n",
        "Estos pasos son cruciales para asegurar que el modelo procese el texto de manera efectiva y genere predicciones precisas. Para nuestro modelo XLM-RoBERTa, utilizaremos el XLMRobertaTokenizerFast, el cual está específicamente diseñado para trabajar con el modelo XLM-RoBERTa y optimizado para ofrecer una tokenización rápida y eficiente."
      ],
      "metadata": {
        "id": "_otNtnJR_GoO"
      }
    },
    {
      "cell_type": "code",
      "source": [
        "# Cargar el tokenizador\n",
        "tokenizer = XLMRobertaTokenizerFast.from_pretrained('xlm-roberta-base')"
      ],
      "metadata": {
        "id": "XmpZLYQt_rqK",
        "colab": {
          "base_uri": "https://localhost:8080/",
          "height": 313,
          "referenced_widgets": [
            "72e0bfec10c947c9a48efe4e5d8d4ce3",
            "c3a0d7c9c1824146957efd604994835c",
            "a8e77dfc37bd4184b20fdde8a6e4eb7e",
            "23f2ff51df914e3f9a2755e4f14ff006",
            "694abe08fc654e81be4e986d8f5399e6",
            "29a5c398abfb46bbb4f800307945cbc1",
            "2a56f191080246c2ac46161af99353df",
            "0b0e62bd9f0540d7971f1b8908ffb5fa",
            "4f4ed0b6b8474d2d9fa5b658eb1b678f",
            "def07442822345518a494f38b8602eb5",
            "118758ac00d24a2ab7a7bb861f2a7749",
            "b15770d26e004864b1f80277a9d959ab",
            "b712ffa3efaf434bb75d9b5893bb9dd1",
            "f44ce58ef96248bc8661c12ee03e87c8",
            "265a490fde7f48c787449a93aa4dab76",
            "c06c24a2a6a340f0b40a92a68b96adfb",
            "01733c0d0d8e4f94a1d4fb2a7a439ea4",
            "eab831f96fdf4d969e6fca3964630ec0",
            "08dcccdb3f384a8d92785d868cc45322",
            "62ca90cc9e264368b62a65167f07317a",
            "5497b941dba746a09eab83c7db10281b",
            "e4c9959b90bf4d3dafedb53216ee0726",
            "33c42658e34c40b5962695271923464c",
            "27529eb1b4034d0abf424c499f42b8ae",
            "93ac304c8e914b1082b2b2afe0877f62",
            "05f60f326e8e47418416a9d254ded9f6",
            "ed70f49fd0694688aad933ac62ad8351",
            "2da08c4a3d0e4df3b8cef996a5275579",
            "3fe6d0bc1c4544bd9493c318f44341cc",
            "f31725b4a91443d9a1b66497b2a1a135",
            "249291f1fdd7401db5d2d744022d95c6",
            "b278afc0781944889cd9890647cfb32d",
            "83888c50a3214b1b92f55b3a616c7791",
            "45202d9bf7674605a3df4d106569e623",
            "89b289df408449d6bb7a6e65bddab507",
            "788696b798e44b858b3da6f8ccf9e097",
            "32253f98d2f949b0a143691c0ab5d1eb",
            "1a1f8694708445b7a21cc6bcd3757a19",
            "6c3adc707f174dcfbe3358fc0a605116",
            "cc15e89a8a1c49ac9fb10639dfffca2c",
            "95b0d2a9f5c14642b95bf24756104459",
            "56e75550742c4ebc9cd40997407e4b9b",
            "9c5b7216bd484ff3b3d6afaf598c74f7",
            "6e9969d8b7db4367b45ff30fa991dd81"
          ]
        },
        "outputId": "f493f95c-bcaa-4645-9a5b-cbf87e3b9ead"
      },
      "execution_count": 19,
      "outputs": [
        {
          "output_type": "stream",
          "name": "stderr",
          "text": [
            "/usr/local/lib/python3.10/dist-packages/huggingface_hub/utils/_token.py:89: UserWarning: \n",
            "The secret `HF_TOKEN` does not exist in your Colab secrets.\n",
            "To authenticate with the Hugging Face Hub, create a token in your settings tab (https://huggingface.co/settings/tokens), set it as secret in your Google Colab and restart your session.\n",
            "You will be able to reuse this secret in all of your notebooks.\n",
            "Please note that authentication is recommended but still optional to access public models or datasets.\n",
            "  warnings.warn(\n"
          ]
        },
        {
          "output_type": "display_data",
          "data": {
            "text/plain": [
              "tokenizer_config.json:   0%|          | 0.00/25.0 [00:00<?, ?B/s]"
            ],
            "application/vnd.jupyter.widget-view+json": {
              "version_major": 2,
              "version_minor": 0,
              "model_id": "72e0bfec10c947c9a48efe4e5d8d4ce3"
            }
          },
          "metadata": {}
        },
        {
          "output_type": "display_data",
          "data": {
            "text/plain": [
              "sentencepiece.bpe.model:   0%|          | 0.00/5.07M [00:00<?, ?B/s]"
            ],
            "application/vnd.jupyter.widget-view+json": {
              "version_major": 2,
              "version_minor": 0,
              "model_id": "b15770d26e004864b1f80277a9d959ab"
            }
          },
          "metadata": {}
        },
        {
          "output_type": "display_data",
          "data": {
            "text/plain": [
              "tokenizer.json:   0%|          | 0.00/9.10M [00:00<?, ?B/s]"
            ],
            "application/vnd.jupyter.widget-view+json": {
              "version_major": 2,
              "version_minor": 0,
              "model_id": "33c42658e34c40b5962695271923464c"
            }
          },
          "metadata": {}
        },
        {
          "output_type": "stream",
          "name": "stderr",
          "text": [
            "/usr/local/lib/python3.10/dist-packages/huggingface_hub/file_download.py:1132: FutureWarning: `resume_download` is deprecated and will be removed in version 1.0.0. Downloads always resume when possible. If you want to force a new download, use `force_download=True`.\n",
            "  warnings.warn(\n"
          ]
        },
        {
          "output_type": "display_data",
          "data": {
            "text/plain": [
              "config.json:   0%|          | 0.00/615 [00:00<?, ?B/s]"
            ],
            "application/vnd.jupyter.widget-view+json": {
              "version_major": 2,
              "version_minor": 0,
              "model_id": "45202d9bf7674605a3df4d106569e623"
            }
          },
          "metadata": {}
        }
      ]
    },
    {
      "cell_type": "code",
      "source": [
        "# Tokenizamos\n",
        "tokenized_train = tokenizer(oraciones_train, truncation=True, padding=True, is_split_into_words=True, return_tensors=\"pt\")\n",
        "tokenized_val = tokenizer(oraciones_val, truncation=True, padding=True, is_split_into_words=True, return_tensors=\"pt\")\n",
        "tokenized_test = tokenizer(oraciones_test, truncation=True, padding=True, is_split_into_words=True, return_tensors=\"pt\")"
      ],
      "metadata": {
        "id": "ro4HT2C2C_QD"
      },
      "execution_count": 20,
      "outputs": []
    },
    {
      "cell_type": "code",
      "source": [
        "tokenized_train"
      ],
      "metadata": {
        "colab": {
          "base_uri": "https://localhost:8080/"
        },
        "id": "V2vFf5AaPUpQ",
        "outputId": "003dc144-7d24-4c06-f30c-f73d9f7f5f51"
      },
      "execution_count": 21,
      "outputs": [
        {
          "output_type": "execute_result",
          "data": {
            "text/plain": [
              "{'input_ids': tensor([[     0,   5599,  18433,  ...,      1,      1,      1],\n",
              "        [     0,  64933,     88,  ...,      1,      1,      1],\n",
              "        [     0,   3731,  99867,  ...,      1,      1,      1],\n",
              "        ...,\n",
              "        [     0,     44, 176684,  ...,      1,      1,      1],\n",
              "        [     0,     44,    990,  ...,      1,      1,      1],\n",
              "        [     0,   4228, 178831,  ...,      1,      1,      1]]), 'attention_mask': tensor([[1, 1, 1,  ..., 0, 0, 0],\n",
              "        [1, 1, 1,  ..., 0, 0, 0],\n",
              "        [1, 1, 1,  ..., 0, 0, 0],\n",
              "        ...,\n",
              "        [1, 1, 1,  ..., 0, 0, 0],\n",
              "        [1, 1, 1,  ..., 0, 0, 0],\n",
              "        [1, 1, 1,  ..., 0, 0, 0]])}"
            ]
          },
          "metadata": {},
          "execution_count": 21
        }
      ]
    },
    {
      "cell_type": "markdown",
      "source": [
        "## **Alineación de las etiquetas**\n",
        "\n",
        "Puesto que al tokenizar las palabras puede que estas sean divididas en palabras mas pequeñas si son desconocidas pra el modelo, hay que realinear las etiquetas que tenian asignadas."
      ],
      "metadata": {
        "id": "-rKnW7v6E3ek"
      }
    },
    {
      "cell_type": "markdown",
      "source": [
        "### Diccionario que mapea las etiquetas a un id único"
      ],
      "metadata": {
        "id": "ME3wqdsBFiLP"
      }
    },
    {
      "cell_type": "code",
      "source": [
        "unique_labels = set(label for sublist in labels_train for label in sublist)\n",
        "\n",
        "# Crear el mapeo de etiquetas a ID\n",
        "label_to_id = {label: id for id, label in enumerate(unique_labels)}"
      ],
      "metadata": {
        "id": "O3SDi1ynFmdi"
      },
      "execution_count": null,
      "outputs": []
    },
    {
      "cell_type": "code",
      "source": [
        "label_to_id"
      ],
      "metadata": {
        "colab": {
          "base_uri": "https://localhost:8080/"
        },
        "id": "vuaIvYJyFxIK",
        "outputId": "9376793b-204e-470d-841a-c7e1c1897f83"
      },
      "execution_count": null,
      "outputs": [
        {
          "output_type": "execute_result",
          "data": {
            "text/plain": [
              "{'NOUN': 0,\n",
              " 'PROPN': 1,\n",
              " 'VERB': 2,\n",
              " 'SCONJ': 3,\n",
              " 'SYM': 4,\n",
              " 'PUNCT': 5,\n",
              " 'INTJ': 6,\n",
              " 'X': 7,\n",
              " 'CCONJ': 8,\n",
              " 'AUX': 9,\n",
              " 'DET': 10,\n",
              " 'ADP': 11,\n",
              " 'PART': 12,\n",
              " 'NUM': 13,\n",
              " 'PRON': 14,\n",
              " 'ADV': 15,\n",
              " 'ADJ': 16,\n",
              " '_': 17}"
            ]
          },
          "metadata": {},
          "execution_count": 22
        }
      ]
    },
    {
      "cell_type": "markdown",
      "source": [
        "### **Asignación de POS tags a los nuevos tokens**\n",
        "\n",
        "Asignamos los ids con base en nuestro diccionarios de Tags, o en su defecto en caso de palabras que fueron descompuestas, solo al primer componente y al segundo asignamos -100, lo cual es una convención de HugginFace para ser ignoradas por el modelo"
      ],
      "metadata": {
        "id": "Fz08unXiGWcd"
      }
    },
    {
      "cell_type": "markdown",
      "source": [
        "#### **Entrenamiento**"
      ],
      "metadata": {
        "id": "obieK5EvwNrh"
      }
    },
    {
      "cell_type": "code",
      "source": [
        "## nueva lista de labels\n",
        "labels_train_aligned = []\n",
        "\n",
        "## Iteramos sobre la lista original de labels\n",
        "for i, label_seq in enumerate(labels_train):\n",
        "\n",
        "    # Obtenemos los word_ids para la secuencia tokenizada actual\n",
        "    word_ids = tokenized_train.word_ids(batch_index=i)\n",
        "\n",
        "    label_ids = []\n",
        "\n",
        "    previous_word_id = None\n",
        "\n",
        "    for word_id in word_ids:\n",
        "\n",
        "        # Si el word_id es None (token especial) o es un subtoken (mismo word_id que el anterior), asigna -100\n",
        "        if word_id is None or word_id == previous_word_id:\n",
        "            label_ids.append(-100)\n",
        "        else:\n",
        "\n",
        "            # Obtenemos el id del Tag que correspondia a esa palabra\n",
        "            label_ids.append(label_to_id[label_seq[word_id]])\n",
        "\n",
        "        previous_word_id = word_id\n",
        "\n",
        "    labels_train_aligned.append(label_ids)"
      ],
      "metadata": {
        "id": "KkZ89_KCHeBW"
      },
      "execution_count": null,
      "outputs": []
    },
    {
      "cell_type": "code",
      "source": [
        "## Conversión a tensores\n",
        "labels_train_tensor = torch.tensor(labels_train_aligned)\n",
        "\n",
        "## Agregamos las labels al diccionario donde tendremos los dos tensores:\n",
        "tokenized_train[\"labels\"] = labels_train_tensor"
      ],
      "metadata": {
        "id": "um1XoFWHFEmZ"
      },
      "execution_count": null,
      "outputs": []
    },
    {
      "cell_type": "markdown",
      "source": [
        "#### **Validación**"
      ],
      "metadata": {
        "id": "q0U0rseGwzRq"
      }
    },
    {
      "cell_type": "code",
      "source": [
        "## nueva lista de labels\n",
        "labels_val_aligned = []\n",
        "\n",
        "## Iteramos sobre la lista original de labels\n",
        "for i, label_seq in enumerate(labels_val):\n",
        "\n",
        "    # Obtenemos los word_ids para la secuencia tokenizada actual\n",
        "    word_ids = tokenized_val.word_ids(batch_index=i)\n",
        "\n",
        "    label_ids = []\n",
        "\n",
        "    previous_word_id = None\n",
        "\n",
        "    for word_id in word_ids:\n",
        "\n",
        "        # Si el word_id es None (token especial) o es un subtoken (mismo word_id que el anterior), asigna -100\n",
        "        if word_id is None or word_id == previous_word_id:\n",
        "            label_ids.append(-100)\n",
        "        else:\n",
        "\n",
        "            # Obtenemos el id del Tag que correspondia a esa palabra\n",
        "            label_ids.append(label_to_id[label_seq[word_id]])\n",
        "\n",
        "        previous_word_id = word_id\n",
        "\n",
        "    labels_val_aligned.append(label_ids)"
      ],
      "metadata": {
        "id": "P54V6gNOw7ch"
      },
      "execution_count": null,
      "outputs": []
    },
    {
      "cell_type": "code",
      "source": [
        "## Conversión a tensores\n",
        "labels_val_tensor = torch.tensor(labels_val_aligned)\n",
        "\n",
        "## Agregamos las labels al diccionario donde tendremos los dos tensores:\n",
        "tokenized_val[\"labels\"] = labels_val_tensor"
      ],
      "metadata": {
        "id": "UA7NOw6wyme-"
      },
      "execution_count": null,
      "outputs": []
    },
    {
      "cell_type": "markdown",
      "source": [
        "#### **Testeo**"
      ],
      "metadata": {
        "id": "r5E9LGIMytMn"
      }
    },
    {
      "cell_type": "code",
      "source": [
        "## nueva lista de labels\n",
        "labels_test_aligned = []\n",
        "\n",
        "## Iteramos sobre la lista original de labels\n",
        "for i, label_seq in enumerate(labels_test):\n",
        "\n",
        "    # Obtenemos los word_ids para la secuencia tokenizada actual\n",
        "    word_ids = tokenized_test.word_ids(batch_index=i)\n",
        "\n",
        "    label_ids = []\n",
        "\n",
        "    previous_word_id = None\n",
        "\n",
        "    for word_id in word_ids:\n",
        "\n",
        "        # Si el word_id es None (token especial) o es un subtoken (mismo word_id que el anterior), asigna -100\n",
        "        if word_id is None or word_id == previous_word_id:\n",
        "            label_ids.append(-100)\n",
        "        else:\n",
        "\n",
        "            # Obtenemos el id del Tag que correspondia a esa palabra\n",
        "            label_ids.append(label_to_id[label_seq[word_id]])\n",
        "\n",
        "        previous_word_id = word_id\n",
        "\n",
        "    labels_test_aligned.append(label_ids)"
      ],
      "metadata": {
        "id": "-hHrQudfyw2D"
      },
      "execution_count": null,
      "outputs": []
    },
    {
      "cell_type": "code",
      "source": [
        "## Conversión a tensores\n",
        "labels_test_tensor = torch.tensor(labels_test_aligned)\n",
        "\n",
        "## Agregamos las labels al diccionario donde tendremos los dos tensores:\n",
        "tokenized_test[\"labels\"] = labels_test_tensor"
      ],
      "metadata": {
        "id": "sQg0c4nuy44y"
      },
      "execution_count": null,
      "outputs": []
    },
    {
      "cell_type": "markdown",
      "source": [
        "## **Modelo**"
      ],
      "metadata": {
        "id": "SCYpOM0C39n-"
      }
    },
    {
      "cell_type": "markdown",
      "source": [
        "Instanciamos el modelo de la clase XLMRobertaForTokenClassification, la cual añade una capa a un modelo preentrenado con la función from_pretained, en este caso 'xml-roberta-base', y en esta capa se realiza el fine tuning para nuestro POS tagging"
      ],
      "metadata": {
        "id": "HVShNV1p46L5"
      }
    },
    {
      "cell_type": "code",
      "source": [
        "model = XLMRobertaForTokenClassification.from_pretrained('xlm-roberta-base', num_labels=len(unique_labels))"
      ],
      "metadata": {
        "colab": {
          "base_uri": "https://localhost:8080/",
          "height": 86,
          "referenced_widgets": [
            "f186234f6acc4dd6a7d4815e156d478f",
            "309c503b9b0c4062872161342ddbdc6e",
            "61af110202f34726bdee9955946c6337",
            "337d13aae5ce41f1acaf81ce750f6b7f",
            "202bc2f2358944b7acf37c6ada47506d",
            "ce8f25b153af41d3ae6a9e9ab3549ac6",
            "34754b70cd4f4dc288575e0a4b9809cf",
            "e5be3e8f28234367a94512e3fd1a1fea",
            "a8bc4f430a16421c92a3176c75da0ca5",
            "bbb7b95e5b7e4921910fc013e45cb327",
            "96b7ff90284f4bd4901801a78ba8991b"
          ]
        },
        "id": "BOqITYLI4A_f",
        "outputId": "bcc68143-7828-40c9-aeaf-9796a2e3360f"
      },
      "execution_count": null,
      "outputs": [
        {
          "output_type": "display_data",
          "data": {
            "text/plain": [
              "model.safetensors:   0%|          | 0.00/1.12G [00:00<?, ?B/s]"
            ],
            "application/vnd.jupyter.widget-view+json": {
              "version_major": 2,
              "version_minor": 0,
              "model_id": "f186234f6acc4dd6a7d4815e156d478f"
            }
          },
          "metadata": {}
        },
        {
          "output_type": "stream",
          "name": "stderr",
          "text": [
            "Some weights of XLMRobertaForTokenClassification were not initialized from the model checkpoint at xlm-roberta-base and are newly initialized: ['classifier.bias', 'classifier.weight']\n",
            "You should probably TRAIN this model on a down-stream task to be able to use it for predictions and inference.\n"
          ]
        }
      ]
    },
    {
      "cell_type": "markdown",
      "source": [
        "## **Entrenamiento**"
      ],
      "metadata": {
        "id": "7smoI5Oc5bTf"
      }
    },
    {
      "cell_type": "markdown",
      "source": [
        "### **Construcción de DataSets de PyTorch**\n",
        "\n",
        "La utilización de Datasets personalizados en PyTorch es una práctica clave en el flujo de trabajo de aprendizaje profundo, ofreciendo múltiples ventajas para el manejo de datos complejos y específicos de una tarea, como el etiquetado de parte del discurso (POS tagging) en procesamiento de lenguaje natural (PLN):\n",
        "\n",
        "* Estandarización de la Entrada de Datos: Permite estandarizar el formato de los datos de entrada y las etiquetas, asegurando que el modelo reciba la información en la estructura esperada y en tipos de datos consistentes, lo cual es crucial para modelos preentrenados como XLM-RoBERTa.\n",
        "\n",
        "* Escalabilidad y Flexibilidad: Facilita el manejo de grandes volúmenes de datos al cargarlos eficientemente en memoria. PyTorch optimiza el acceso y la manipulación de los datos durante el entrenamiento, lo que permite escalar el proceso a conjuntos de datos más grandes y complejos sin sacrificar el rendimiento.\n",
        "\n",
        "* Personalización para Preprocesamiento Específico: Cada tarea de PLN puede requerir un preprocesamiento de datos único (p.ej., tokenización, alineación de etiquetas). Los Datasets personalizados permiten integrar estos pasos específicos directamente en el flujo de datos, asegurando que todas las instancias se procesen de manera uniforme antes del entrenamiento.\n",
        "\n",
        "*Integración con DataLoader de PyTorch: Al utilizar Datasets personalizados en conjunto con DataLoader, se facilita el batching, el muestreo aleatorio y la paralelización en la carga de datos, mejorando la eficiencia del entrenamiento y la evaluación del modelo."
      ],
      "metadata": {
        "id": "1rt2tRCz5dnk"
      }
    },
    {
      "cell_type": "code",
      "source": [
        "# Definimos nuestra clase heredada de Dataset\n",
        "class POSDataset(Dataset):\n",
        "    def __init__(self, encodings):\n",
        "        self.encodings = encodings\n",
        "\n",
        "    def __getitem__(self, idx):\n",
        "        item = {key: val[idx] for key, val in self.encodings.items()}\n",
        "        return item\n",
        "\n",
        "    def __len__(self):\n",
        "        return len(self.encodings['input_ids'])"
      ],
      "metadata": {
        "id": "bMd6VejPrXe5"
      },
      "execution_count": null,
      "outputs": []
    },
    {
      "cell_type": "markdown",
      "source": [
        "#### **Creamos los Datasets**"
      ],
      "metadata": {
        "id": "3GsBT_faNNg3"
      }
    },
    {
      "cell_type": "code",
      "source": [
        "train_dataset = POSDataset(tokenized_train)\n",
        "val_dataset = POSDataset(tokenized_val)\n",
        "test_dataset = POSDataset(tokenized_test)"
      ],
      "metadata": {
        "id": "M4VueG8QNT-q"
      },
      "execution_count": null,
      "outputs": []
    },
    {
      "cell_type": "markdown",
      "source": [
        "### **Carga y Manejo de Datos con DataLoader**\n",
        "\n",
        "La clase DataLoader de PyTorch es una herramienta esencial para la carga y manejo eficiente de datos durante el entrenamiento y validación de modelos de aprendizaje profundo. Proporciona una interfaz flexible y potente para automatizar la carga de datos en lotes, el barajado de los datos para el entrenamiento, y el aprovechamiento de la carga de datos en paralelo a través de múltiples subprocesos. Su compatibilidad con cualquier clase que herede de torch.utils.data.Dataset lo hace indispensable para trabajar con datasets personalizados, facilitando un entrenamiento eficaz y escalable.\n",
        "\n",
        "Características Clave:\n",
        "\n",
        "* Carga en Lotes: Permite el procesamiento de datos en pequeños grupos, haciéndolo manejable y eficiente.\n",
        "* Barajado de Datos: Mejora la generalización del modelo al presentar los datos en un orden diferente cada época.\n",
        "* Carga Paralela: Utiliza múltiples subprocesos para cargar datos, acelerando la preparación antes del entrenamiento."
      ],
      "metadata": {
        "id": "ZjnbZyq4NyTA"
      }
    },
    {
      "cell_type": "code",
      "source": [
        "train_loader = DataLoader(train_dataset, batch_size=16, shuffle=True, num_workers=2)\n",
        "val_loader = DataLoader(val_dataset, batch_size=16, shuffle=False, num_workers=2)\n",
        "test_loader = DataLoader(test_dataset, batch_size=16, shuffle=False, num_workers=2)"
      ],
      "metadata": {
        "id": "_GMgRqQ3Nza1"
      },
      "execution_count": null,
      "outputs": []
    },
    {
      "cell_type": "markdown",
      "source": [
        "### **Configuración del Optimizador y Función de Pérdida**\n",
        "\n",
        "Para entrenar efectivamente nuestro modelo de etiquetado de parte del discurso (POS tagging) con la biblioteca Transformers y PyTorch, necesitamos definir dos componentes críticos: el optimizador y la función de pérdida. Estos elementos son esenciales para guiar el proceso de aprendizaje del modelo, permitiéndonos ajustar sus parámetros internos (pesos) basados en el rendimiento observado durante el entrenamiento.\n",
        "\n",
        "**Optimizador**\n",
        "\n",
        "El optimizador es responsable de actualizar los parámetros del modelo en dirección a minimizar la función de pérdida. Una elección común para muchas tareas de procesamiento de lenguaje natural, incluido el etiquetado de parte del discurso, es AdamW. AdamW es una variante del optimizador Adam que incorpora correcciones de decaimiento de peso, lo que ayuda a prevenir el sobreajuste y mejora la generalización en comparación con el Adam estándar.\n",
        "\n",
        "**Función de Pérdida**\n",
        "\n",
        "La función de pérdida mide la discrepancia entre las predicciones del modelo y las etiquetas reales. Para tareas de clasificación, como el etiquetado de parte del discurso, una elección común es la Cross-Entropy Loss, que es efectiva para comparar la distribución de las predicciones del modelo con la distribución real de las etiquetas."
      ],
      "metadata": {
        "id": "_CVKGHjXSgvA"
      }
    },
    {
      "cell_type": "code",
      "source": [
        "# Inicializamos el optimizador AdamW con los parámetros del modelo\n",
        "optimizer = AdamW(model.parameters(), lr=5e-5)\n",
        "\n",
        "# Definimos la función de pérdida\n",
        "loss_fn = CrossEntropyLoss()"
      ],
      "metadata": {
        "id": "YMMmvtLxTbZ9",
        "colab": {
          "base_uri": "https://localhost:8080/"
        },
        "outputId": "4b9917de-174a-4441-8a3e-a1627a761e31"
      },
      "execution_count": null,
      "outputs": [
        {
          "output_type": "stream",
          "name": "stderr",
          "text": [
            "/usr/local/lib/python3.10/dist-packages/transformers/optimization.py:588: FutureWarning: This implementation of AdamW is deprecated and will be removed in a future version. Use the PyTorch implementation torch.optim.AdamW instead, or set `no_deprecation_warning=True` to disable this warning\n",
            "  warnings.warn(\n"
          ]
        }
      ]
    },
    {
      "cell_type": "markdown",
      "source": [
        "### **Early Stopping**\n",
        "\n",
        "El early stopping es una técnica utilizada para prevenir el sobreajuste durante el entrenamiento de modelos de aprendizaje profundo. La idea detrás de esta técnica es monitorear el rendimiento del modelo en un conjunto de datos de validación y detener el entrenamiento cuando dicho rendimiento deja de mejorar.\n",
        "\n",
        "Para implementar early stopping, se utilizan tres parámetros clave:\n",
        "\n",
        "* **patience**: Este parámetro define el número de épocas que esperaremos para observar una mejora en la pérdida de validación antes de detener el entrenamiento. En este caso, se ha establecido una patience de 2, lo que significa que si después de dos épocas consecutivas no se observa una mejora, el entrenamiento se detendrá.\n",
        "\n",
        "* **best_val_loss**: Representa la mejor pérdida de validación observada hasta el momento. Se inicializa con un valor infinito para asegurar que cualquier pérdida calculada en las primeras épocas se considere como una mejora. Este valor se actualizará a lo largo del entrenamiento cada vez que encontremos una pérdida de validación menor.\n",
        "\n",
        "* **epochs_no_improve**: Es un contador que lleva la cuenta de cuántas épocas consecutivas han pasado sin observar una mejora en la pérdida de validación. Si este contador alcanza el valor especificado por patience, se activará el early stopping."
      ],
      "metadata": {
        "id": "8DPcC6fdYZTK"
      }
    },
    {
      "cell_type": "markdown",
      "source": [],
      "metadata": {
        "id": "Di0YMmCTZ2K9"
      }
    },
    {
      "cell_type": "code",
      "source": [
        "# Early stopping\n",
        "patience = 2  # Número de épocas a esperar después de una mejora antes de detener el entrenamiento\n",
        "best_val_loss = float('inf')  # Mejor pérdida de validación observada, inicializada con infinito\n",
        "epochs_no_improve = 0  # Contador de épocas sin mejora"
      ],
      "metadata": {
        "id": "BMTag-OCYcNF"
      },
      "execution_count": null,
      "outputs": []
    },
    {
      "cell_type": "markdown",
      "source": [
        "### **Entrenamiento** utilizando los dataloaders, el optimizador y la función de pérdida"
      ],
      "metadata": {
        "id": "RoUTrqMIXSkp"
      }
    },
    {
      "cell_type": "code",
      "source": [
        "# Verificamos si el entorno tiene GPU, y nos aseguramos que el modelo este cargado\n",
        "device = torch.device(\"cuda\" if torch.cuda.is_available() else \"cpu\")\n",
        "model.to(device)\n",
        "\n",
        "# Guardado del mejor modelo\n",
        "model_save_path = '/content/best_model.pt'\n",
        "\n",
        "# Modelo en modo entrenamiento\n",
        "model.train()\n",
        "\n",
        "# Número de épocas\n",
        "num_epochs = 8\n",
        "\n",
        "# Recorremos el conjunto de entrenamiento, la cantidad de épocas definidas\n",
        "for epoch in range(num_epochs):\n",
        "\n",
        "    # Pérdida de la época\n",
        "    total_loss = 0\n",
        "\n",
        "    # Con nuestros DataLoaders, recorremos los lotes\n",
        "    for batch in train_loader:\n",
        "\n",
        "      # Reseteamos los gradientes del optimizador en cada lote, para solo tomar en cuenta el acumulado en la iteración del lote actual\n",
        "        optimizer.zero_grad()\n",
        "\n",
        "        # Nos aseguremos que todos nuestros datos se carguen en memoria en el mismo dispositivo\n",
        "        input_ids = batch['input_ids'].to(device)\n",
        "        attention_mask = batch['attention_mask'].to(device)\n",
        "        labels = batch['labels'].to(device)\n",
        "\n",
        "        # Obtenemos las predicciones del modelo en el conjunto de entrenamiento y su pérdida\n",
        "        outputs = model(input_ids, attention_mask=attention_mask, labels=labels)\n",
        "        loss = outputs.loss\n",
        "        total_loss += loss.item()\n",
        "\n",
        "        # Retropropagación de la pérdida y calculo del gradiente\n",
        "        loss.backward()\n",
        "\n",
        "        # Recalibración de los pesos del modelo\n",
        "        optimizer.step()\n",
        "\n",
        "    # Pérdida promedio por época respecto a los lotes\n",
        "    avg_train_loss = total_loss / len(train_loader)\n",
        "    print(f\"Epoch {epoch + 1}/{num_epochs}, Training Loss: {avg_train_loss}\")\n",
        "\n",
        "    # Validación\n",
        "\n",
        "    # Modelo en modo evaluación\n",
        "    model.eval()\n",
        "    total_eval_loss = 0\n",
        "    for batch in val_loader:\n",
        "        with torch.no_grad():\n",
        "            input_ids = batch['input_ids'].to(device)\n",
        "            attention_mask = batch['attention_mask'].to(device)\n",
        "            labels = batch['labels'].to(device)\n",
        "\n",
        "            outputs = model(input_ids, attention_mask=attention_mask, labels=labels)\n",
        "            loss = outputs.loss\n",
        "            total_eval_loss += loss.item()\n",
        "\n",
        "    avg_val_loss = total_eval_loss / len(val_loader)\n",
        "    print(f\"Epoch {epoch + 1}/{num_epochs}, Validation Loss: {avg_val_loss}\")\n",
        "\n",
        "    # Early Stopping\n",
        "    if avg_val_loss < best_val_loss:\n",
        "        print(f\"Validation loss improved from {best_val_loss} to {avg_val_loss}. Saving best model to {model_save_path}.\")\n",
        "        best_val_loss = avg_val_loss\n",
        "\n",
        "        epochs_no_improve = 0\n",
        "\n",
        "        # Guarda el modelo\n",
        "        torch.save(model.state_dict(), model_save_path)\n",
        "\n",
        "    else:\n",
        "        epochs_no_improve += 1\n",
        "        print(f\"Validation loss did not improve. ({epochs_no_improve}/{patience} epochs without improvement)\")\n",
        "\n",
        "    # Verifica si se alcanzó el límite de paciencia para el early stopping\n",
        "    if epochs_no_improve == patience:\n",
        "        print(\"Early stopping triggered.\")\n",
        "        break\n",
        "\n",
        "    # Vuelve a poner el modelo en modo de entrenamiento para la siguiente época\n",
        "    model.train()"
      ],
      "metadata": {
        "id": "yuxDN25EXZq-",
        "colab": {
          "base_uri": "https://localhost:8080/"
        },
        "outputId": "f9741cc5-ceeb-4697-df90-a17410257a9f"
      },
      "execution_count": null,
      "outputs": [
        {
          "output_type": "stream",
          "name": "stdout",
          "text": [
            "Epoch 1/8, Training Loss: 0.11484043522292596\n",
            "Epoch 1/8, Validation Loss: 0.03853215008544234\n",
            "Validation loss improved from inf to 0.03853215008544234. Saving best model to /content/best_model.pt.\n",
            "Epoch 2/8, Training Loss: 0.03132646974730999\n",
            "Epoch 2/8, Validation Loss: 0.03376935361302458\n",
            "Validation loss improved from 0.03853215008544234 to 0.03376935361302458. Saving best model to /content/best_model.pt.\n",
            "Epoch 3/8, Training Loss: 0.023203578081074788\n",
            "Epoch 3/8, Validation Loss: 0.0345843279411873\n",
            "Validation loss did not improve. (1/2 epochs without improvement)\n",
            "Epoch 4/8, Training Loss: 0.01836284089333942\n",
            "Epoch 4/8, Validation Loss: 0.03888981584728194\n",
            "Validation loss did not improve. (2/2 epochs without improvement)\n",
            "Early stopping triggered.\n"
          ]
        }
      ]
    },
    {
      "cell_type": "markdown",
      "source": [
        "## **Evaluación**\n",
        "\n",
        "El modelo con el mejor rendimiento en el conjunto de validación es evaluado en el conjunto de prueba. Este proceso se enfoca en medir la capacidad del modelo para generalizar a nuevos datos. Los pasos incluyen:\n",
        "\n",
        "* **Carga del Mejor Modelo**: Se carga el modelo con los mejores parámetros, guardados durante el entrenamiento, para asegurar que la evaluación se realice con la versión más óptima del modelo.\n",
        "\n",
        "* **Predicciones y Métricas**: El modelo se utiliza para hacer predicciones sobre el conjunto de prueba, y se calculan métricas detalladas como precisión, recall y F1-score para cada etiqueta de POS. Esto proporciona una visión integral del rendimiento y las áreas de fortaleza o debilidad del modelo."
      ],
      "metadata": {
        "id": "8bxh8R97eEd7"
      }
    },
    {
      "cell_type": "markdown",
      "source": [
        "### Carga del mejor modelo"
      ],
      "metadata": {
        "id": "GU53pKhIfrcA"
      }
    },
    {
      "cell_type": "code",
      "source": [
        "# Cargamos los pesos guardados\n",
        "model.load_state_dict(torch.load('/content/best_model.pt'))\n",
        "\n",
        "# Modo evaluación\n",
        "model.eval()\n",
        "\n",
        "# Aseguramos la carga en el dsipositivo adecuado\n",
        "model.to(device)"
      ],
      "metadata": {
        "id": "Zp1JnGsHftHH",
        "colab": {
          "base_uri": "https://localhost:8080/"
        },
        "outputId": "e71c495c-d5c7-49f8-9557-6655bde4d489"
      },
      "execution_count": null,
      "outputs": [
        {
          "output_type": "execute_result",
          "data": {
            "text/plain": [
              "XLMRobertaForTokenClassification(\n",
              "  (roberta): XLMRobertaModel(\n",
              "    (embeddings): XLMRobertaEmbeddings(\n",
              "      (word_embeddings): Embedding(250002, 768, padding_idx=1)\n",
              "      (position_embeddings): Embedding(514, 768, padding_idx=1)\n",
              "      (token_type_embeddings): Embedding(1, 768)\n",
              "      (LayerNorm): LayerNorm((768,), eps=1e-05, elementwise_affine=True)\n",
              "      (dropout): Dropout(p=0.1, inplace=False)\n",
              "    )\n",
              "    (encoder): XLMRobertaEncoder(\n",
              "      (layer): ModuleList(\n",
              "        (0-11): 12 x XLMRobertaLayer(\n",
              "          (attention): XLMRobertaAttention(\n",
              "            (self): XLMRobertaSelfAttention(\n",
              "              (query): Linear(in_features=768, out_features=768, bias=True)\n",
              "              (key): Linear(in_features=768, out_features=768, bias=True)\n",
              "              (value): Linear(in_features=768, out_features=768, bias=True)\n",
              "              (dropout): Dropout(p=0.1, inplace=False)\n",
              "            )\n",
              "            (output): XLMRobertaSelfOutput(\n",
              "              (dense): Linear(in_features=768, out_features=768, bias=True)\n",
              "              (LayerNorm): LayerNorm((768,), eps=1e-05, elementwise_affine=True)\n",
              "              (dropout): Dropout(p=0.1, inplace=False)\n",
              "            )\n",
              "          )\n",
              "          (intermediate): XLMRobertaIntermediate(\n",
              "            (dense): Linear(in_features=768, out_features=3072, bias=True)\n",
              "            (intermediate_act_fn): GELUActivation()\n",
              "          )\n",
              "          (output): XLMRobertaOutput(\n",
              "            (dense): Linear(in_features=3072, out_features=768, bias=True)\n",
              "            (LayerNorm): LayerNorm((768,), eps=1e-05, elementwise_affine=True)\n",
              "            (dropout): Dropout(p=0.1, inplace=False)\n",
              "          )\n",
              "        )\n",
              "      )\n",
              "    )\n",
              "  )\n",
              "  (dropout): Dropout(p=0.1, inplace=False)\n",
              "  (classifier): Linear(in_features=768, out_features=18, bias=True)\n",
              ")"
            ]
          },
          "metadata": {},
          "execution_count": 36
        }
      ]
    },
    {
      "cell_type": "markdown",
      "source": [
        "### Predicciones"
      ],
      "metadata": {
        "id": "j9OidcLfg0Wo"
      }
    },
    {
      "cell_type": "code",
      "source": [
        "# Inicializamos listas para guardar las predicciones y las etiquetas verdaderas\n",
        "predictions = []\n",
        "\n",
        "# Desactivamos el cálculo de gradientes para ahorrar memoria y acelerar la evaluación\n",
        "with torch.no_grad():\n",
        "    for batch in test_loader:  # Iteramos sobre el conjunto de testeo\n",
        "\n",
        "        # Movemos los datos al dispositivo adecuado (GPU o CPU)\n",
        "        input_ids = batch['input_ids'].to(device)\n",
        "        attention_mask = batch['attention_mask'].to(device)\n",
        "        labels = batch['labels'].to(device)\n",
        "\n",
        "        # Realizamos las predicciones con el modelo\n",
        "        outputs = model(input_ids, attention_mask=attention_mask)\n",
        "\n",
        "        # Obtenemos los logits y los movemos al CPU\n",
        "        logits = outputs.logits.detach().cpu().numpy()\n",
        "        # Movemos las etiquetas verdaderas al CPU para compararlas con las predicciones\n",
        "        label_ids = labels.to('cpu').numpy()\n",
        "\n",
        "        # Guardamos las predicciones y las verdaderas etiquetas\n",
        "        # Usamos np.argmax para convertir los logits a índices de la etiqueta predicha\n",
        "        predictions.extend([list(p) for p in np.argmax(logits, axis=-1)])\n",
        "\n",
        "# En este punto, `predictions` contiene las etiquetas predichas para cada token"
      ],
      "metadata": {
        "id": "TtROEOP9kiaD"
      },
      "execution_count": null,
      "outputs": []
    },
    {
      "cell_type": "markdown",
      "source": [
        "### Obtenemos la lista de etiquetas y predicciones en una forma más digerible"
      ],
      "metadata": {
        "id": "rqK-eBFbpJ7b"
      }
    },
    {
      "cell_type": "code",
      "source": [
        "# Revertir el mapeo de IDs a etiquetas originales\n",
        "id_to_label = {id: label for label, id in label_to_id.items()}\n",
        "\n",
        "# Listas para almacenar las etiquetas finales por oración\n",
        "final_pred_labels_per_sentence = []\n",
        "\n",
        "# Reevertimos la tokenización obteniendo los tags correspondientes unicamente a las palabras iniciales.\n",
        "for i, pred in enumerate(predictions):\n",
        "\n",
        "    word_ids = tokenized_test.word_ids(batch_index=i)\n",
        "\n",
        "    sentence_pred_labels = []\n",
        "\n",
        "    prev_word_id = None\n",
        "\n",
        "    for word_idx, pred_label in zip(word_ids, pred):\n",
        "\n",
        "        if word_idx is not None and word_idx != prev_word_id:\n",
        "            # Solo considera la etiqueta del primer sub-token\n",
        "            sentence_pred_labels.append(id_to_label[pred_label])\n",
        "        prev_word_id = word_idx\n",
        "\n",
        "    final_pred_labels_per_sentence.append(sentence_pred_labels)"
      ],
      "metadata": {
        "id": "FQlEHBc-pJiL"
      },
      "execution_count": null,
      "outputs": []
    },
    {
      "cell_type": "markdown",
      "source": [
        "### Métricas de evaluación (Seqeval)"
      ],
      "metadata": {
        "id": "IP-LCSIj-thX"
      }
    },
    {
      "cell_type": "code",
      "source": [
        "# Aplanar las listas de listas\n",
        "flat_true_labels = [label for sublist in labels_test for label in sublist]\n",
        "flat_pred_labels = [label for sublist in final_pred_labels_per_sentence for label in sublist]\n",
        "\n",
        "# Crear un informe de clasificación usando sklearn\n",
        "report = classification_report(flat_true_labels, flat_pred_labels, zero_division=0)\n",
        "print(report)"
      ],
      "metadata": {
        "colab": {
          "base_uri": "https://localhost:8080/"
        },
        "id": "fjXYAKdkPhJi",
        "outputId": "6131641c-1059-4ab1-d7de-82411d998df0"
      },
      "execution_count": null,
      "outputs": [
        {
          "output_type": "stream",
          "name": "stdout",
          "text": [
            "              precision    recall  f1-score   support\n",
            "\n",
            "         ADJ       0.98      0.96      0.97      3468\n",
            "         ADP       1.00      1.00      1.00      8332\n",
            "         ADV       0.98      0.99      0.98      1763\n",
            "         AUX       0.99      0.98      0.99      1304\n",
            "       CCONJ       1.00      1.00      1.00      1439\n",
            "         DET       1.00      1.00      1.00      8055\n",
            "        INTJ       0.87      0.81      0.84        16\n",
            "        NOUN       0.98      0.99      0.98      9531\n",
            "         NUM       0.96      0.99      0.97       977\n",
            "        PART       1.00      0.83      0.91        18\n",
            "        PRON       0.99      0.99      0.99      3250\n",
            "       PROPN       0.99      0.99      0.99      4094\n",
            "       PUNCT       1.00      1.00      1.00      6334\n",
            "       SCONJ       0.97      0.98      0.98      1210\n",
            "         SYM       1.00      0.68      0.81        28\n",
            "        VERB       0.99      0.99      0.99      4636\n",
            "           _       1.00      1.00      1.00      1166\n",
            "\n",
            "    accuracy                           0.99     55621\n",
            "   macro avg       0.98      0.95      0.96     55621\n",
            "weighted avg       0.99      0.99      0.99     55621\n",
            "\n"
          ]
        }
      ]
    },
    {
      "cell_type": "markdown",
      "source": [
        "# Exportación del Modelo a la Plataforma de Huggin Face"
      ],
      "metadata": {
        "id": "-mf5qcQiQGpm"
      }
    },
    {
      "cell_type": "code",
      "source": [
        "#Iniciar sesión\n",
        "notebook_login()"
      ],
      "metadata": {
        "id": "u_HW2R-KQMF4",
        "colab": {
          "base_uri": "https://localhost:8080/",
          "height": 145,
          "referenced_widgets": [
            "e9c332aa66ca41a3b37be826d1081b91",
            "7e232114ea044c9c993f1a66e14deceb",
            "f3af211d42034436b8176a261c0b7d63",
            "14fac1e3525445798d342a527d4b467b",
            "42b53fe88e6c4684934b3d7ce6c9c487",
            "a2c2b86f866d4268acdf00b45f0186dc",
            "27b7d48d010a42dfa37c99fba5bc0e5d",
            "4b677341751f4862b4bb2566e8d7f2af",
            "1a7baab5a1ad475bb6217c5c50dc1a1d",
            "e3ea0b1d080a47049ad37f29af08995d",
            "4aab5398fe914cf89c2d2a41e5a6b37d",
            "5fbf6d728151418e984967b4de520200",
            "5d6a4ed6d8424ebf85c709029ab05366",
            "7e07c421a2f14ca9884d15c80fc93232",
            "e5a4d2d6e63948bd91c4b6b196f57d0d",
            "e7b6617e91c34221965f2a151341df26",
            "a90dfa1d1656413facf69f995634101a",
            "490c915893fe459c8cc10d0fd9fc9eb0",
            "ffed59c9d591473da884919d9f1f37e7",
            "65966fdbd28444c98247d0af7286b275",
            "2f9b4a13c5a84ea79836451fb4a4be13",
            "6fc9b67916314e1fb748a4234fa0aae4",
            "d60a9e31fa9d413a9def0353dd3a6f10",
            "67e641f46107493a8f120eb8d0cce10e",
            "a9adbc7786a14325ab253d9b64066ecd",
            "aa23d64b92e542419f90d2ffbd95d17d",
            "7b988a05fafa4c78a5f0b7f8b7a2ba76",
            "578907e341a94ce882b34564576869b9",
            "6ccc3a7dfcbd455f8a798c6c93fe363b",
            "6fd7f69f33c046118a5a1c4753baa53f",
            "c0c922bba53048edb62da5c14edb1f4a",
            "8f6393b56cca40a3998038e35d5951cc"
          ]
        },
        "outputId": "37b19b6c-8887-4f35-84c4-5e65eeb5e4ef"
      },
      "execution_count": null,
      "outputs": [
        {
          "output_type": "display_data",
          "data": {
            "text/plain": [
              "VBox(children=(HTML(value='<center> <img\\nsrc=https://huggingface.co/front/assets/huggingface_logo-noborder.sv…"
            ],
            "application/vnd.jupyter.widget-view+json": {
              "version_major": 2,
              "version_minor": 0,
              "model_id": "e9c332aa66ca41a3b37be826d1081b91"
            }
          },
          "metadata": {}
        }
      ]
    },
    {
      "cell_type": "code",
      "source": [
        "# Guardar el modelo y el tokenizador\n",
        "model_save_path = \"./pos_model\"\n",
        "tokenizer_save_path = \"./pos_tokenizer\"\n",
        "\n",
        "model.save_pretrained(model_save_path)\n",
        "tokenizer.save_pretrained(tokenizer_save_path)"
      ],
      "metadata": {
        "colab": {
          "base_uri": "https://localhost:8080/"
        },
        "id": "X-mYYtR4vTOS",
        "outputId": "541d7a5e-13ad-4e3b-98ad-3809c9ba5802"
      },
      "execution_count": null,
      "outputs": [
        {
          "output_type": "execute_result",
          "data": {
            "text/plain": [
              "('./pos_tokenizer/tokenizer_config.json',\n",
              " './pos_tokenizer/special_tokens_map.json',\n",
              " './pos_tokenizer/sentencepiece.bpe.model',\n",
              " './pos_tokenizer/added_tokens.json',\n",
              " './pos_tokenizer/tokenizer.json')"
            ]
          },
          "metadata": {},
          "execution_count": 41
        }
      ]
    },
    {
      "cell_type": "code",
      "source": [
        "# Subir a Hugging Face\n",
        "\n",
        "# Nombre del repositorio\n",
        "repository_name = \"l52mas/L52-PosTag-XmlRoberta-BHD\"\n",
        "\n",
        "# Crear un objeto de API\n",
        "api = HfApi()\n",
        "\n",
        "# Crear el repositorio en el espacio de la organización\n",
        "repo_url = api.create_repo(repository_name)"
      ],
      "metadata": {
        "id": "0TZrPiOTvl5f"
      },
      "execution_count": null,
      "outputs": []
    },
    {
      "cell_type": "code",
      "source": [
        "# Subir el modelo y el tokenizador\n",
        "model.push_to_hub(repository_name)\n",
        "tokenizer.push_to_hub(repository_name)"
      ],
      "metadata": {
        "colab": {
          "base_uri": "https://localhost:8080/",
          "height": 214,
          "referenced_widgets": [
            "96bcc2b63f1c4bfd9100912f1a3598e9",
            "4de9a9351fd54265b0af0a9188d79797",
            "7a7fffcd3b6f4f9a90fe9b3bd6536643",
            "b8a8d0db899f4b06b4aa695e13797a99",
            "0da93a55b9ef44bcbc72f4e857e86145",
            "9d0f2b62fc66406e836b11517ec85ac3",
            "e016500f6d46436da1faf3c993105ee0",
            "84580491551f4603aed6f49ceb9237f6",
            "bac43cc7cf56496c84497cfb429d47a2",
            "fb3dcd53378349c490447cb23d4f2c33",
            "1b811a18c97b493ea07144cf2390e746",
            "ba4a0aeab0924a318ecc45ab6d2caebb",
            "2f63c5bca9e24c4b9fbf50f9dab95cc5",
            "52065eb4f0344c078b416fb6f176f1b2",
            "54ddddd5b9784e11857a75d8d5298944",
            "644a6f1b5e1845449122779052cb8e97",
            "0e020dbc6cbe4676a2af1c69e5c181dc",
            "a45a046b01454289aa46250152b99453",
            "309383320169404190af2d140d1f17aa",
            "b1131d79bb654dec99cbbbe10c06577b",
            "c4fbf33e75a74b2891f24c832a7de32b",
            "95dc5c8b16144312bd00652274b3fa04",
            "972b69f62e524429a88fef3c53daf3f2",
            "ae94e51dd5cb432ca5871079c3a76543",
            "693842c520624d7783259783833ad8a0",
            "1d9f46c375c64640b4eadef9a0394664",
            "f181db002b9b4ed8b53ef411a7726830",
            "c19f12bcaaae4531bf1ce9233903d54b",
            "4cad0486bf63477bb2ae6c3e2a2d88a2",
            "e35cae8fb7784517b2a3a8a07fd3f22b",
            "e9809e955e4248fbb3e7c2494a5712f4",
            "bcc90eae80c646788d90f24007942fc7",
            "edb78f5e480e4734933d243aea5db9fc",
            "4b01dd2d28d24bef9aa89b1c9c5ba565",
            "bab4611667d84b99b2ac4171fc3c1a62",
            "766ba76827444fa9a1e5076e22aea5d4",
            "182402d356b84091be39f17a67061fe1",
            "68fb13b2e7eb46268814f4d7340c5539",
            "5a8300a4c32442edb0f6e95b9c582970",
            "18e1b58dabe347a896791c71ec31ccd9",
            "f92501b0ca284405be1eb6430ef1da58",
            "f9e1f525544a4e4e892d62598e81c3f6",
            "2588c7d0a79c4c069791dc93cd7b21c6",
            "ca5a5366ebcf4d5cb60d2f620a63fe70",
            "2e6f65f94ffc45f1863872ce6da5bfe0",
            "37f4028479cb40698ebf3d783dc1017a",
            "772042fa538e40bbbdd4138092ee4341",
            "f0dea7f920e64888b26411a98c3344b7",
            "f2779bb580f841859a3deb95db5cc4cb",
            "72d38de8b4584e4f98a908b28b343b3b",
            "7b9e9d5b3c734f64afe55c285c097561",
            "f34509a84daa47a6aea00551ebdd2f12",
            "88253aaef901429682da4d4910360824",
            "3b368b6c9cb94e219e7692d781621f7e",
            "4f7b17227c54426287aac7d06073fd9a"
          ]
        },
        "id": "2EWUx2_xzWn0",
        "outputId": "921fde8c-5661-4bde-d1bd-0a23cb193051"
      },
      "execution_count": null,
      "outputs": [
        {
          "output_type": "display_data",
          "data": {
            "text/plain": [
              "model.safetensors:   0%|          | 0.00/1.11G [00:00<?, ?B/s]"
            ],
            "application/vnd.jupyter.widget-view+json": {
              "version_major": 2,
              "version_minor": 0,
              "model_id": "96bcc2b63f1c4bfd9100912f1a3598e9"
            }
          },
          "metadata": {}
        },
        {
          "output_type": "display_data",
          "data": {
            "text/plain": [
              "README.md:   0%|          | 0.00/5.17k [00:00<?, ?B/s]"
            ],
            "application/vnd.jupyter.widget-view+json": {
              "version_major": 2,
              "version_minor": 0,
              "model_id": "ba4a0aeab0924a318ecc45ab6d2caebb"
            }
          },
          "metadata": {}
        },
        {
          "output_type": "display_data",
          "data": {
            "text/plain": [
              "sentencepiece.bpe.model:   0%|          | 0.00/5.07M [00:00<?, ?B/s]"
            ],
            "application/vnd.jupyter.widget-view+json": {
              "version_major": 2,
              "version_minor": 0,
              "model_id": "972b69f62e524429a88fef3c53daf3f2"
            }
          },
          "metadata": {}
        },
        {
          "output_type": "display_data",
          "data": {
            "text/plain": [
              "Upload 2 LFS files:   0%|          | 0/2 [00:00<?, ?it/s]"
            ],
            "application/vnd.jupyter.widget-view+json": {
              "version_major": 2,
              "version_minor": 0,
              "model_id": "4b01dd2d28d24bef9aa89b1c9c5ba565"
            }
          },
          "metadata": {}
        },
        {
          "output_type": "display_data",
          "data": {
            "text/plain": [
              "tokenizer.json:   0%|          | 0.00/17.1M [00:00<?, ?B/s]"
            ],
            "application/vnd.jupyter.widget-view+json": {
              "version_major": 2,
              "version_minor": 0,
              "model_id": "2e6f65f94ffc45f1863872ce6da5bfe0"
            }
          },
          "metadata": {}
        },
        {
          "output_type": "execute_result",
          "data": {
            "text/plain": [
              "CommitInfo(commit_url='https://huggingface.co/l52mas/L52-PosTag-XmlRoberta-BHD/commit/2edaefcb6b7877ccbb205655dba5d18dcbd306dc', commit_message='Upload tokenizer', commit_description='', oid='2edaefcb6b7877ccbb205655dba5d18dcbd306dc', pr_url=None, pr_revision=None, pr_num=None)"
            ],
            "application/vnd.google.colaboratory.intrinsic+json": {
              "type": "string"
            }
          },
          "metadata": {},
          "execution_count": 47
        }
      ]
    }
  ]
}