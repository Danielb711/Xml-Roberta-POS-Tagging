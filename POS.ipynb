{
  "nbformat": 4,
  "nbformat_minor": 0,
  "metadata": {
    "colab": {
      "provenance": [],
      "gpuType": "T4",
      "authorship_tag": "ABX9TyMbDiAmP0ApdyHrCHacn/1u",
      "include_colab_link": true
    },
    "kernelspec": {
      "name": "python3",
      "display_name": "Python 3"
    },
    "language_info": {
      "name": "python"
    },
    "accelerator": "GPU",
    "widgets": {
      "application/vnd.jupyter.widget-state+json": {
        "f22359da543748078be06089098ba5c9": {
          "model_module": "@jupyter-widgets/controls",
          "model_name": "HBoxModel",
          "model_module_version": "1.5.0",
          "state": {
            "_dom_classes": [],
            "_model_module": "@jupyter-widgets/controls",
            "_model_module_version": "1.5.0",
            "_model_name": "HBoxModel",
            "_view_count": null,
            "_view_module": "@jupyter-widgets/controls",
            "_view_module_version": "1.5.0",
            "_view_name": "HBoxView",
            "box_style": "",
            "children": [
              "IPY_MODEL_922fb0326cef4516b41b3c9636a5f7dd",
              "IPY_MODEL_6422f1a56d7f4413be088d639066542b",
              "IPY_MODEL_adb45e1585ce42489a9ecb9224dbce41"
            ],
            "layout": "IPY_MODEL_2b68db0070274597bfbc01165b3293ce"
          }
        },
        "922fb0326cef4516b41b3c9636a5f7dd": {
          "model_module": "@jupyter-widgets/controls",
          "model_name": "HTMLModel",
          "model_module_version": "1.5.0",
          "state": {
            "_dom_classes": [],
            "_model_module": "@jupyter-widgets/controls",
            "_model_module_version": "1.5.0",
            "_model_name": "HTMLModel",
            "_view_count": null,
            "_view_module": "@jupyter-widgets/controls",
            "_view_module_version": "1.5.0",
            "_view_name": "HTMLView",
            "description": "",
            "description_tooltip": null,
            "layout": "IPY_MODEL_1fd2c4449366432984c5d733438b4e25",
            "placeholder": "​",
            "style": "IPY_MODEL_fb5f653fe68142c380b98c841249e9de",
            "value": "tokenizer_config.json: 100%"
          }
        },
        "6422f1a56d7f4413be088d639066542b": {
          "model_module": "@jupyter-widgets/controls",
          "model_name": "FloatProgressModel",
          "model_module_version": "1.5.0",
          "state": {
            "_dom_classes": [],
            "_model_module": "@jupyter-widgets/controls",
            "_model_module_version": "1.5.0",
            "_model_name": "FloatProgressModel",
            "_view_count": null,
            "_view_module": "@jupyter-widgets/controls",
            "_view_module_version": "1.5.0",
            "_view_name": "ProgressView",
            "bar_style": "success",
            "description": "",
            "description_tooltip": null,
            "layout": "IPY_MODEL_48d75703b47b46d2a462466a82ddf293",
            "max": 25,
            "min": 0,
            "orientation": "horizontal",
            "style": "IPY_MODEL_837a17ccfce04a7a85be0194e139cdfa",
            "value": 25
          }
        },
        "adb45e1585ce42489a9ecb9224dbce41": {
          "model_module": "@jupyter-widgets/controls",
          "model_name": "HTMLModel",
          "model_module_version": "1.5.0",
          "state": {
            "_dom_classes": [],
            "_model_module": "@jupyter-widgets/controls",
            "_model_module_version": "1.5.0",
            "_model_name": "HTMLModel",
            "_view_count": null,
            "_view_module": "@jupyter-widgets/controls",
            "_view_module_version": "1.5.0",
            "_view_name": "HTMLView",
            "description": "",
            "description_tooltip": null,
            "layout": "IPY_MODEL_ff4d340d05cc4485b931abbd1ebc834a",
            "placeholder": "​",
            "style": "IPY_MODEL_f036df336efe49fd82e36fe69a9f0313",
            "value": " 25.0/25.0 [00:00&lt;00:00, 1.40kB/s]"
          }
        },
        "2b68db0070274597bfbc01165b3293ce": {
          "model_module": "@jupyter-widgets/base",
          "model_name": "LayoutModel",
          "model_module_version": "1.2.0",
          "state": {
            "_model_module": "@jupyter-widgets/base",
            "_model_module_version": "1.2.0",
            "_model_name": "LayoutModel",
            "_view_count": null,
            "_view_module": "@jupyter-widgets/base",
            "_view_module_version": "1.2.0",
            "_view_name": "LayoutView",
            "align_content": null,
            "align_items": null,
            "align_self": null,
            "border": null,
            "bottom": null,
            "display": null,
            "flex": null,
            "flex_flow": null,
            "grid_area": null,
            "grid_auto_columns": null,
            "grid_auto_flow": null,
            "grid_auto_rows": null,
            "grid_column": null,
            "grid_gap": null,
            "grid_row": null,
            "grid_template_areas": null,
            "grid_template_columns": null,
            "grid_template_rows": null,
            "height": null,
            "justify_content": null,
            "justify_items": null,
            "left": null,
            "margin": null,
            "max_height": null,
            "max_width": null,
            "min_height": null,
            "min_width": null,
            "object_fit": null,
            "object_position": null,
            "order": null,
            "overflow": null,
            "overflow_x": null,
            "overflow_y": null,
            "padding": null,
            "right": null,
            "top": null,
            "visibility": null,
            "width": null
          }
        },
        "1fd2c4449366432984c5d733438b4e25": {
          "model_module": "@jupyter-widgets/base",
          "model_name": "LayoutModel",
          "model_module_version": "1.2.0",
          "state": {
            "_model_module": "@jupyter-widgets/base",
            "_model_module_version": "1.2.0",
            "_model_name": "LayoutModel",
            "_view_count": null,
            "_view_module": "@jupyter-widgets/base",
            "_view_module_version": "1.2.0",
            "_view_name": "LayoutView",
            "align_content": null,
            "align_items": null,
            "align_self": null,
            "border": null,
            "bottom": null,
            "display": null,
            "flex": null,
            "flex_flow": null,
            "grid_area": null,
            "grid_auto_columns": null,
            "grid_auto_flow": null,
            "grid_auto_rows": null,
            "grid_column": null,
            "grid_gap": null,
            "grid_row": null,
            "grid_template_areas": null,
            "grid_template_columns": null,
            "grid_template_rows": null,
            "height": null,
            "justify_content": null,
            "justify_items": null,
            "left": null,
            "margin": null,
            "max_height": null,
            "max_width": null,
            "min_height": null,
            "min_width": null,
            "object_fit": null,
            "object_position": null,
            "order": null,
            "overflow": null,
            "overflow_x": null,
            "overflow_y": null,
            "padding": null,
            "right": null,
            "top": null,
            "visibility": null,
            "width": null
          }
        },
        "fb5f653fe68142c380b98c841249e9de": {
          "model_module": "@jupyter-widgets/controls",
          "model_name": "DescriptionStyleModel",
          "model_module_version": "1.5.0",
          "state": {
            "_model_module": "@jupyter-widgets/controls",
            "_model_module_version": "1.5.0",
            "_model_name": "DescriptionStyleModel",
            "_view_count": null,
            "_view_module": "@jupyter-widgets/base",
            "_view_module_version": "1.2.0",
            "_view_name": "StyleView",
            "description_width": ""
          }
        },
        "48d75703b47b46d2a462466a82ddf293": {
          "model_module": "@jupyter-widgets/base",
          "model_name": "LayoutModel",
          "model_module_version": "1.2.0",
          "state": {
            "_model_module": "@jupyter-widgets/base",
            "_model_module_version": "1.2.0",
            "_model_name": "LayoutModel",
            "_view_count": null,
            "_view_module": "@jupyter-widgets/base",
            "_view_module_version": "1.2.0",
            "_view_name": "LayoutView",
            "align_content": null,
            "align_items": null,
            "align_self": null,
            "border": null,
            "bottom": null,
            "display": null,
            "flex": null,
            "flex_flow": null,
            "grid_area": null,
            "grid_auto_columns": null,
            "grid_auto_flow": null,
            "grid_auto_rows": null,
            "grid_column": null,
            "grid_gap": null,
            "grid_row": null,
            "grid_template_areas": null,
            "grid_template_columns": null,
            "grid_template_rows": null,
            "height": null,
            "justify_content": null,
            "justify_items": null,
            "left": null,
            "margin": null,
            "max_height": null,
            "max_width": null,
            "min_height": null,
            "min_width": null,
            "object_fit": null,
            "object_position": null,
            "order": null,
            "overflow": null,
            "overflow_x": null,
            "overflow_y": null,
            "padding": null,
            "right": null,
            "top": null,
            "visibility": null,
            "width": null
          }
        },
        "837a17ccfce04a7a85be0194e139cdfa": {
          "model_module": "@jupyter-widgets/controls",
          "model_name": "ProgressStyleModel",
          "model_module_version": "1.5.0",
          "state": {
            "_model_module": "@jupyter-widgets/controls",
            "_model_module_version": "1.5.0",
            "_model_name": "ProgressStyleModel",
            "_view_count": null,
            "_view_module": "@jupyter-widgets/base",
            "_view_module_version": "1.2.0",
            "_view_name": "StyleView",
            "bar_color": null,
            "description_width": ""
          }
        },
        "ff4d340d05cc4485b931abbd1ebc834a": {
          "model_module": "@jupyter-widgets/base",
          "model_name": "LayoutModel",
          "model_module_version": "1.2.0",
          "state": {
            "_model_module": "@jupyter-widgets/base",
            "_model_module_version": "1.2.0",
            "_model_name": "LayoutModel",
            "_view_count": null,
            "_view_module": "@jupyter-widgets/base",
            "_view_module_version": "1.2.0",
            "_view_name": "LayoutView",
            "align_content": null,
            "align_items": null,
            "align_self": null,
            "border": null,
            "bottom": null,
            "display": null,
            "flex": null,
            "flex_flow": null,
            "grid_area": null,
            "grid_auto_columns": null,
            "grid_auto_flow": null,
            "grid_auto_rows": null,
            "grid_column": null,
            "grid_gap": null,
            "grid_row": null,
            "grid_template_areas": null,
            "grid_template_columns": null,
            "grid_template_rows": null,
            "height": null,
            "justify_content": null,
            "justify_items": null,
            "left": null,
            "margin": null,
            "max_height": null,
            "max_width": null,
            "min_height": null,
            "min_width": null,
            "object_fit": null,
            "object_position": null,
            "order": null,
            "overflow": null,
            "overflow_x": null,
            "overflow_y": null,
            "padding": null,
            "right": null,
            "top": null,
            "visibility": null,
            "width": null
          }
        },
        "f036df336efe49fd82e36fe69a9f0313": {
          "model_module": "@jupyter-widgets/controls",
          "model_name": "DescriptionStyleModel",
          "model_module_version": "1.5.0",
          "state": {
            "_model_module": "@jupyter-widgets/controls",
            "_model_module_version": "1.5.0",
            "_model_name": "DescriptionStyleModel",
            "_view_count": null,
            "_view_module": "@jupyter-widgets/base",
            "_view_module_version": "1.2.0",
            "_view_name": "StyleView",
            "description_width": ""
          }
        },
        "ad5df036c3db4d4b8897620195884db4": {
          "model_module": "@jupyter-widgets/controls",
          "model_name": "HBoxModel",
          "model_module_version": "1.5.0",
          "state": {
            "_dom_classes": [],
            "_model_module": "@jupyter-widgets/controls",
            "_model_module_version": "1.5.0",
            "_model_name": "HBoxModel",
            "_view_count": null,
            "_view_module": "@jupyter-widgets/controls",
            "_view_module_version": "1.5.0",
            "_view_name": "HBoxView",
            "box_style": "",
            "children": [
              "IPY_MODEL_8cf75738d8ad4c4a99b7bafdc9994e06",
              "IPY_MODEL_a56c8cc1eee842b6be31b3269b9e053e",
              "IPY_MODEL_c5317a39f9024b02a484d6a6287de231"
            ],
            "layout": "IPY_MODEL_b1e03a7ab78744d09fcf79270473c5fa"
          }
        },
        "8cf75738d8ad4c4a99b7bafdc9994e06": {
          "model_module": "@jupyter-widgets/controls",
          "model_name": "HTMLModel",
          "model_module_version": "1.5.0",
          "state": {
            "_dom_classes": [],
            "_model_module": "@jupyter-widgets/controls",
            "_model_module_version": "1.5.0",
            "_model_name": "HTMLModel",
            "_view_count": null,
            "_view_module": "@jupyter-widgets/controls",
            "_view_module_version": "1.5.0",
            "_view_name": "HTMLView",
            "description": "",
            "description_tooltip": null,
            "layout": "IPY_MODEL_a584e54dee704d4da3ed9ba283dc2b68",
            "placeholder": "​",
            "style": "IPY_MODEL_e9508af334de4ebc9de86632b707364e",
            "value": "sentencepiece.bpe.model: 100%"
          }
        },
        "a56c8cc1eee842b6be31b3269b9e053e": {
          "model_module": "@jupyter-widgets/controls",
          "model_name": "FloatProgressModel",
          "model_module_version": "1.5.0",
          "state": {
            "_dom_classes": [],
            "_model_module": "@jupyter-widgets/controls",
            "_model_module_version": "1.5.0",
            "_model_name": "FloatProgressModel",
            "_view_count": null,
            "_view_module": "@jupyter-widgets/controls",
            "_view_module_version": "1.5.0",
            "_view_name": "ProgressView",
            "bar_style": "success",
            "description": "",
            "description_tooltip": null,
            "layout": "IPY_MODEL_7436ecf4ce1c4b7bafb8596e23a71c71",
            "max": 5069051,
            "min": 0,
            "orientation": "horizontal",
            "style": "IPY_MODEL_3dbecb1cdaf64eb0992a73e2f5afd8a9",
            "value": 5069051
          }
        },
        "c5317a39f9024b02a484d6a6287de231": {
          "model_module": "@jupyter-widgets/controls",
          "model_name": "HTMLModel",
          "model_module_version": "1.5.0",
          "state": {
            "_dom_classes": [],
            "_model_module": "@jupyter-widgets/controls",
            "_model_module_version": "1.5.0",
            "_model_name": "HTMLModel",
            "_view_count": null,
            "_view_module": "@jupyter-widgets/controls",
            "_view_module_version": "1.5.0",
            "_view_name": "HTMLView",
            "description": "",
            "description_tooltip": null,
            "layout": "IPY_MODEL_a11dc2c0c7fa4b678e270afe1e8b5200",
            "placeholder": "​",
            "style": "IPY_MODEL_43d6d80c571945a0a077f076840ee265",
            "value": " 5.07M/5.07M [00:00&lt;00:00, 10.9MB/s]"
          }
        },
        "b1e03a7ab78744d09fcf79270473c5fa": {
          "model_module": "@jupyter-widgets/base",
          "model_name": "LayoutModel",
          "model_module_version": "1.2.0",
          "state": {
            "_model_module": "@jupyter-widgets/base",
            "_model_module_version": "1.2.0",
            "_model_name": "LayoutModel",
            "_view_count": null,
            "_view_module": "@jupyter-widgets/base",
            "_view_module_version": "1.2.0",
            "_view_name": "LayoutView",
            "align_content": null,
            "align_items": null,
            "align_self": null,
            "border": null,
            "bottom": null,
            "display": null,
            "flex": null,
            "flex_flow": null,
            "grid_area": null,
            "grid_auto_columns": null,
            "grid_auto_flow": null,
            "grid_auto_rows": null,
            "grid_column": null,
            "grid_gap": null,
            "grid_row": null,
            "grid_template_areas": null,
            "grid_template_columns": null,
            "grid_template_rows": null,
            "height": null,
            "justify_content": null,
            "justify_items": null,
            "left": null,
            "margin": null,
            "max_height": null,
            "max_width": null,
            "min_height": null,
            "min_width": null,
            "object_fit": null,
            "object_position": null,
            "order": null,
            "overflow": null,
            "overflow_x": null,
            "overflow_y": null,
            "padding": null,
            "right": null,
            "top": null,
            "visibility": null,
            "width": null
          }
        },
        "a584e54dee704d4da3ed9ba283dc2b68": {
          "model_module": "@jupyter-widgets/base",
          "model_name": "LayoutModel",
          "model_module_version": "1.2.0",
          "state": {
            "_model_module": "@jupyter-widgets/base",
            "_model_module_version": "1.2.0",
            "_model_name": "LayoutModel",
            "_view_count": null,
            "_view_module": "@jupyter-widgets/base",
            "_view_module_version": "1.2.0",
            "_view_name": "LayoutView",
            "align_content": null,
            "align_items": null,
            "align_self": null,
            "border": null,
            "bottom": null,
            "display": null,
            "flex": null,
            "flex_flow": null,
            "grid_area": null,
            "grid_auto_columns": null,
            "grid_auto_flow": null,
            "grid_auto_rows": null,
            "grid_column": null,
            "grid_gap": null,
            "grid_row": null,
            "grid_template_areas": null,
            "grid_template_columns": null,
            "grid_template_rows": null,
            "height": null,
            "justify_content": null,
            "justify_items": null,
            "left": null,
            "margin": null,
            "max_height": null,
            "max_width": null,
            "min_height": null,
            "min_width": null,
            "object_fit": null,
            "object_position": null,
            "order": null,
            "overflow": null,
            "overflow_x": null,
            "overflow_y": null,
            "padding": null,
            "right": null,
            "top": null,
            "visibility": null,
            "width": null
          }
        },
        "e9508af334de4ebc9de86632b707364e": {
          "model_module": "@jupyter-widgets/controls",
          "model_name": "DescriptionStyleModel",
          "model_module_version": "1.5.0",
          "state": {
            "_model_module": "@jupyter-widgets/controls",
            "_model_module_version": "1.5.0",
            "_model_name": "DescriptionStyleModel",
            "_view_count": null,
            "_view_module": "@jupyter-widgets/base",
            "_view_module_version": "1.2.0",
            "_view_name": "StyleView",
            "description_width": ""
          }
        },
        "7436ecf4ce1c4b7bafb8596e23a71c71": {
          "model_module": "@jupyter-widgets/base",
          "model_name": "LayoutModel",
          "model_module_version": "1.2.0",
          "state": {
            "_model_module": "@jupyter-widgets/base",
            "_model_module_version": "1.2.0",
            "_model_name": "LayoutModel",
            "_view_count": null,
            "_view_module": "@jupyter-widgets/base",
            "_view_module_version": "1.2.0",
            "_view_name": "LayoutView",
            "align_content": null,
            "align_items": null,
            "align_self": null,
            "border": null,
            "bottom": null,
            "display": null,
            "flex": null,
            "flex_flow": null,
            "grid_area": null,
            "grid_auto_columns": null,
            "grid_auto_flow": null,
            "grid_auto_rows": null,
            "grid_column": null,
            "grid_gap": null,
            "grid_row": null,
            "grid_template_areas": null,
            "grid_template_columns": null,
            "grid_template_rows": null,
            "height": null,
            "justify_content": null,
            "justify_items": null,
            "left": null,
            "margin": null,
            "max_height": null,
            "max_width": null,
            "min_height": null,
            "min_width": null,
            "object_fit": null,
            "object_position": null,
            "order": null,
            "overflow": null,
            "overflow_x": null,
            "overflow_y": null,
            "padding": null,
            "right": null,
            "top": null,
            "visibility": null,
            "width": null
          }
        },
        "3dbecb1cdaf64eb0992a73e2f5afd8a9": {
          "model_module": "@jupyter-widgets/controls",
          "model_name": "ProgressStyleModel",
          "model_module_version": "1.5.0",
          "state": {
            "_model_module": "@jupyter-widgets/controls",
            "_model_module_version": "1.5.0",
            "_model_name": "ProgressStyleModel",
            "_view_count": null,
            "_view_module": "@jupyter-widgets/base",
            "_view_module_version": "1.2.0",
            "_view_name": "StyleView",
            "bar_color": null,
            "description_width": ""
          }
        },
        "a11dc2c0c7fa4b678e270afe1e8b5200": {
          "model_module": "@jupyter-widgets/base",
          "model_name": "LayoutModel",
          "model_module_version": "1.2.0",
          "state": {
            "_model_module": "@jupyter-widgets/base",
            "_model_module_version": "1.2.0",
            "_model_name": "LayoutModel",
            "_view_count": null,
            "_view_module": "@jupyter-widgets/base",
            "_view_module_version": "1.2.0",
            "_view_name": "LayoutView",
            "align_content": null,
            "align_items": null,
            "align_self": null,
            "border": null,
            "bottom": null,
            "display": null,
            "flex": null,
            "flex_flow": null,
            "grid_area": null,
            "grid_auto_columns": null,
            "grid_auto_flow": null,
            "grid_auto_rows": null,
            "grid_column": null,
            "grid_gap": null,
            "grid_row": null,
            "grid_template_areas": null,
            "grid_template_columns": null,
            "grid_template_rows": null,
            "height": null,
            "justify_content": null,
            "justify_items": null,
            "left": null,
            "margin": null,
            "max_height": null,
            "max_width": null,
            "min_height": null,
            "min_width": null,
            "object_fit": null,
            "object_position": null,
            "order": null,
            "overflow": null,
            "overflow_x": null,
            "overflow_y": null,
            "padding": null,
            "right": null,
            "top": null,
            "visibility": null,
            "width": null
          }
        },
        "43d6d80c571945a0a077f076840ee265": {
          "model_module": "@jupyter-widgets/controls",
          "model_name": "DescriptionStyleModel",
          "model_module_version": "1.5.0",
          "state": {
            "_model_module": "@jupyter-widgets/controls",
            "_model_module_version": "1.5.0",
            "_model_name": "DescriptionStyleModel",
            "_view_count": null,
            "_view_module": "@jupyter-widgets/base",
            "_view_module_version": "1.2.0",
            "_view_name": "StyleView",
            "description_width": ""
          }
        },
        "8bddaa6bd8d4463b9a9e9481badbf1f3": {
          "model_module": "@jupyter-widgets/controls",
          "model_name": "HBoxModel",
          "model_module_version": "1.5.0",
          "state": {
            "_dom_classes": [],
            "_model_module": "@jupyter-widgets/controls",
            "_model_module_version": "1.5.0",
            "_model_name": "HBoxModel",
            "_view_count": null,
            "_view_module": "@jupyter-widgets/controls",
            "_view_module_version": "1.5.0",
            "_view_name": "HBoxView",
            "box_style": "",
            "children": [
              "IPY_MODEL_4ba4abf68e1548f4bfb61c8c27b1d785",
              "IPY_MODEL_9e95689ac87a4db7922fb4660164d8ac",
              "IPY_MODEL_724c491c149f4e4fae27b5921c3fd113"
            ],
            "layout": "IPY_MODEL_9e54d69dcce540f48dd37e62ddd35be3"
          }
        },
        "4ba4abf68e1548f4bfb61c8c27b1d785": {
          "model_module": "@jupyter-widgets/controls",
          "model_name": "HTMLModel",
          "model_module_version": "1.5.0",
          "state": {
            "_dom_classes": [],
            "_model_module": "@jupyter-widgets/controls",
            "_model_module_version": "1.5.0",
            "_model_name": "HTMLModel",
            "_view_count": null,
            "_view_module": "@jupyter-widgets/controls",
            "_view_module_version": "1.5.0",
            "_view_name": "HTMLView",
            "description": "",
            "description_tooltip": null,
            "layout": "IPY_MODEL_412954ca68c041c2b537b453ff08cbf5",
            "placeholder": "​",
            "style": "IPY_MODEL_f4daf4315e7d42d3a0a88ed3f7a1e75b",
            "value": "tokenizer.json: 100%"
          }
        },
        "9e95689ac87a4db7922fb4660164d8ac": {
          "model_module": "@jupyter-widgets/controls",
          "model_name": "FloatProgressModel",
          "model_module_version": "1.5.0",
          "state": {
            "_dom_classes": [],
            "_model_module": "@jupyter-widgets/controls",
            "_model_module_version": "1.5.0",
            "_model_name": "FloatProgressModel",
            "_view_count": null,
            "_view_module": "@jupyter-widgets/controls",
            "_view_module_version": "1.5.0",
            "_view_name": "ProgressView",
            "bar_style": "success",
            "description": "",
            "description_tooltip": null,
            "layout": "IPY_MODEL_1c841f26388f4bafb0a11474e959f4a2",
            "max": 9096718,
            "min": 0,
            "orientation": "horizontal",
            "style": "IPY_MODEL_489d0073a7c2416ea3f0e3d1557d7cdc",
            "value": 9096718
          }
        },
        "724c491c149f4e4fae27b5921c3fd113": {
          "model_module": "@jupyter-widgets/controls",
          "model_name": "HTMLModel",
          "model_module_version": "1.5.0",
          "state": {
            "_dom_classes": [],
            "_model_module": "@jupyter-widgets/controls",
            "_model_module_version": "1.5.0",
            "_model_name": "HTMLModel",
            "_view_count": null,
            "_view_module": "@jupyter-widgets/controls",
            "_view_module_version": "1.5.0",
            "_view_name": "HTMLView",
            "description": "",
            "description_tooltip": null,
            "layout": "IPY_MODEL_c95aea3ea8f7451d8781a99abb47667f",
            "placeholder": "​",
            "style": "IPY_MODEL_948735969f094eaaaf05b87c5ebb2476",
            "value": " 9.10M/9.10M [00:01&lt;00:00, 4.66MB/s]"
          }
        },
        "9e54d69dcce540f48dd37e62ddd35be3": {
          "model_module": "@jupyter-widgets/base",
          "model_name": "LayoutModel",
          "model_module_version": "1.2.0",
          "state": {
            "_model_module": "@jupyter-widgets/base",
            "_model_module_version": "1.2.0",
            "_model_name": "LayoutModel",
            "_view_count": null,
            "_view_module": "@jupyter-widgets/base",
            "_view_module_version": "1.2.0",
            "_view_name": "LayoutView",
            "align_content": null,
            "align_items": null,
            "align_self": null,
            "border": null,
            "bottom": null,
            "display": null,
            "flex": null,
            "flex_flow": null,
            "grid_area": null,
            "grid_auto_columns": null,
            "grid_auto_flow": null,
            "grid_auto_rows": null,
            "grid_column": null,
            "grid_gap": null,
            "grid_row": null,
            "grid_template_areas": null,
            "grid_template_columns": null,
            "grid_template_rows": null,
            "height": null,
            "justify_content": null,
            "justify_items": null,
            "left": null,
            "margin": null,
            "max_height": null,
            "max_width": null,
            "min_height": null,
            "min_width": null,
            "object_fit": null,
            "object_position": null,
            "order": null,
            "overflow": null,
            "overflow_x": null,
            "overflow_y": null,
            "padding": null,
            "right": null,
            "top": null,
            "visibility": null,
            "width": null
          }
        },
        "412954ca68c041c2b537b453ff08cbf5": {
          "model_module": "@jupyter-widgets/base",
          "model_name": "LayoutModel",
          "model_module_version": "1.2.0",
          "state": {
            "_model_module": "@jupyter-widgets/base",
            "_model_module_version": "1.2.0",
            "_model_name": "LayoutModel",
            "_view_count": null,
            "_view_module": "@jupyter-widgets/base",
            "_view_module_version": "1.2.0",
            "_view_name": "LayoutView",
            "align_content": null,
            "align_items": null,
            "align_self": null,
            "border": null,
            "bottom": null,
            "display": null,
            "flex": null,
            "flex_flow": null,
            "grid_area": null,
            "grid_auto_columns": null,
            "grid_auto_flow": null,
            "grid_auto_rows": null,
            "grid_column": null,
            "grid_gap": null,
            "grid_row": null,
            "grid_template_areas": null,
            "grid_template_columns": null,
            "grid_template_rows": null,
            "height": null,
            "justify_content": null,
            "justify_items": null,
            "left": null,
            "margin": null,
            "max_height": null,
            "max_width": null,
            "min_height": null,
            "min_width": null,
            "object_fit": null,
            "object_position": null,
            "order": null,
            "overflow": null,
            "overflow_x": null,
            "overflow_y": null,
            "padding": null,
            "right": null,
            "top": null,
            "visibility": null,
            "width": null
          }
        },
        "f4daf4315e7d42d3a0a88ed3f7a1e75b": {
          "model_module": "@jupyter-widgets/controls",
          "model_name": "DescriptionStyleModel",
          "model_module_version": "1.5.0",
          "state": {
            "_model_module": "@jupyter-widgets/controls",
            "_model_module_version": "1.5.0",
            "_model_name": "DescriptionStyleModel",
            "_view_count": null,
            "_view_module": "@jupyter-widgets/base",
            "_view_module_version": "1.2.0",
            "_view_name": "StyleView",
            "description_width": ""
          }
        },
        "1c841f26388f4bafb0a11474e959f4a2": {
          "model_module": "@jupyter-widgets/base",
          "model_name": "LayoutModel",
          "model_module_version": "1.2.0",
          "state": {
            "_model_module": "@jupyter-widgets/base",
            "_model_module_version": "1.2.0",
            "_model_name": "LayoutModel",
            "_view_count": null,
            "_view_module": "@jupyter-widgets/base",
            "_view_module_version": "1.2.0",
            "_view_name": "LayoutView",
            "align_content": null,
            "align_items": null,
            "align_self": null,
            "border": null,
            "bottom": null,
            "display": null,
            "flex": null,
            "flex_flow": null,
            "grid_area": null,
            "grid_auto_columns": null,
            "grid_auto_flow": null,
            "grid_auto_rows": null,
            "grid_column": null,
            "grid_gap": null,
            "grid_row": null,
            "grid_template_areas": null,
            "grid_template_columns": null,
            "grid_template_rows": null,
            "height": null,
            "justify_content": null,
            "justify_items": null,
            "left": null,
            "margin": null,
            "max_height": null,
            "max_width": null,
            "min_height": null,
            "min_width": null,
            "object_fit": null,
            "object_position": null,
            "order": null,
            "overflow": null,
            "overflow_x": null,
            "overflow_y": null,
            "padding": null,
            "right": null,
            "top": null,
            "visibility": null,
            "width": null
          }
        },
        "489d0073a7c2416ea3f0e3d1557d7cdc": {
          "model_module": "@jupyter-widgets/controls",
          "model_name": "ProgressStyleModel",
          "model_module_version": "1.5.0",
          "state": {
            "_model_module": "@jupyter-widgets/controls",
            "_model_module_version": "1.5.0",
            "_model_name": "ProgressStyleModel",
            "_view_count": null,
            "_view_module": "@jupyter-widgets/base",
            "_view_module_version": "1.2.0",
            "_view_name": "StyleView",
            "bar_color": null,
            "description_width": ""
          }
        },
        "c95aea3ea8f7451d8781a99abb47667f": {
          "model_module": "@jupyter-widgets/base",
          "model_name": "LayoutModel",
          "model_module_version": "1.2.0",
          "state": {
            "_model_module": "@jupyter-widgets/base",
            "_model_module_version": "1.2.0",
            "_model_name": "LayoutModel",
            "_view_count": null,
            "_view_module": "@jupyter-widgets/base",
            "_view_module_version": "1.2.0",
            "_view_name": "LayoutView",
            "align_content": null,
            "align_items": null,
            "align_self": null,
            "border": null,
            "bottom": null,
            "display": null,
            "flex": null,
            "flex_flow": null,
            "grid_area": null,
            "grid_auto_columns": null,
            "grid_auto_flow": null,
            "grid_auto_rows": null,
            "grid_column": null,
            "grid_gap": null,
            "grid_row": null,
            "grid_template_areas": null,
            "grid_template_columns": null,
            "grid_template_rows": null,
            "height": null,
            "justify_content": null,
            "justify_items": null,
            "left": null,
            "margin": null,
            "max_height": null,
            "max_width": null,
            "min_height": null,
            "min_width": null,
            "object_fit": null,
            "object_position": null,
            "order": null,
            "overflow": null,
            "overflow_x": null,
            "overflow_y": null,
            "padding": null,
            "right": null,
            "top": null,
            "visibility": null,
            "width": null
          }
        },
        "948735969f094eaaaf05b87c5ebb2476": {
          "model_module": "@jupyter-widgets/controls",
          "model_name": "DescriptionStyleModel",
          "model_module_version": "1.5.0",
          "state": {
            "_model_module": "@jupyter-widgets/controls",
            "_model_module_version": "1.5.0",
            "_model_name": "DescriptionStyleModel",
            "_view_count": null,
            "_view_module": "@jupyter-widgets/base",
            "_view_module_version": "1.2.0",
            "_view_name": "StyleView",
            "description_width": ""
          }
        },
        "93aded501e7343d198785818c847f2e4": {
          "model_module": "@jupyter-widgets/controls",
          "model_name": "HBoxModel",
          "model_module_version": "1.5.0",
          "state": {
            "_dom_classes": [],
            "_model_module": "@jupyter-widgets/controls",
            "_model_module_version": "1.5.0",
            "_model_name": "HBoxModel",
            "_view_count": null,
            "_view_module": "@jupyter-widgets/controls",
            "_view_module_version": "1.5.0",
            "_view_name": "HBoxView",
            "box_style": "",
            "children": [
              "IPY_MODEL_214970e6e379469ca7f600bd50502cf3",
              "IPY_MODEL_6ed303e35b7e4f1cba63a5fceb949ac3",
              "IPY_MODEL_6a7319e64ee043c6bc756b5386fe172f"
            ],
            "layout": "IPY_MODEL_45d64ced476848c09a9f811b01f1759c"
          }
        },
        "214970e6e379469ca7f600bd50502cf3": {
          "model_module": "@jupyter-widgets/controls",
          "model_name": "HTMLModel",
          "model_module_version": "1.5.0",
          "state": {
            "_dom_classes": [],
            "_model_module": "@jupyter-widgets/controls",
            "_model_module_version": "1.5.0",
            "_model_name": "HTMLModel",
            "_view_count": null,
            "_view_module": "@jupyter-widgets/controls",
            "_view_module_version": "1.5.0",
            "_view_name": "HTMLView",
            "description": "",
            "description_tooltip": null,
            "layout": "IPY_MODEL_2bf7c2b80ed14298a6b0ffceb1dc5da4",
            "placeholder": "​",
            "style": "IPY_MODEL_ba771923fe47477fa3b12e2a4f9e5faa",
            "value": "config.json: 100%"
          }
        },
        "6ed303e35b7e4f1cba63a5fceb949ac3": {
          "model_module": "@jupyter-widgets/controls",
          "model_name": "FloatProgressModel",
          "model_module_version": "1.5.0",
          "state": {
            "_dom_classes": [],
            "_model_module": "@jupyter-widgets/controls",
            "_model_module_version": "1.5.0",
            "_model_name": "FloatProgressModel",
            "_view_count": null,
            "_view_module": "@jupyter-widgets/controls",
            "_view_module_version": "1.5.0",
            "_view_name": "ProgressView",
            "bar_style": "success",
            "description": "",
            "description_tooltip": null,
            "layout": "IPY_MODEL_34276963aff149e88add23b304969710",
            "max": 615,
            "min": 0,
            "orientation": "horizontal",
            "style": "IPY_MODEL_021b2ce4cd2941d2b423e5502eab915d",
            "value": 615
          }
        },
        "6a7319e64ee043c6bc756b5386fe172f": {
          "model_module": "@jupyter-widgets/controls",
          "model_name": "HTMLModel",
          "model_module_version": "1.5.0",
          "state": {
            "_dom_classes": [],
            "_model_module": "@jupyter-widgets/controls",
            "_model_module_version": "1.5.0",
            "_model_name": "HTMLModel",
            "_view_count": null,
            "_view_module": "@jupyter-widgets/controls",
            "_view_module_version": "1.5.0",
            "_view_name": "HTMLView",
            "description": "",
            "description_tooltip": null,
            "layout": "IPY_MODEL_7906fa087b9a4ba5952ef2a2af3b9ce8",
            "placeholder": "​",
            "style": "IPY_MODEL_bdd3b94911ab4ba3b7488fca67b5bc1b",
            "value": " 615/615 [00:00&lt;00:00, 32.8kB/s]"
          }
        },
        "45d64ced476848c09a9f811b01f1759c": {
          "model_module": "@jupyter-widgets/base",
          "model_name": "LayoutModel",
          "model_module_version": "1.2.0",
          "state": {
            "_model_module": "@jupyter-widgets/base",
            "_model_module_version": "1.2.0",
            "_model_name": "LayoutModel",
            "_view_count": null,
            "_view_module": "@jupyter-widgets/base",
            "_view_module_version": "1.2.0",
            "_view_name": "LayoutView",
            "align_content": null,
            "align_items": null,
            "align_self": null,
            "border": null,
            "bottom": null,
            "display": null,
            "flex": null,
            "flex_flow": null,
            "grid_area": null,
            "grid_auto_columns": null,
            "grid_auto_flow": null,
            "grid_auto_rows": null,
            "grid_column": null,
            "grid_gap": null,
            "grid_row": null,
            "grid_template_areas": null,
            "grid_template_columns": null,
            "grid_template_rows": null,
            "height": null,
            "justify_content": null,
            "justify_items": null,
            "left": null,
            "margin": null,
            "max_height": null,
            "max_width": null,
            "min_height": null,
            "min_width": null,
            "object_fit": null,
            "object_position": null,
            "order": null,
            "overflow": null,
            "overflow_x": null,
            "overflow_y": null,
            "padding": null,
            "right": null,
            "top": null,
            "visibility": null,
            "width": null
          }
        },
        "2bf7c2b80ed14298a6b0ffceb1dc5da4": {
          "model_module": "@jupyter-widgets/base",
          "model_name": "LayoutModel",
          "model_module_version": "1.2.0",
          "state": {
            "_model_module": "@jupyter-widgets/base",
            "_model_module_version": "1.2.0",
            "_model_name": "LayoutModel",
            "_view_count": null,
            "_view_module": "@jupyter-widgets/base",
            "_view_module_version": "1.2.0",
            "_view_name": "LayoutView",
            "align_content": null,
            "align_items": null,
            "align_self": null,
            "border": null,
            "bottom": null,
            "display": null,
            "flex": null,
            "flex_flow": null,
            "grid_area": null,
            "grid_auto_columns": null,
            "grid_auto_flow": null,
            "grid_auto_rows": null,
            "grid_column": null,
            "grid_gap": null,
            "grid_row": null,
            "grid_template_areas": null,
            "grid_template_columns": null,
            "grid_template_rows": null,
            "height": null,
            "justify_content": null,
            "justify_items": null,
            "left": null,
            "margin": null,
            "max_height": null,
            "max_width": null,
            "min_height": null,
            "min_width": null,
            "object_fit": null,
            "object_position": null,
            "order": null,
            "overflow": null,
            "overflow_x": null,
            "overflow_y": null,
            "padding": null,
            "right": null,
            "top": null,
            "visibility": null,
            "width": null
          }
        },
        "ba771923fe47477fa3b12e2a4f9e5faa": {
          "model_module": "@jupyter-widgets/controls",
          "model_name": "DescriptionStyleModel",
          "model_module_version": "1.5.0",
          "state": {
            "_model_module": "@jupyter-widgets/controls",
            "_model_module_version": "1.5.0",
            "_model_name": "DescriptionStyleModel",
            "_view_count": null,
            "_view_module": "@jupyter-widgets/base",
            "_view_module_version": "1.2.0",
            "_view_name": "StyleView",
            "description_width": ""
          }
        },
        "34276963aff149e88add23b304969710": {
          "model_module": "@jupyter-widgets/base",
          "model_name": "LayoutModel",
          "model_module_version": "1.2.0",
          "state": {
            "_model_module": "@jupyter-widgets/base",
            "_model_module_version": "1.2.0",
            "_model_name": "LayoutModel",
            "_view_count": null,
            "_view_module": "@jupyter-widgets/base",
            "_view_module_version": "1.2.0",
            "_view_name": "LayoutView",
            "align_content": null,
            "align_items": null,
            "align_self": null,
            "border": null,
            "bottom": null,
            "display": null,
            "flex": null,
            "flex_flow": null,
            "grid_area": null,
            "grid_auto_columns": null,
            "grid_auto_flow": null,
            "grid_auto_rows": null,
            "grid_column": null,
            "grid_gap": null,
            "grid_row": null,
            "grid_template_areas": null,
            "grid_template_columns": null,
            "grid_template_rows": null,
            "height": null,
            "justify_content": null,
            "justify_items": null,
            "left": null,
            "margin": null,
            "max_height": null,
            "max_width": null,
            "min_height": null,
            "min_width": null,
            "object_fit": null,
            "object_position": null,
            "order": null,
            "overflow": null,
            "overflow_x": null,
            "overflow_y": null,
            "padding": null,
            "right": null,
            "top": null,
            "visibility": null,
            "width": null
          }
        },
        "021b2ce4cd2941d2b423e5502eab915d": {
          "model_module": "@jupyter-widgets/controls",
          "model_name": "ProgressStyleModel",
          "model_module_version": "1.5.0",
          "state": {
            "_model_module": "@jupyter-widgets/controls",
            "_model_module_version": "1.5.0",
            "_model_name": "ProgressStyleModel",
            "_view_count": null,
            "_view_module": "@jupyter-widgets/base",
            "_view_module_version": "1.2.0",
            "_view_name": "StyleView",
            "bar_color": null,
            "description_width": ""
          }
        },
        "7906fa087b9a4ba5952ef2a2af3b9ce8": {
          "model_module": "@jupyter-widgets/base",
          "model_name": "LayoutModel",
          "model_module_version": "1.2.0",
          "state": {
            "_model_module": "@jupyter-widgets/base",
            "_model_module_version": "1.2.0",
            "_model_name": "LayoutModel",
            "_view_count": null,
            "_view_module": "@jupyter-widgets/base",
            "_view_module_version": "1.2.0",
            "_view_name": "LayoutView",
            "align_content": null,
            "align_items": null,
            "align_self": null,
            "border": null,
            "bottom": null,
            "display": null,
            "flex": null,
            "flex_flow": null,
            "grid_area": null,
            "grid_auto_columns": null,
            "grid_auto_flow": null,
            "grid_auto_rows": null,
            "grid_column": null,
            "grid_gap": null,
            "grid_row": null,
            "grid_template_areas": null,
            "grid_template_columns": null,
            "grid_template_rows": null,
            "height": null,
            "justify_content": null,
            "justify_items": null,
            "left": null,
            "margin": null,
            "max_height": null,
            "max_width": null,
            "min_height": null,
            "min_width": null,
            "object_fit": null,
            "object_position": null,
            "order": null,
            "overflow": null,
            "overflow_x": null,
            "overflow_y": null,
            "padding": null,
            "right": null,
            "top": null,
            "visibility": null,
            "width": null
          }
        },
        "bdd3b94911ab4ba3b7488fca67b5bc1b": {
          "model_module": "@jupyter-widgets/controls",
          "model_name": "DescriptionStyleModel",
          "model_module_version": "1.5.0",
          "state": {
            "_model_module": "@jupyter-widgets/controls",
            "_model_module_version": "1.5.0",
            "_model_name": "DescriptionStyleModel",
            "_view_count": null,
            "_view_module": "@jupyter-widgets/base",
            "_view_module_version": "1.2.0",
            "_view_name": "StyleView",
            "description_width": ""
          }
        },
        "e3cd136ae39b44bfa5d160360fa33dc9": {
          "model_module": "@jupyter-widgets/controls",
          "model_name": "HBoxModel",
          "model_module_version": "1.5.0",
          "state": {
            "_dom_classes": [],
            "_model_module": "@jupyter-widgets/controls",
            "_model_module_version": "1.5.0",
            "_model_name": "HBoxModel",
            "_view_count": null,
            "_view_module": "@jupyter-widgets/controls",
            "_view_module_version": "1.5.0",
            "_view_name": "HBoxView",
            "box_style": "",
            "children": [
              "IPY_MODEL_97880260974948478fb8553589c031e3",
              "IPY_MODEL_c6bef38101f3465ebd11066ebcdfa175",
              "IPY_MODEL_e4dfc508384b4d269bd2d419f29b2908"
            ],
            "layout": "IPY_MODEL_65a8121e21814812b45228daf30359d9"
          }
        },
        "97880260974948478fb8553589c031e3": {
          "model_module": "@jupyter-widgets/controls",
          "model_name": "HTMLModel",
          "model_module_version": "1.5.0",
          "state": {
            "_dom_classes": [],
            "_model_module": "@jupyter-widgets/controls",
            "_model_module_version": "1.5.0",
            "_model_name": "HTMLModel",
            "_view_count": null,
            "_view_module": "@jupyter-widgets/controls",
            "_view_module_version": "1.5.0",
            "_view_name": "HTMLView",
            "description": "",
            "description_tooltip": null,
            "layout": "IPY_MODEL_ee9b4bc3c93d4f16aa46f62d24947d63",
            "placeholder": "​",
            "style": "IPY_MODEL_42f8480102e64b649ef64a3063e911df",
            "value": "model.safetensors: 100%"
          }
        },
        "c6bef38101f3465ebd11066ebcdfa175": {
          "model_module": "@jupyter-widgets/controls",
          "model_name": "FloatProgressModel",
          "model_module_version": "1.5.0",
          "state": {
            "_dom_classes": [],
            "_model_module": "@jupyter-widgets/controls",
            "_model_module_version": "1.5.0",
            "_model_name": "FloatProgressModel",
            "_view_count": null,
            "_view_module": "@jupyter-widgets/controls",
            "_view_module_version": "1.5.0",
            "_view_name": "ProgressView",
            "bar_style": "success",
            "description": "",
            "description_tooltip": null,
            "layout": "IPY_MODEL_2b8e6b8a7a3448bfa281d91be52369ce",
            "max": 1115567652,
            "min": 0,
            "orientation": "horizontal",
            "style": "IPY_MODEL_62e54a6aad084aa0ab9d03665d7d99e5",
            "value": 1115567652
          }
        },
        "e4dfc508384b4d269bd2d419f29b2908": {
          "model_module": "@jupyter-widgets/controls",
          "model_name": "HTMLModel",
          "model_module_version": "1.5.0",
          "state": {
            "_dom_classes": [],
            "_model_module": "@jupyter-widgets/controls",
            "_model_module_version": "1.5.0",
            "_model_name": "HTMLModel",
            "_view_count": null,
            "_view_module": "@jupyter-widgets/controls",
            "_view_module_version": "1.5.0",
            "_view_name": "HTMLView",
            "description": "",
            "description_tooltip": null,
            "layout": "IPY_MODEL_3055bcff8d1a4b49af3813bad8bc366d",
            "placeholder": "​",
            "style": "IPY_MODEL_79e44932eda4412b84ea0ea0c18c5558",
            "value": " 1.12G/1.12G [00:14&lt;00:00, 140MB/s]"
          }
        },
        "65a8121e21814812b45228daf30359d9": {
          "model_module": "@jupyter-widgets/base",
          "model_name": "LayoutModel",
          "model_module_version": "1.2.0",
          "state": {
            "_model_module": "@jupyter-widgets/base",
            "_model_module_version": "1.2.0",
            "_model_name": "LayoutModel",
            "_view_count": null,
            "_view_module": "@jupyter-widgets/base",
            "_view_module_version": "1.2.0",
            "_view_name": "LayoutView",
            "align_content": null,
            "align_items": null,
            "align_self": null,
            "border": null,
            "bottom": null,
            "display": null,
            "flex": null,
            "flex_flow": null,
            "grid_area": null,
            "grid_auto_columns": null,
            "grid_auto_flow": null,
            "grid_auto_rows": null,
            "grid_column": null,
            "grid_gap": null,
            "grid_row": null,
            "grid_template_areas": null,
            "grid_template_columns": null,
            "grid_template_rows": null,
            "height": null,
            "justify_content": null,
            "justify_items": null,
            "left": null,
            "margin": null,
            "max_height": null,
            "max_width": null,
            "min_height": null,
            "min_width": null,
            "object_fit": null,
            "object_position": null,
            "order": null,
            "overflow": null,
            "overflow_x": null,
            "overflow_y": null,
            "padding": null,
            "right": null,
            "top": null,
            "visibility": null,
            "width": null
          }
        },
        "ee9b4bc3c93d4f16aa46f62d24947d63": {
          "model_module": "@jupyter-widgets/base",
          "model_name": "LayoutModel",
          "model_module_version": "1.2.0",
          "state": {
            "_model_module": "@jupyter-widgets/base",
            "_model_module_version": "1.2.0",
            "_model_name": "LayoutModel",
            "_view_count": null,
            "_view_module": "@jupyter-widgets/base",
            "_view_module_version": "1.2.0",
            "_view_name": "LayoutView",
            "align_content": null,
            "align_items": null,
            "align_self": null,
            "border": null,
            "bottom": null,
            "display": null,
            "flex": null,
            "flex_flow": null,
            "grid_area": null,
            "grid_auto_columns": null,
            "grid_auto_flow": null,
            "grid_auto_rows": null,
            "grid_column": null,
            "grid_gap": null,
            "grid_row": null,
            "grid_template_areas": null,
            "grid_template_columns": null,
            "grid_template_rows": null,
            "height": null,
            "justify_content": null,
            "justify_items": null,
            "left": null,
            "margin": null,
            "max_height": null,
            "max_width": null,
            "min_height": null,
            "min_width": null,
            "object_fit": null,
            "object_position": null,
            "order": null,
            "overflow": null,
            "overflow_x": null,
            "overflow_y": null,
            "padding": null,
            "right": null,
            "top": null,
            "visibility": null,
            "width": null
          }
        },
        "42f8480102e64b649ef64a3063e911df": {
          "model_module": "@jupyter-widgets/controls",
          "model_name": "DescriptionStyleModel",
          "model_module_version": "1.5.0",
          "state": {
            "_model_module": "@jupyter-widgets/controls",
            "_model_module_version": "1.5.0",
            "_model_name": "DescriptionStyleModel",
            "_view_count": null,
            "_view_module": "@jupyter-widgets/base",
            "_view_module_version": "1.2.0",
            "_view_name": "StyleView",
            "description_width": ""
          }
        },
        "2b8e6b8a7a3448bfa281d91be52369ce": {
          "model_module": "@jupyter-widgets/base",
          "model_name": "LayoutModel",
          "model_module_version": "1.2.0",
          "state": {
            "_model_module": "@jupyter-widgets/base",
            "_model_module_version": "1.2.0",
            "_model_name": "LayoutModel",
            "_view_count": null,
            "_view_module": "@jupyter-widgets/base",
            "_view_module_version": "1.2.0",
            "_view_name": "LayoutView",
            "align_content": null,
            "align_items": null,
            "align_self": null,
            "border": null,
            "bottom": null,
            "display": null,
            "flex": null,
            "flex_flow": null,
            "grid_area": null,
            "grid_auto_columns": null,
            "grid_auto_flow": null,
            "grid_auto_rows": null,
            "grid_column": null,
            "grid_gap": null,
            "grid_row": null,
            "grid_template_areas": null,
            "grid_template_columns": null,
            "grid_template_rows": null,
            "height": null,
            "justify_content": null,
            "justify_items": null,
            "left": null,
            "margin": null,
            "max_height": null,
            "max_width": null,
            "min_height": null,
            "min_width": null,
            "object_fit": null,
            "object_position": null,
            "order": null,
            "overflow": null,
            "overflow_x": null,
            "overflow_y": null,
            "padding": null,
            "right": null,
            "top": null,
            "visibility": null,
            "width": null
          }
        },
        "62e54a6aad084aa0ab9d03665d7d99e5": {
          "model_module": "@jupyter-widgets/controls",
          "model_name": "ProgressStyleModel",
          "model_module_version": "1.5.0",
          "state": {
            "_model_module": "@jupyter-widgets/controls",
            "_model_module_version": "1.5.0",
            "_model_name": "ProgressStyleModel",
            "_view_count": null,
            "_view_module": "@jupyter-widgets/base",
            "_view_module_version": "1.2.0",
            "_view_name": "StyleView",
            "bar_color": null,
            "description_width": ""
          }
        },
        "3055bcff8d1a4b49af3813bad8bc366d": {
          "model_module": "@jupyter-widgets/base",
          "model_name": "LayoutModel",
          "model_module_version": "1.2.0",
          "state": {
            "_model_module": "@jupyter-widgets/base",
            "_model_module_version": "1.2.0",
            "_model_name": "LayoutModel",
            "_view_count": null,
            "_view_module": "@jupyter-widgets/base",
            "_view_module_version": "1.2.0",
            "_view_name": "LayoutView",
            "align_content": null,
            "align_items": null,
            "align_self": null,
            "border": null,
            "bottom": null,
            "display": null,
            "flex": null,
            "flex_flow": null,
            "grid_area": null,
            "grid_auto_columns": null,
            "grid_auto_flow": null,
            "grid_auto_rows": null,
            "grid_column": null,
            "grid_gap": null,
            "grid_row": null,
            "grid_template_areas": null,
            "grid_template_columns": null,
            "grid_template_rows": null,
            "height": null,
            "justify_content": null,
            "justify_items": null,
            "left": null,
            "margin": null,
            "max_height": null,
            "max_width": null,
            "min_height": null,
            "min_width": null,
            "object_fit": null,
            "object_position": null,
            "order": null,
            "overflow": null,
            "overflow_x": null,
            "overflow_y": null,
            "padding": null,
            "right": null,
            "top": null,
            "visibility": null,
            "width": null
          }
        },
        "79e44932eda4412b84ea0ea0c18c5558": {
          "model_module": "@jupyter-widgets/controls",
          "model_name": "DescriptionStyleModel",
          "model_module_version": "1.5.0",
          "state": {
            "_model_module": "@jupyter-widgets/controls",
            "_model_module_version": "1.5.0",
            "_model_name": "DescriptionStyleModel",
            "_view_count": null,
            "_view_module": "@jupyter-widgets/base",
            "_view_module_version": "1.2.0",
            "_view_name": "StyleView",
            "description_width": ""
          }
        }
      }
    }
  },
  "cells": [
    {
      "cell_type": "markdown",
      "metadata": {
        "id": "view-in-github",
        "colab_type": "text"
      },
      "source": [
        "<a href=\"https://colab.research.google.com/github/Danielb711/Xml-Roberta-POS-Tagging/blob/main/POS.ipynb\" target=\"_parent\"><img src=\"https://colab.research.google.com/assets/colab-badge.svg\" alt=\"Open In Colab\"/></a>"
      ]
    },
    {
      "cell_type": "markdown",
      "source": [
        "# **Librerías necesarias**"
      ],
      "metadata": {
        "id": "R0kD6Oqbr-V-"
      }
    },
    {
      "cell_type": "code",
      "source": [
        "#!pip install conllu\n",
        "#!pip install transformers\n",
        "#!pip install torch\n",
        "#!pip install seqeval\n",
        "#!pip install huggingface_hub\n",
        "\n",
        "from google.colab import drive\n",
        "import os\n",
        "from conllu import parse\n",
        "from transformers import XLMRobertaTokenizerFast, XLMRobertaForTokenClassification, AdamW\n",
        "import torch\n",
        "from torch.utils.data import Dataset, DataLoader\n",
        "from torch.nn import CrossEntropyLoss\n",
        "import numpy as np\n",
        "from sklearn.metrics import classification_report\n",
        "from huggingface_hub import notebook_login\n",
        "from huggingface_hub import HfApi, upload_folder"
      ],
      "metadata": {
        "id": "-x6WqGtEsCO_"
      },
      "execution_count": 3,
      "outputs": []
    },
    {
      "cell_type": "markdown",
      "source": [
        "# **Acceso a los datos**"
      ],
      "metadata": {
        "id": "uKsCoo2Rp7W3"
      }
    },
    {
      "cell_type": "markdown",
      "source": [
        "## Montamos el drive"
      ],
      "metadata": {
        "id": "MPTOEDOPp_Je"
      }
    },
    {
      "cell_type": "code",
      "execution_count": 4,
      "metadata": {
        "colab": {
          "base_uri": "https://localhost:8080/"
        },
        "id": "b9EZ1tGONRxw",
        "outputId": "db63f95f-6cd1-4e72-8545-c5eff61763e3"
      },
      "outputs": [
        {
          "output_type": "stream",
          "name": "stdout",
          "text": [
            "Mounted at /content/drive\n"
          ]
        }
      ],
      "source": [
        "# Montamos el drive para acceder a los archivos\n",
        "drive.mount('/content/drive')"
      ]
    },
    {
      "cell_type": "markdown",
      "source": [
        "## Lista de archivos"
      ],
      "metadata": {
        "id": "U3QUinI-qFsM"
      }
    },
    {
      "cell_type": "code",
      "source": [
        "# Ruta a la carpeta dentro de Google Drive\n",
        "folder_path = '/content/drive/My Drive/ServicioSocial/UniversalDependencies/UD_Spanish-AnCora'\n",
        "\n",
        "# Listar los archivos en la carpeta\n",
        "files = os.listdir(folder_path)\n",
        "print(\"Archivos en la carpeta:\", files)"
      ],
      "metadata": {
        "colab": {
          "base_uri": "https://localhost:8080/"
        },
        "id": "U78MLFA_PK-7",
        "outputId": "567d4959-64f6-4f88-bf8a-0d7edb2e220a"
      },
      "execution_count": 5,
      "outputs": [
        {
          "output_type": "stream",
          "name": "stdout",
          "text": [
            "Archivos en la carpeta: ['README.md', 'LICENSE.txt', 'es_ancora-ud-dev.conllu', 'es_ancora-ud-test.conllu', 'es_ancora-ud-train.conllu', 'stats.xml', 'es_ancora-ud-dev.txt', 'es_ancora-ud-test.txt', 'es_ancora-ud-train.txt']\n"
          ]
        }
      ]
    },
    {
      "cell_type": "markdown",
      "source": [
        "## **Datos de entrenamiento**"
      ],
      "metadata": {
        "id": "zCqnP_ITqLUH"
      }
    },
    {
      "cell_type": "code",
      "source": [
        "# Accedemos a los datos de entrenamiento\n",
        "file_path = os.path.join(folder_path, 'es_ancora-ud-train.conllu')\n",
        "\n",
        "# Abrir y leer el contenido del archivo\n",
        "with open(file_path, 'r') as file:\n",
        "    entrenamiento = file.read()\n",
        "\n",
        "# Muestra las primeras 500 caracteres para verificar el contenido\n",
        "print(entrenamiento[:500])"
      ],
      "metadata": {
        "colab": {
          "base_uri": "https://localhost:8080/"
        },
        "id": "dmZJ2i-VPWDJ",
        "outputId": "d42d6ac3-97a7-4f07-fe1e-937381fa2551"
      },
      "execution_count": 6,
      "outputs": [
        {
          "output_type": "stream",
          "name": "stdout",
          "text": [
            "# global.Entity = eid-etype-head-other\n",
            "# newdoc id = 3LB-CAST-104_c-1\n",
            "# sent_id = 3LB-CAST-104_c-1-s1\n",
            "# text = Las reservas de oro y divisas de Rusia subieron 800 millones de dólares y el 26 de mayo equivalían a 19.100 millones de dólares, informó hoy un comunicado del Banco Central.\n",
            "# orig_file_sentence 001#58\n",
            "1\tLas\tel\tDET\tda0fp0\tDefinite=Def|Gender=Fem|Number=Plur|PronType=Art\t2\tdet\t2:det\t_\n",
            "2\treservas\treserva\tNOUN\tncfp000\tGender=Fem|Number=Plur\t9\tnsubj\t9:nsubj\tArgTem=arg1:tem\n",
            "3\tde\tde\tADP\tsps00\n"
          ]
        }
      ]
    },
    {
      "cell_type": "markdown",
      "source": [
        "### Formato ConLLu"
      ],
      "metadata": {
        "id": "xJdS19d5qPbl"
      }
    },
    {
      "cell_type": "code",
      "source": [
        "# Parsea el contenido del archivo\n",
        "sentences_train = parse(entrenamiento)"
      ],
      "metadata": {
        "id": "Du9FAltOqZ9L"
      },
      "execution_count": 7,
      "outputs": []
    },
    {
      "cell_type": "markdown",
      "source": [
        "### Como se ve el contenido"
      ],
      "metadata": {
        "id": "QTdccZn6vCTn"
      }
    },
    {
      "cell_type": "code",
      "source": [
        "sentences_train[0]"
      ],
      "metadata": {
        "colab": {
          "base_uri": "https://localhost:8080/"
        },
        "id": "UR5bCfqgukDN",
        "outputId": "b2a6d2c0-88e7-4772-fb24-b34f823c51fa"
      },
      "execution_count": 8,
      "outputs": [
        {
          "output_type": "execute_result",
          "data": {
            "text/plain": [
              "TokenList<Las, reservas, de, oro, y, divisas, de, Rusia, subieron, 800, millones, de, dólares, y, el, 26, de, mayo, equivalían, a, 19.100, millones, de, dólares, ,, informó, hoy, un, comunicado, del, de, el, Banco, Central, ., metadata={global.Entity: \"eid-etype-head-other\", newdoc id: \"3LB-CAST-104_c-1\", sent_id: \"3LB-CAST-104_c-1-s1\", text: \"Las reservas de oro y divisas de Rusia subieron 800 millones de dólares y el 26 de mayo equivalían a 19.100 millones de dólares, informó hoy un comunicado del Banco Central.\"}>"
            ]
          },
          "metadata": {},
          "execution_count": 8
        }
      ]
    },
    {
      "cell_type": "code",
      "source": [
        "sentences_train[0][0]"
      ],
      "metadata": {
        "colab": {
          "base_uri": "https://localhost:8080/"
        },
        "id": "q0EEE9TUuakN",
        "outputId": "38109f17-7523-4247-d06a-c2d46942f3bf"
      },
      "execution_count": 9,
      "outputs": [
        {
          "output_type": "execute_result",
          "data": {
            "text/plain": [
              "{'id': 1,\n",
              " 'form': 'Las',\n",
              " 'lemma': 'el',\n",
              " 'upos': 'DET',\n",
              " 'xpos': 'da0fp0',\n",
              " 'feats': {'Definite': 'Def',\n",
              "  'Gender': 'Fem',\n",
              "  'Number': 'Plur',\n",
              "  'PronType': 'Art'},\n",
              " 'head': 2,\n",
              " 'deprel': 'det',\n",
              " 'deps': [('det', 2)],\n",
              " 'misc': None}"
            ]
          },
          "metadata": {},
          "execution_count": 9
        }
      ]
    },
    {
      "cell_type": "markdown",
      "source": [
        "### Obtenemos los datos que nos interesan para pos tagging que es la palabra y su POS"
      ],
      "metadata": {
        "id": "KdnOoITg-RV1"
      }
    },
    {
      "cell_type": "code",
      "source": [
        "oraciones_train = []\n",
        "labels_train = []\n",
        "\n",
        "for sentence in sentences_train:\n",
        "    palabras = [token['form'] for token in sentence]\n",
        "    pos_tags = [token['upos'] for token in sentence]\n",
        "\n",
        "    oraciones_train.append(palabras)\n",
        "    labels_train.append(pos_tags)"
      ],
      "metadata": {
        "id": "omq1WErc-Y5F"
      },
      "execution_count": 10,
      "outputs": []
    },
    {
      "cell_type": "markdown",
      "source": [
        "## **Datos de validación**"
      ],
      "metadata": {
        "id": "LZxJJ6vBtr9m"
      }
    },
    {
      "cell_type": "code",
      "source": [
        "# Accedemos a los datos de validación\n",
        "file_path = os.path.join(folder_path, 'es_ancora-ud-dev.conllu')\n",
        "\n",
        "# Abrir y leer el contenido del archivo\n",
        "with open(file_path, 'r') as file:\n",
        "    validacion = file.read()\n",
        "\n",
        "# Muestra las primeras 500 caracteres para verificar el contenido\n",
        "print(validacion[:500])"
      ],
      "metadata": {
        "colab": {
          "base_uri": "https://localhost:8080/"
        },
        "id": "prhC03y6tw2e",
        "outputId": "c0c2d5f2-b4ca-4573-9bd1-490452490036"
      },
      "execution_count": 11,
      "outputs": [
        {
          "output_type": "stream",
          "name": "stdout",
          "text": [
            "# global.Entity = eid-etype-head-other\n",
            "# newdoc id = 3LB-CAST-111_C-2\n",
            "# sent_id = 3LB-CAST-111_C-2-s1\n",
            "# text = El gobernante, con ganada fama desde que llegó hace 16 meses al poder de explotar al máximo su oratoria y acusado por sus detractores de incontinencia verbal, enmudeció desde el momento en el que el Tribunal Supremo de Justicia (TSJ) decidió suspender temporalmente los comicios múltiples ante la imposibilidad \"técnica\" de celebrarlos el 28 de mayo.\n",
            "# orig_file_sentence 001#1\n",
            "1\tEl\tel\tDET\n"
          ]
        }
      ]
    },
    {
      "cell_type": "markdown",
      "source": [
        "### Formato ConLLu"
      ],
      "metadata": {
        "id": "u64bIWZDt_IH"
      }
    },
    {
      "cell_type": "code",
      "source": [
        "# Parsea el contenido del archivo\n",
        "sentences_val = parse(validacion)"
      ],
      "metadata": {
        "id": "ueb1wA2XuDkT"
      },
      "execution_count": 12,
      "outputs": []
    },
    {
      "cell_type": "markdown",
      "source": [
        "### Como se ve el contenido"
      ],
      "metadata": {
        "id": "4rwwo97JuLEo"
      }
    },
    {
      "cell_type": "code",
      "source": [
        "sentences_val[0]"
      ],
      "metadata": {
        "colab": {
          "base_uri": "https://localhost:8080/"
        },
        "id": "c0TSYq6kuMqs",
        "outputId": "b253b5be-ddeb-47fe-c712-4cfccbadf8fc"
      },
      "execution_count": 13,
      "outputs": [
        {
          "output_type": "execute_result",
          "data": {
            "text/plain": [
              "TokenList<El, gobernante, ,, con, ganada, fama, desde, que, llegó, hace, 16, meses, al, a, el, poder, de, explotar, al, a, el, máximo, su, oratoria, y, acusado, por, sus, detractores, de, incontinencia, verbal, ,, enmudeció, desde, el, momento, en, el, que, el, Tribunal, Supremo, de, Justicia, (, TSJ, ), decidió, suspender, temporalmente, los, comicios, múltiples, ante, la, imposibilidad, \", técnica, \", de, celebrarlos, celebrar, los, el, 28, de, mayo, ., metadata={global.Entity: \"eid-etype-head-other\", newdoc id: \"3LB-CAST-111_C-2\", sent_id: \"3LB-CAST-111_C-2-s1\", text: \"El gobernante, con ganada fama desde que llegó hace 16 meses al poder de explotar al máximo su oratoria y acusado por sus detractores de incontinencia verbal, enmudeció desde el momento en el que el Tribunal Supremo de Justicia (TSJ) decidió suspender temporalmente los comicios múltiples ante la imposibilidad \"técnica\" de celebrarlos el 28 de mayo.\"}>"
            ]
          },
          "metadata": {},
          "execution_count": 13
        }
      ]
    },
    {
      "cell_type": "code",
      "source": [
        "sentences_val[0][0]"
      ],
      "metadata": {
        "colab": {
          "base_uri": "https://localhost:8080/"
        },
        "id": "kLPuicR9uPKa",
        "outputId": "4d05f7d9-b47f-4bcf-95c3-b7b6cb3582db"
      },
      "execution_count": 14,
      "outputs": [
        {
          "output_type": "execute_result",
          "data": {
            "text/plain": [
              "{'id': 1,\n",
              " 'form': 'El',\n",
              " 'lemma': 'el',\n",
              " 'upos': 'DET',\n",
              " 'xpos': 'da0ms0',\n",
              " 'feats': {'Definite': 'Def',\n",
              "  'Gender': 'Masc',\n",
              "  'Number': 'Sing',\n",
              "  'PronType': 'Art'},\n",
              " 'head': 2,\n",
              " 'deprel': 'det',\n",
              " 'deps': [('det', 2)],\n",
              " 'misc': None}"
            ]
          },
          "metadata": {},
          "execution_count": 14
        }
      ]
    },
    {
      "cell_type": "markdown",
      "source": [
        "### Obtenemos los datos que nos interesan para pos tagging que es la palabra y su POS"
      ],
      "metadata": {
        "id": "mh1KpqVzuUBl"
      }
    },
    {
      "cell_type": "code",
      "source": [
        "oraciones_val = []\n",
        "labels_val = []\n",
        "\n",
        "for sentence in sentences_val:\n",
        "    palabras = [token['form'] for token in sentence]\n",
        "    pos_tags = [token['upos'] for token in sentence]\n",
        "\n",
        "    oraciones_val.append(palabras)\n",
        "    labels_val.append(pos_tags)"
      ],
      "metadata": {
        "id": "Ou-_KlAouUwB"
      },
      "execution_count": 15,
      "outputs": []
    },
    {
      "cell_type": "markdown",
      "source": [
        "## **Datos de Testeo**"
      ],
      "metadata": {
        "id": "rCU4rGIkuwuj"
      }
    },
    {
      "cell_type": "code",
      "source": [
        "# Accedemos a los datos de validación\n",
        "file_path = os.path.join(folder_path, 'es_ancora-ud-test.conllu')\n",
        "\n",
        "# Abrir y leer el contenido del archivo\n",
        "with open(file_path, 'r') as file:\n",
        "    test = file.read()\n",
        "\n",
        "# Muestra las primeras 500 caracteres para verificar el contenido\n",
        "print(test[:500])"
      ],
      "metadata": {
        "colab": {
          "base_uri": "https://localhost:8080/"
        },
        "id": "boVIVBJkuyX7",
        "outputId": "942e483d-3b29-415d-c020-139d3ed05e19"
      },
      "execution_count": 16,
      "outputs": [
        {
          "output_type": "stream",
          "name": "stdout",
          "text": [
            "# global.Entity = eid-etype-head-other\n",
            "# newdoc id = 3LB-CAST-111_C-4\n",
            "# sent_id = 3LB-CAST-111_C-4-s1\n",
            "# text = Partidario de la \"perestroika\" de Mijail Gorbachov en la Unión Soviética, en 1989 entró en conflicto con Yívkov, líder durante 35 años del Partido Comunista y del Estado búlgaro, y le acusó en una carta abierta de utilizar métodos poco democráticos de gobierno.\n",
            "# orig_file_sentence 001#1\n",
            "1\tPartidario\tpartidario\tADJ\taq0ms0\tGender=Masc|Number=Sing\t17\tamod\t17:amod\t_\n",
            "2\tde\tde\tADP\tsps00\t_\t5\tc\n"
          ]
        }
      ]
    },
    {
      "cell_type": "markdown",
      "source": [
        "### Formato ConLLu"
      ],
      "metadata": {
        "id": "bf3f9pgsu7h-"
      }
    },
    {
      "cell_type": "code",
      "source": [
        "# Parsea el contenido del archivo\n",
        "sentences_test = parse(test)"
      ],
      "metadata": {
        "id": "uoEyZQ3Mu8BL"
      },
      "execution_count": 17,
      "outputs": []
    },
    {
      "cell_type": "markdown",
      "source": [
        "### Como se ve el contenido"
      ],
      "metadata": {
        "id": "UhYcvQS5vHTO"
      }
    },
    {
      "cell_type": "code",
      "source": [
        "sentences_test[0]"
      ],
      "metadata": {
        "colab": {
          "base_uri": "https://localhost:8080/"
        },
        "id": "eSwUHfB8vKAa",
        "outputId": "3de80d5e-8875-40b2-d7e9-5e2da1f2b482"
      },
      "execution_count": 18,
      "outputs": [
        {
          "output_type": "execute_result",
          "data": {
            "text/plain": [
              "TokenList<Partidario, de, la, \", perestroika, \", de, Mijail, Gorbachov, en, la, Unión, Soviética, ,, en, 1989, entró, en, conflicto, con, Yívkov, ,, líder, durante, 35, años, del, de, el, Partido, Comunista, y, del, de, el, Estado, búlgaro, ,, y, le, acusó, en, una, carta, abierta, de, utilizar, métodos, poco, democráticos, de, gobierno, ., metadata={global.Entity: \"eid-etype-head-other\", newdoc id: \"3LB-CAST-111_C-4\", sent_id: \"3LB-CAST-111_C-4-s1\", text: \"Partidario de la \"perestroika\" de Mijail Gorbachov en la Unión Soviética, en 1989 entró en conflicto con Yívkov, líder durante 35 años del Partido Comunista y del Estado búlgaro, y le acusó en una carta abierta de utilizar métodos poco democráticos de gobierno.\"}>"
            ]
          },
          "metadata": {},
          "execution_count": 18
        }
      ]
    },
    {
      "cell_type": "code",
      "source": [
        "sentences_test[0][0]"
      ],
      "metadata": {
        "colab": {
          "base_uri": "https://localhost:8080/"
        },
        "id": "xiLoVycGvNL6",
        "outputId": "111c1740-30cf-4f45-f2d1-658bbfcd2460"
      },
      "execution_count": 19,
      "outputs": [
        {
          "output_type": "execute_result",
          "data": {
            "text/plain": [
              "{'id': 1,\n",
              " 'form': 'Partidario',\n",
              " 'lemma': 'partidario',\n",
              " 'upos': 'ADJ',\n",
              " 'xpos': 'aq0ms0',\n",
              " 'feats': {'Gender': 'Masc', 'Number': 'Sing'},\n",
              " 'head': 17,\n",
              " 'deprel': 'amod',\n",
              " 'deps': [('amod', 17)],\n",
              " 'misc': None}"
            ]
          },
          "metadata": {},
          "execution_count": 19
        }
      ]
    },
    {
      "cell_type": "markdown",
      "source": [
        "### Obtenemos los datos que nos interesan para pos tagging que es la palabra y su POS"
      ],
      "metadata": {
        "id": "X9ThmHS7vOXH"
      }
    },
    {
      "cell_type": "code",
      "source": [
        "oraciones_test = []\n",
        "labels_test = []\n",
        "\n",
        "for sentence in sentences_test:\n",
        "    palabras = [token['form'] for token in sentence]\n",
        "    pos_tags = [token['upos'] for token in sentence]\n",
        "\n",
        "    oraciones_test.append(palabras)\n",
        "    labels_test.append(pos_tags)"
      ],
      "metadata": {
        "id": "vbCtln3KvSQ3"
      },
      "execution_count": 20,
      "outputs": []
    },
    {
      "cell_type": "markdown",
      "source": [
        "# **Modelado con Transformers**"
      ],
      "metadata": {
        "id": "JcnW68kk9YSZ"
      }
    },
    {
      "cell_type": "markdown",
      "source": [
        "## **Tokenizador**"
      ],
      "metadata": {
        "id": "e1CbdCPq_pT4"
      }
    },
    {
      "cell_type": "markdown",
      "source": [
        "Antes de proceder con el entrenamiento o la evaluación de nuestro modelo, necesitamos preparar nuestros datos de texto para que estén en un formato adecuado que el modelo pueda entender. Esto implica convertir el texto crudo en una secuencia de tokens o unidades de texto más pequeñas. Para realizar esta tarea, utilizamos un tokenizador.\n",
        "\n",
        "El tokenizador desempeña varias funciones clave:\n",
        "\n",
        "* Divide el texto: Transforma el texto crudo en tokens, que pueden ser palabras,\n",
        "partes de palabras, o incluso caracteres, dependiendo del vocabulario preentrenado del modelo.\n",
        "* Convierte a IDs: Asigna a cada token un identificador único según el vocabulario del modelo preentrenado.\n",
        "* Añade tokens especiales: Inserta tokens especiales requeridos por el modelo para entender correctamente la estructura del texto, como los tokens de inicio, separación y relleno.\n",
        "* Crea máscaras de atención: Genera máscaras para indicar al modelo qué partes de la secuencia son tokens reales y cuáles son relleno.\n",
        "\n",
        "Estos pasos son cruciales para asegurar que el modelo procese el texto de manera efectiva y genere predicciones precisas. Para nuestro modelo XLM-RoBERTa, utilizaremos el XLMRobertaTokenizerFast, el cual está específicamente diseñado para trabajar con el modelo XLM-RoBERTa y optimizado para ofrecer una tokenización rápida y eficiente."
      ],
      "metadata": {
        "id": "_otNtnJR_GoO"
      }
    },
    {
      "cell_type": "code",
      "source": [
        "# Cargar el tokenizador\n",
        "tokenizer = XLMRobertaTokenizerFast.from_pretrained('xlm-roberta-base')"
      ],
      "metadata": {
        "id": "XmpZLYQt_rqK",
        "colab": {
          "base_uri": "https://localhost:8080/",
          "height": 313,
          "referenced_widgets": [
            "f22359da543748078be06089098ba5c9",
            "922fb0326cef4516b41b3c9636a5f7dd",
            "6422f1a56d7f4413be088d639066542b",
            "adb45e1585ce42489a9ecb9224dbce41",
            "2b68db0070274597bfbc01165b3293ce",
            "1fd2c4449366432984c5d733438b4e25",
            "fb5f653fe68142c380b98c841249e9de",
            "48d75703b47b46d2a462466a82ddf293",
            "837a17ccfce04a7a85be0194e139cdfa",
            "ff4d340d05cc4485b931abbd1ebc834a",
            "f036df336efe49fd82e36fe69a9f0313",
            "ad5df036c3db4d4b8897620195884db4",
            "8cf75738d8ad4c4a99b7bafdc9994e06",
            "a56c8cc1eee842b6be31b3269b9e053e",
            "c5317a39f9024b02a484d6a6287de231",
            "b1e03a7ab78744d09fcf79270473c5fa",
            "a584e54dee704d4da3ed9ba283dc2b68",
            "e9508af334de4ebc9de86632b707364e",
            "7436ecf4ce1c4b7bafb8596e23a71c71",
            "3dbecb1cdaf64eb0992a73e2f5afd8a9",
            "a11dc2c0c7fa4b678e270afe1e8b5200",
            "43d6d80c571945a0a077f076840ee265",
            "8bddaa6bd8d4463b9a9e9481badbf1f3",
            "4ba4abf68e1548f4bfb61c8c27b1d785",
            "9e95689ac87a4db7922fb4660164d8ac",
            "724c491c149f4e4fae27b5921c3fd113",
            "9e54d69dcce540f48dd37e62ddd35be3",
            "412954ca68c041c2b537b453ff08cbf5",
            "f4daf4315e7d42d3a0a88ed3f7a1e75b",
            "1c841f26388f4bafb0a11474e959f4a2",
            "489d0073a7c2416ea3f0e3d1557d7cdc",
            "c95aea3ea8f7451d8781a99abb47667f",
            "948735969f094eaaaf05b87c5ebb2476",
            "93aded501e7343d198785818c847f2e4",
            "214970e6e379469ca7f600bd50502cf3",
            "6ed303e35b7e4f1cba63a5fceb949ac3",
            "6a7319e64ee043c6bc756b5386fe172f",
            "45d64ced476848c09a9f811b01f1759c",
            "2bf7c2b80ed14298a6b0ffceb1dc5da4",
            "ba771923fe47477fa3b12e2a4f9e5faa",
            "34276963aff149e88add23b304969710",
            "021b2ce4cd2941d2b423e5502eab915d",
            "7906fa087b9a4ba5952ef2a2af3b9ce8",
            "bdd3b94911ab4ba3b7488fca67b5bc1b"
          ]
        },
        "outputId": "4296bfde-6d85-46c3-992c-2dda62b7eda5"
      },
      "execution_count": 21,
      "outputs": [
        {
          "output_type": "stream",
          "name": "stderr",
          "text": [
            "/usr/local/lib/python3.10/dist-packages/huggingface_hub/utils/_token.py:89: UserWarning: \n",
            "The secret `HF_TOKEN` does not exist in your Colab secrets.\n",
            "To authenticate with the Hugging Face Hub, create a token in your settings tab (https://huggingface.co/settings/tokens), set it as secret in your Google Colab and restart your session.\n",
            "You will be able to reuse this secret in all of your notebooks.\n",
            "Please note that authentication is recommended but still optional to access public models or datasets.\n",
            "  warnings.warn(\n"
          ]
        },
        {
          "output_type": "display_data",
          "data": {
            "text/plain": [
              "tokenizer_config.json:   0%|          | 0.00/25.0 [00:00<?, ?B/s]"
            ],
            "application/vnd.jupyter.widget-view+json": {
              "version_major": 2,
              "version_minor": 0,
              "model_id": "f22359da543748078be06089098ba5c9"
            }
          },
          "metadata": {}
        },
        {
          "output_type": "display_data",
          "data": {
            "text/plain": [
              "sentencepiece.bpe.model:   0%|          | 0.00/5.07M [00:00<?, ?B/s]"
            ],
            "application/vnd.jupyter.widget-view+json": {
              "version_major": 2,
              "version_minor": 0,
              "model_id": "ad5df036c3db4d4b8897620195884db4"
            }
          },
          "metadata": {}
        },
        {
          "output_type": "display_data",
          "data": {
            "text/plain": [
              "tokenizer.json:   0%|          | 0.00/9.10M [00:00<?, ?B/s]"
            ],
            "application/vnd.jupyter.widget-view+json": {
              "version_major": 2,
              "version_minor": 0,
              "model_id": "8bddaa6bd8d4463b9a9e9481badbf1f3"
            }
          },
          "metadata": {}
        },
        {
          "output_type": "stream",
          "name": "stderr",
          "text": [
            "/usr/local/lib/python3.10/dist-packages/huggingface_hub/file_download.py:1132: FutureWarning: `resume_download` is deprecated and will be removed in version 1.0.0. Downloads always resume when possible. If you want to force a new download, use `force_download=True`.\n",
            "  warnings.warn(\n"
          ]
        },
        {
          "output_type": "display_data",
          "data": {
            "text/plain": [
              "config.json:   0%|          | 0.00/615 [00:00<?, ?B/s]"
            ],
            "application/vnd.jupyter.widget-view+json": {
              "version_major": 2,
              "version_minor": 0,
              "model_id": "93aded501e7343d198785818c847f2e4"
            }
          },
          "metadata": {}
        }
      ]
    },
    {
      "cell_type": "code",
      "source": [
        "# Tokenizamos\n",
        "tokenized_train = tokenizer(oraciones_train, truncation=True, padding=True, is_split_into_words=True, return_tensors=\"pt\")\n",
        "tokenized_val = tokenizer(oraciones_val, truncation=True, padding=True, is_split_into_words=True, return_tensors=\"pt\")\n",
        "tokenized_test = tokenizer(oraciones_test, truncation=True, padding=True, is_split_into_words=True, return_tensors=\"pt\")"
      ],
      "metadata": {
        "id": "ro4HT2C2C_QD"
      },
      "execution_count": 22,
      "outputs": []
    },
    {
      "cell_type": "code",
      "source": [
        "tokenized_train"
      ],
      "metadata": {
        "colab": {
          "base_uri": "https://localhost:8080/"
        },
        "id": "V2vFf5AaPUpQ",
        "outputId": "eefd9652-4871-4e73-ebb8-b164cf4dd668"
      },
      "execution_count": 23,
      "outputs": [
        {
          "output_type": "execute_result",
          "data": {
            "text/plain": [
              "{'input_ids': tensor([[     0,   5599,  18433,  ...,      1,      1,      1],\n",
              "        [     0,  64933,     88,  ...,      1,      1,      1],\n",
              "        [     0,   3731,  99867,  ...,      1,      1,      1],\n",
              "        ...,\n",
              "        [     0,     44, 176684,  ...,      1,      1,      1],\n",
              "        [     0,     44,    990,  ...,      1,      1,      1],\n",
              "        [     0,   4228, 178831,  ...,      1,      1,      1]]), 'attention_mask': tensor([[1, 1, 1,  ..., 0, 0, 0],\n",
              "        [1, 1, 1,  ..., 0, 0, 0],\n",
              "        [1, 1, 1,  ..., 0, 0, 0],\n",
              "        ...,\n",
              "        [1, 1, 1,  ..., 0, 0, 0],\n",
              "        [1, 1, 1,  ..., 0, 0, 0],\n",
              "        [1, 1, 1,  ..., 0, 0, 0]])}"
            ]
          },
          "metadata": {},
          "execution_count": 23
        }
      ]
    },
    {
      "cell_type": "markdown",
      "source": [
        "## **Alineación de las etiquetas**\n",
        "\n",
        "Puesto que al tokenizar las palabras puede que estas sean divididas en palabras mas pequeñas si son desconocidas pra el modelo, hay que realinear las etiquetas que tenian asignadas."
      ],
      "metadata": {
        "id": "-rKnW7v6E3ek"
      }
    },
    {
      "cell_type": "markdown",
      "source": [
        "### Diccionario que mapea las etiquetas a un id único"
      ],
      "metadata": {
        "id": "ME3wqdsBFiLP"
      }
    },
    {
      "cell_type": "code",
      "source": [
        "unique_labels = set(label for sublist in labels_train for label in sublist)\n",
        "\n",
        "# Crear el mapeo de etiquetas a ID\n",
        "label_to_id = {label: id for id, label in enumerate(unique_labels)}"
      ],
      "metadata": {
        "id": "O3SDi1ynFmdi"
      },
      "execution_count": 24,
      "outputs": []
    },
    {
      "cell_type": "code",
      "source": [
        "label_to_id"
      ],
      "metadata": {
        "colab": {
          "base_uri": "https://localhost:8080/"
        },
        "id": "vuaIvYJyFxIK",
        "outputId": "d9561c82-d112-43b2-af84-36f3c8cdad86"
      },
      "execution_count": 25,
      "outputs": [
        {
          "output_type": "execute_result",
          "data": {
            "text/plain": [
              "{'CCONJ': 0,\n",
              " 'NOUN': 1,\n",
              " 'VERB': 2,\n",
              " 'AUX': 3,\n",
              " 'DET': 4,\n",
              " 'SCONJ': 5,\n",
              " 'PART': 6,\n",
              " 'SYM': 7,\n",
              " 'X': 8,\n",
              " 'ADV': 9,\n",
              " 'PRON': 10,\n",
              " 'PROPN': 11,\n",
              " 'ADP': 12,\n",
              " 'PUNCT': 13,\n",
              " 'NUM': 14,\n",
              " '_': 15,\n",
              " 'ADJ': 16,\n",
              " 'INTJ': 17}"
            ]
          },
          "metadata": {},
          "execution_count": 25
        }
      ]
    },
    {
      "cell_type": "markdown",
      "source": [
        "### **Asignación de POS tags a los nuevos tokens**\n",
        "\n",
        "Asignamos los ids con base en nuestro diccionarios de Tags, o en su defecto en caso de palabras que fueron descompuestas, solo al primer componente y al segundo asignamos -100, lo cual es una convención de HugginFace para ser ignoradas por el modelo"
      ],
      "metadata": {
        "id": "Fz08unXiGWcd"
      }
    },
    {
      "cell_type": "markdown",
      "source": [
        "#### **Entrenamiento**"
      ],
      "metadata": {
        "id": "obieK5EvwNrh"
      }
    },
    {
      "cell_type": "code",
      "source": [
        "## nueva lista de labels\n",
        "labels_train_aligned = []\n",
        "\n",
        "## Iteramos sobre la lista original de labels\n",
        "for i, label_seq in enumerate(labels_train):\n",
        "\n",
        "    # Obtenemos los word_ids para la secuencia tokenizada actual\n",
        "    word_ids = tokenized_train.word_ids(batch_index=i)\n",
        "\n",
        "    label_ids = []\n",
        "\n",
        "    previous_word_id = None\n",
        "\n",
        "    for word_id in word_ids:\n",
        "\n",
        "        # Si el word_id es None (token especial) o es un subtoken (mismo word_id que el anterior), asigna -100\n",
        "        if word_id is None or word_id == previous_word_id:\n",
        "            label_ids.append(-100)\n",
        "        else:\n",
        "\n",
        "            # Obtenemos el id del Tag que correspondia a esa palabra\n",
        "            label_ids.append(label_to_id[label_seq[word_id]])\n",
        "\n",
        "        previous_word_id = word_id\n",
        "\n",
        "    labels_train_aligned.append(label_ids)"
      ],
      "metadata": {
        "id": "KkZ89_KCHeBW"
      },
      "execution_count": 26,
      "outputs": []
    },
    {
      "cell_type": "code",
      "source": [
        "## Conversión a tensores\n",
        "labels_train_tensor = torch.tensor(labels_train_aligned)\n",
        "\n",
        "## Agregamos las labels al diccionario donde tendremos los dos tensores:\n",
        "tokenized_train[\"labels\"] = labels_train_tensor"
      ],
      "metadata": {
        "id": "um1XoFWHFEmZ"
      },
      "execution_count": 27,
      "outputs": []
    },
    {
      "cell_type": "markdown",
      "source": [
        "#### **Validación**"
      ],
      "metadata": {
        "id": "q0U0rseGwzRq"
      }
    },
    {
      "cell_type": "code",
      "source": [
        "## nueva lista de labels\n",
        "labels_val_aligned = []\n",
        "\n",
        "## Iteramos sobre la lista original de labels\n",
        "for i, label_seq in enumerate(labels_val):\n",
        "\n",
        "    # Obtenemos los word_ids para la secuencia tokenizada actual\n",
        "    word_ids = tokenized_val.word_ids(batch_index=i)\n",
        "\n",
        "    label_ids = []\n",
        "\n",
        "    previous_word_id = None\n",
        "\n",
        "    for word_id in word_ids:\n",
        "\n",
        "        # Si el word_id es None (token especial) o es un subtoken (mismo word_id que el anterior), asigna -100\n",
        "        if word_id is None or word_id == previous_word_id:\n",
        "            label_ids.append(-100)\n",
        "        else:\n",
        "\n",
        "            # Obtenemos el id del Tag que correspondia a esa palabra\n",
        "            label_ids.append(label_to_id[label_seq[word_id]])\n",
        "\n",
        "        previous_word_id = word_id\n",
        "\n",
        "    labels_val_aligned.append(label_ids)"
      ],
      "metadata": {
        "id": "P54V6gNOw7ch"
      },
      "execution_count": 28,
      "outputs": []
    },
    {
      "cell_type": "code",
      "source": [
        "## Conversión a tensores\n",
        "labels_val_tensor = torch.tensor(labels_val_aligned)\n",
        "\n",
        "## Agregamos las labels al diccionario donde tendremos los dos tensores:\n",
        "tokenized_val[\"labels\"] = labels_val_tensor"
      ],
      "metadata": {
        "id": "UA7NOw6wyme-"
      },
      "execution_count": 29,
      "outputs": []
    },
    {
      "cell_type": "markdown",
      "source": [
        "#### **Testeo**"
      ],
      "metadata": {
        "id": "r5E9LGIMytMn"
      }
    },
    {
      "cell_type": "code",
      "source": [
        "## nueva lista de labels\n",
        "labels_test_aligned = []\n",
        "\n",
        "## Iteramos sobre la lista original de labels\n",
        "for i, label_seq in enumerate(labels_test):\n",
        "\n",
        "    # Obtenemos los word_ids para la secuencia tokenizada actual\n",
        "    word_ids = tokenized_test.word_ids(batch_index=i)\n",
        "\n",
        "    label_ids = []\n",
        "\n",
        "    previous_word_id = None\n",
        "\n",
        "    for word_id in word_ids:\n",
        "\n",
        "        # Si el word_id es None (token especial) o es un subtoken (mismo word_id que el anterior), asigna -100\n",
        "        if word_id is None or word_id == previous_word_id:\n",
        "            label_ids.append(-100)\n",
        "        else:\n",
        "\n",
        "            # Obtenemos el id del Tag que correspondia a esa palabra\n",
        "            label_ids.append(label_to_id[label_seq[word_id]])\n",
        "\n",
        "        previous_word_id = word_id\n",
        "\n",
        "    labels_test_aligned.append(label_ids)"
      ],
      "metadata": {
        "id": "-hHrQudfyw2D"
      },
      "execution_count": 30,
      "outputs": []
    },
    {
      "cell_type": "code",
      "source": [
        "## Conversión a tensores\n",
        "labels_test_tensor = torch.tensor(labels_test_aligned)\n",
        "\n",
        "## Agregamos las labels al diccionario donde tendremos los dos tensores:\n",
        "tokenized_test[\"labels\"] = labels_test_tensor"
      ],
      "metadata": {
        "id": "sQg0c4nuy44y"
      },
      "execution_count": 31,
      "outputs": []
    },
    {
      "cell_type": "markdown",
      "source": [
        "## **Modelo**"
      ],
      "metadata": {
        "id": "SCYpOM0C39n-"
      }
    },
    {
      "cell_type": "markdown",
      "source": [
        "Instanciamos el modelo de la clase XLMRobertaForTokenClassification, la cual añade una capa a un modelo preentrenado con la función from_pretained, en este caso 'xml-roberta-base', y en esta capa se realiza el fine tuning para nuestro POS tagging"
      ],
      "metadata": {
        "id": "HVShNV1p46L5"
      }
    },
    {
      "cell_type": "code",
      "source": [
        "model = XLMRobertaForTokenClassification.from_pretrained('xlm-roberta-base', num_labels=len(unique_labels))"
      ],
      "metadata": {
        "colab": {
          "base_uri": "https://localhost:8080/",
          "height": 86,
          "referenced_widgets": [
            "e3cd136ae39b44bfa5d160360fa33dc9",
            "97880260974948478fb8553589c031e3",
            "c6bef38101f3465ebd11066ebcdfa175",
            "e4dfc508384b4d269bd2d419f29b2908",
            "65a8121e21814812b45228daf30359d9",
            "ee9b4bc3c93d4f16aa46f62d24947d63",
            "42f8480102e64b649ef64a3063e911df",
            "2b8e6b8a7a3448bfa281d91be52369ce",
            "62e54a6aad084aa0ab9d03665d7d99e5",
            "3055bcff8d1a4b49af3813bad8bc366d",
            "79e44932eda4412b84ea0ea0c18c5558"
          ]
        },
        "id": "BOqITYLI4A_f",
        "outputId": "d5bceae8-bdb8-4508-bebe-711e98f54022"
      },
      "execution_count": 32,
      "outputs": [
        {
          "output_type": "display_data",
          "data": {
            "text/plain": [
              "model.safetensors:   0%|          | 0.00/1.12G [00:00<?, ?B/s]"
            ],
            "application/vnd.jupyter.widget-view+json": {
              "version_major": 2,
              "version_minor": 0,
              "model_id": "e3cd136ae39b44bfa5d160360fa33dc9"
            }
          },
          "metadata": {}
        },
        {
          "output_type": "stream",
          "name": "stderr",
          "text": [
            "Some weights of XLMRobertaForTokenClassification were not initialized from the model checkpoint at xlm-roberta-base and are newly initialized: ['classifier.bias', 'classifier.weight']\n",
            "You should probably TRAIN this model on a down-stream task to be able to use it for predictions and inference.\n"
          ]
        }
      ]
    },
    {
      "cell_type": "markdown",
      "source": [
        "## **Entrenamiento**"
      ],
      "metadata": {
        "id": "7smoI5Oc5bTf"
      }
    },
    {
      "cell_type": "markdown",
      "source": [
        "### **Construcción de DataSets de PyTorch**\n",
        "\n",
        "La utilización de Datasets personalizados en PyTorch es una práctica clave en el flujo de trabajo de aprendizaje profundo, ofreciendo múltiples ventajas para el manejo de datos complejos y específicos de una tarea, como el etiquetado de parte del discurso (POS tagging) en procesamiento de lenguaje natural (PLN):\n",
        "\n",
        "* Estandarización de la Entrada de Datos: Permite estandarizar el formato de los datos de entrada y las etiquetas, asegurando que el modelo reciba la información en la estructura esperada y en tipos de datos consistentes, lo cual es crucial para modelos preentrenados como XLM-RoBERTa.\n",
        "\n",
        "* Escalabilidad y Flexibilidad: Facilita el manejo de grandes volúmenes de datos al cargarlos eficientemente en memoria. PyTorch optimiza el acceso y la manipulación de los datos durante el entrenamiento, lo que permite escalar el proceso a conjuntos de datos más grandes y complejos sin sacrificar el rendimiento.\n",
        "\n",
        "* Personalización para Preprocesamiento Específico: Cada tarea de PLN puede requerir un preprocesamiento de datos único (p.ej., tokenización, alineación de etiquetas). Los Datasets personalizados permiten integrar estos pasos específicos directamente en el flujo de datos, asegurando que todas las instancias se procesen de manera uniforme antes del entrenamiento.\n",
        "\n",
        "*Integración con DataLoader de PyTorch: Al utilizar Datasets personalizados en conjunto con DataLoader, se facilita el batching, el muestreo aleatorio y la paralelización en la carga de datos, mejorando la eficiencia del entrenamiento y la evaluación del modelo."
      ],
      "metadata": {
        "id": "1rt2tRCz5dnk"
      }
    },
    {
      "cell_type": "code",
      "source": [
        "# Definimos nuestra clase heredada de Dataset\n",
        "class POSDataset(Dataset):\n",
        "    def __init__(self, encodings):\n",
        "        self.encodings = encodings\n",
        "\n",
        "    def __getitem__(self, idx):\n",
        "        item = {key: val[idx] for key, val in self.encodings.items()}\n",
        "        return item\n",
        "\n",
        "    def __len__(self):\n",
        "        return len(self.encodings['input_ids'])"
      ],
      "metadata": {
        "id": "bMd6VejPrXe5"
      },
      "execution_count": 33,
      "outputs": []
    },
    {
      "cell_type": "markdown",
      "source": [
        "#### **Creamos los Datasets**"
      ],
      "metadata": {
        "id": "3GsBT_faNNg3"
      }
    },
    {
      "cell_type": "code",
      "source": [
        "train_dataset = POSDataset(tokenized_train)\n",
        "val_dataset = POSDataset(tokenized_val)\n",
        "test_dataset = POSDataset(tokenized_test)"
      ],
      "metadata": {
        "id": "M4VueG8QNT-q"
      },
      "execution_count": 34,
      "outputs": []
    },
    {
      "cell_type": "markdown",
      "source": [
        "### **Carga y Manejo de Datos con DataLoader**\n",
        "\n",
        "La clase DataLoader de PyTorch es una herramienta esencial para la carga y manejo eficiente de datos durante el entrenamiento y validación de modelos de aprendizaje profundo. Proporciona una interfaz flexible y potente para automatizar la carga de datos en lotes, el barajado de los datos para el entrenamiento, y el aprovechamiento de la carga de datos en paralelo a través de múltiples subprocesos. Su compatibilidad con cualquier clase que herede de torch.utils.data.Dataset lo hace indispensable para trabajar con datasets personalizados, facilitando un entrenamiento eficaz y escalable.\n",
        "\n",
        "Características Clave:\n",
        "\n",
        "* Carga en Lotes: Permite el procesamiento de datos en pequeños grupos, haciéndolo manejable y eficiente.\n",
        "* Barajado de Datos: Mejora la generalización del modelo al presentar los datos en un orden diferente cada época.\n",
        "* Carga Paralela: Utiliza múltiples subprocesos para cargar datos, acelerando la preparación antes del entrenamiento."
      ],
      "metadata": {
        "id": "ZjnbZyq4NyTA"
      }
    },
    {
      "cell_type": "code",
      "source": [
        "train_loader = DataLoader(train_dataset, batch_size=16, shuffle=True, num_workers=2)\n",
        "val_loader = DataLoader(val_dataset, batch_size=16, shuffle=False, num_workers=2)\n",
        "test_loader = DataLoader(test_dataset, batch_size=16, shuffle=False, num_workers=2)"
      ],
      "metadata": {
        "id": "_GMgRqQ3Nza1"
      },
      "execution_count": 35,
      "outputs": []
    },
    {
      "cell_type": "markdown",
      "source": [
        "### **Configuración del Optimizador y Función de Pérdida**\n",
        "\n",
        "Para entrenar efectivamente nuestro modelo de etiquetado de parte del discurso (POS tagging) con la biblioteca Transformers y PyTorch, necesitamos definir dos componentes críticos: el optimizador y la función de pérdida. Estos elementos son esenciales para guiar el proceso de aprendizaje del modelo, permitiéndonos ajustar sus parámetros internos (pesos) basados en el rendimiento observado durante el entrenamiento.\n",
        "\n",
        "**Optimizador**\n",
        "\n",
        "El optimizador es responsable de actualizar los parámetros del modelo en dirección a minimizar la función de pérdida. Una elección común para muchas tareas de procesamiento de lenguaje natural, incluido el etiquetado de parte del discurso, es AdamW. AdamW es una variante del optimizador Adam que incorpora correcciones de decaimiento de peso, lo que ayuda a prevenir el sobreajuste y mejora la generalización en comparación con el Adam estándar.\n",
        "\n",
        "**Función de Pérdida**\n",
        "\n",
        "La función de pérdida mide la discrepancia entre las predicciones del modelo y las etiquetas reales. Para tareas de clasificación, como el etiquetado de parte del discurso, una elección común es la Cross-Entropy Loss, que es efectiva para comparar la distribución de las predicciones del modelo con la distribución real de las etiquetas."
      ],
      "metadata": {
        "id": "_CVKGHjXSgvA"
      }
    },
    {
      "cell_type": "code",
      "source": [
        "# Inicializamos el optimizador AdamW con los parámetros del modelo\n",
        "optimizer = AdamW(model.parameters(), lr=5e-5)\n",
        "\n",
        "# Definimos la función de pérdida\n",
        "loss_fn = CrossEntropyLoss()"
      ],
      "metadata": {
        "id": "YMMmvtLxTbZ9",
        "colab": {
          "base_uri": "https://localhost:8080/"
        },
        "outputId": "0b76aec7-a089-4c31-b8e8-72e3ff0e23a4"
      },
      "execution_count": 36,
      "outputs": [
        {
          "output_type": "stream",
          "name": "stderr",
          "text": [
            "/usr/local/lib/python3.10/dist-packages/transformers/optimization.py:588: FutureWarning: This implementation of AdamW is deprecated and will be removed in a future version. Use the PyTorch implementation torch.optim.AdamW instead, or set `no_deprecation_warning=True` to disable this warning\n",
            "  warnings.warn(\n"
          ]
        }
      ]
    },
    {
      "cell_type": "markdown",
      "source": [
        "### **Early Stopping**\n",
        "\n",
        "El early stopping es una técnica utilizada para prevenir el sobreajuste durante el entrenamiento de modelos de aprendizaje profundo. La idea detrás de esta técnica es monitorear el rendimiento del modelo en un conjunto de datos de validación y detener el entrenamiento cuando dicho rendimiento deja de mejorar.\n",
        "\n",
        "Para implementar early stopping, se utilizan tres parámetros clave:\n",
        "\n",
        "* **patience**: Este parámetro define el número de épocas que esperaremos para observar una mejora en la pérdida de validación antes de detener el entrenamiento. En este caso, se ha establecido una patience de 2, lo que significa que si después de dos épocas consecutivas no se observa una mejora, el entrenamiento se detendrá.\n",
        "\n",
        "* **best_val_loss**: Representa la mejor pérdida de validación observada hasta el momento. Se inicializa con un valor infinito para asegurar que cualquier pérdida calculada en las primeras épocas se considere como una mejora. Este valor se actualizará a lo largo del entrenamiento cada vez que encontremos una pérdida de validación menor.\n",
        "\n",
        "* **epochs_no_improve**: Es un contador que lleva la cuenta de cuántas épocas consecutivas han pasado sin observar una mejora en la pérdida de validación. Si este contador alcanza el valor especificado por patience, se activará el early stopping."
      ],
      "metadata": {
        "id": "8DPcC6fdYZTK"
      }
    },
    {
      "cell_type": "markdown",
      "source": [],
      "metadata": {
        "id": "Di0YMmCTZ2K9"
      }
    },
    {
      "cell_type": "code",
      "source": [
        "# Early stopping\n",
        "patience = 2  # Número de épocas a esperar después de una mejora antes de detener el entrenamiento\n",
        "best_val_loss = float('inf')  # Mejor pérdida de validación observada, inicializada con infinito\n",
        "epochs_no_improve = 0  # Contador de épocas sin mejora"
      ],
      "metadata": {
        "id": "BMTag-OCYcNF"
      },
      "execution_count": 37,
      "outputs": []
    },
    {
      "cell_type": "markdown",
      "source": [
        "### **Entrenamiento** utilizando los dataloaders, el optimizador y la función de pérdida"
      ],
      "metadata": {
        "id": "RoUTrqMIXSkp"
      }
    },
    {
      "cell_type": "code",
      "source": [
        "# Verificamos si el entorno tiene GPU, y nos aseguramos que el modelo este cargado\n",
        "device = torch.device(\"cuda\" if torch.cuda.is_available() else \"cpu\")\n",
        "model.to(device)\n",
        "\n",
        "# Guardado del mejor modelo\n",
        "model_save_path = '/content/best_model.pt'\n",
        "\n",
        "# Modelo en modo entrenamiento\n",
        "model.train()\n",
        "\n",
        "# Número de épocas\n",
        "num_epochs = 8\n",
        "\n",
        "# Recorremos el conjunto de entrenamiento, la cantidad de épocas definidas\n",
        "for epoch in range(num_epochs):\n",
        "\n",
        "    # Pérdida de la época\n",
        "    total_loss = 0\n",
        "\n",
        "    # Con nuestros DataLoaders, recorremos los lotes\n",
        "    for batch in train_loader:\n",
        "\n",
        "      # Reseteamos los gradientes del optimizador en cada lote, para solo tomar en cuenta el acumulado en la iteración del lote actual\n",
        "        optimizer.zero_grad()\n",
        "\n",
        "        # Nos aseguremos que todos nuestros datos se carguen en memoria en el mismo dispositivo\n",
        "        input_ids = batch['input_ids'].to(device)\n",
        "        attention_mask = batch['attention_mask'].to(device)\n",
        "        labels = batch['labels'].to(device)\n",
        "\n",
        "        # Obtenemos las predicciones del modelo en el conjunto de entrenamiento y su pérdida\n",
        "        outputs = model(input_ids, attention_mask=attention_mask, labels=labels)\n",
        "        loss = outputs.loss\n",
        "        total_loss += loss.item()\n",
        "\n",
        "        # Retropropagación de la pérdida y calculo del gradiente\n",
        "        loss.backward()\n",
        "\n",
        "        # Recalibración de los pesos del modelo\n",
        "        optimizer.step()\n",
        "\n",
        "    # Pérdida promedio por época respecto a los lotes\n",
        "    avg_train_loss = total_loss / len(train_loader)\n",
        "    print(f\"Epoch {epoch + 1}/{num_epochs}, Training Loss: {avg_train_loss}\")\n",
        "\n",
        "    # Validación\n",
        "\n",
        "    # Modelo en modo evaluación\n",
        "    model.eval()\n",
        "    total_eval_loss = 0\n",
        "    for batch in val_loader:\n",
        "        with torch.no_grad():\n",
        "            input_ids = batch['input_ids'].to(device)\n",
        "            attention_mask = batch['attention_mask'].to(device)\n",
        "            labels = batch['labels'].to(device)\n",
        "\n",
        "            outputs = model(input_ids, attention_mask=attention_mask, labels=labels)\n",
        "            loss = outputs.loss\n",
        "            total_eval_loss += loss.item()\n",
        "\n",
        "    avg_val_loss = total_eval_loss / len(val_loader)\n",
        "    print(f\"Epoch {epoch + 1}/{num_epochs}, Validation Loss: {avg_val_loss}\")\n",
        "\n",
        "    # Early Stopping\n",
        "    if avg_val_loss < best_val_loss:\n",
        "        print(f\"Validation loss improved from {best_val_loss} to {avg_val_loss}. Saving best model to {model_save_path}.\")\n",
        "        best_val_loss = avg_val_loss\n",
        "\n",
        "        epochs_no_improve = 0\n",
        "\n",
        "        # Guarda el modelo\n",
        "        torch.save(model.state_dict(), model_save_path)\n",
        "\n",
        "    else:\n",
        "        epochs_no_improve += 1\n",
        "        print(f\"Validation loss did not improve. ({epochs_no_improve}/{patience} epochs without improvement)\")\n",
        "\n",
        "    # Verifica si se alcanzó el límite de paciencia para el early stopping\n",
        "    if epochs_no_improve == patience:\n",
        "        print(\"Early stopping triggered.\")\n",
        "        break\n",
        "\n",
        "    # Vuelve a poner el modelo en modo de entrenamiento para la siguiente época\n",
        "    model.train()"
      ],
      "metadata": {
        "id": "yuxDN25EXZq-",
        "colab": {
          "base_uri": "https://localhost:8080/"
        },
        "outputId": "d612f483-ac74-465c-e190-75e54ac294d8"
      },
      "execution_count": 38,
      "outputs": [
        {
          "output_type": "stream",
          "name": "stdout",
          "text": [
            "Epoch 1/8, Training Loss: 0.10896400426183843\n",
            "Epoch 1/8, Validation Loss: 0.03686694645036299\n",
            "Validation loss improved from inf to 0.03686694645036299. Saving best model to /content/best_model.pt.\n",
            "Epoch 2/8, Training Loss: 0.030986487880570256\n",
            "Epoch 2/8, Validation Loss: 0.03443904785224451\n",
            "Validation loss improved from 0.03686694645036299 to 0.03443904785224451. Saving best model to /content/best_model.pt.\n",
            "Epoch 3/8, Training Loss: 0.023318579213428836\n",
            "Epoch 3/8, Validation Loss: 0.03454647774029022\n",
            "Validation loss did not improve. (1/2 epochs without improvement)\n",
            "Epoch 4/8, Training Loss: 0.019904673157529938\n",
            "Epoch 4/8, Validation Loss: 0.03818064221951108\n",
            "Validation loss did not improve. (2/2 epochs without improvement)\n",
            "Early stopping triggered.\n"
          ]
        }
      ]
    },
    {
      "cell_type": "markdown",
      "source": [
        "## **Evaluación**\n",
        "\n",
        "El modelo con el mejor rendimiento en el conjunto de validación es evaluado en el conjunto de prueba. Este proceso se enfoca en medir la capacidad del modelo para generalizar a nuevos datos. Los pasos incluyen:\n",
        "\n",
        "* **Carga del Mejor Modelo**: Se carga el modelo con los mejores parámetros, guardados durante el entrenamiento, para asegurar que la evaluación se realice con la versión más óptima del modelo.\n",
        "\n",
        "* **Predicciones y Métricas**: El modelo se utiliza para hacer predicciones sobre el conjunto de prueba, y se calculan métricas detalladas como precisión, recall y F1-score para cada etiqueta de POS. Esto proporciona una visión integral del rendimiento y las áreas de fortaleza o debilidad del modelo."
      ],
      "metadata": {
        "id": "8bxh8R97eEd7"
      }
    },
    {
      "cell_type": "markdown",
      "source": [
        "### Carga del mejor modelo"
      ],
      "metadata": {
        "id": "GU53pKhIfrcA"
      }
    },
    {
      "cell_type": "code",
      "source": [
        "# Cargamos los pesos guardados\n",
        "model.load_state_dict(torch.load('/content/best_model.pt'))\n",
        "\n",
        "# Modo evaluación\n",
        "model.eval()\n",
        "\n",
        "# Aseguramos la carga en el dsipositivo adecuado\n",
        "model.to(device)"
      ],
      "metadata": {
        "id": "Zp1JnGsHftHH",
        "colab": {
          "base_uri": "https://localhost:8080/"
        },
        "outputId": "abd904e5-e947-4d1f-f943-fae6855c11a8"
      },
      "execution_count": 39,
      "outputs": [
        {
          "output_type": "execute_result",
          "data": {
            "text/plain": [
              "XLMRobertaForTokenClassification(\n",
              "  (roberta): XLMRobertaModel(\n",
              "    (embeddings): XLMRobertaEmbeddings(\n",
              "      (word_embeddings): Embedding(250002, 768, padding_idx=1)\n",
              "      (position_embeddings): Embedding(514, 768, padding_idx=1)\n",
              "      (token_type_embeddings): Embedding(1, 768)\n",
              "      (LayerNorm): LayerNorm((768,), eps=1e-05, elementwise_affine=True)\n",
              "      (dropout): Dropout(p=0.1, inplace=False)\n",
              "    )\n",
              "    (encoder): XLMRobertaEncoder(\n",
              "      (layer): ModuleList(\n",
              "        (0-11): 12 x XLMRobertaLayer(\n",
              "          (attention): XLMRobertaAttention(\n",
              "            (self): XLMRobertaSelfAttention(\n",
              "              (query): Linear(in_features=768, out_features=768, bias=True)\n",
              "              (key): Linear(in_features=768, out_features=768, bias=True)\n",
              "              (value): Linear(in_features=768, out_features=768, bias=True)\n",
              "              (dropout): Dropout(p=0.1, inplace=False)\n",
              "            )\n",
              "            (output): XLMRobertaSelfOutput(\n",
              "              (dense): Linear(in_features=768, out_features=768, bias=True)\n",
              "              (LayerNorm): LayerNorm((768,), eps=1e-05, elementwise_affine=True)\n",
              "              (dropout): Dropout(p=0.1, inplace=False)\n",
              "            )\n",
              "          )\n",
              "          (intermediate): XLMRobertaIntermediate(\n",
              "            (dense): Linear(in_features=768, out_features=3072, bias=True)\n",
              "            (intermediate_act_fn): GELUActivation()\n",
              "          )\n",
              "          (output): XLMRobertaOutput(\n",
              "            (dense): Linear(in_features=3072, out_features=768, bias=True)\n",
              "            (LayerNorm): LayerNorm((768,), eps=1e-05, elementwise_affine=True)\n",
              "            (dropout): Dropout(p=0.1, inplace=False)\n",
              "          )\n",
              "        )\n",
              "      )\n",
              "    )\n",
              "  )\n",
              "  (dropout): Dropout(p=0.1, inplace=False)\n",
              "  (classifier): Linear(in_features=768, out_features=18, bias=True)\n",
              ")"
            ]
          },
          "metadata": {},
          "execution_count": 39
        }
      ]
    },
    {
      "cell_type": "markdown",
      "source": [
        "### Predicciones"
      ],
      "metadata": {
        "id": "j9OidcLfg0Wo"
      }
    },
    {
      "cell_type": "code",
      "source": [
        "# Inicializamos listas para guardar las predicciones y las etiquetas verdaderas\n",
        "predictions = []\n",
        "\n",
        "# Desactivamos el cálculo de gradientes para ahorrar memoria y acelerar la evaluación\n",
        "with torch.no_grad():\n",
        "    for batch in test_loader:  # Iteramos sobre el conjunto de testeo\n",
        "\n",
        "        # Movemos los datos al dispositivo adecuado (GPU o CPU)\n",
        "        input_ids = batch['input_ids'].to(device)\n",
        "        attention_mask = batch['attention_mask'].to(device)\n",
        "        labels = batch['labels'].to(device)\n",
        "\n",
        "        # Realizamos las predicciones con el modelo\n",
        "        outputs = model(input_ids, attention_mask=attention_mask)\n",
        "\n",
        "        # Obtenemos los logits y los movemos al CPU\n",
        "        logits = outputs.logits.detach().cpu().numpy()\n",
        "        # Movemos las etiquetas verdaderas al CPU para compararlas con las predicciones\n",
        "        label_ids = labels.to('cpu').numpy()\n",
        "\n",
        "        # Guardamos las predicciones y las verdaderas etiquetas\n",
        "        # Usamos np.argmax para convertir los logits a índices de la etiqueta predicha\n",
        "        predictions.extend([list(p) for p in np.argmax(logits, axis=-1)])\n",
        "\n",
        "# En este punto, `predictions` contiene las etiquetas predichas para cada token"
      ],
      "metadata": {
        "id": "TtROEOP9kiaD"
      },
      "execution_count": 40,
      "outputs": []
    },
    {
      "cell_type": "markdown",
      "source": [
        "### Obtenemos la lista de etiquetas y predicciones en una forma más digerible"
      ],
      "metadata": {
        "id": "rqK-eBFbpJ7b"
      }
    },
    {
      "cell_type": "code",
      "source": [
        "# Revertir el mapeo de IDs a etiquetas originales\n",
        "id_to_label = {id: label for label, id in label_to_id.items()}\n",
        "\n",
        "# Listas para almacenar las etiquetas finales por oración\n",
        "final_pred_labels_per_sentence = []\n",
        "\n",
        "# Reevertimos la tokenización obteniendo los tags correspondientes unicamente a las palabras iniciales.\n",
        "for i, pred in enumerate(predictions):\n",
        "\n",
        "    word_ids = tokenized_test.word_ids(batch_index=i)\n",
        "\n",
        "    sentence_pred_labels = []\n",
        "\n",
        "    prev_word_id = None\n",
        "\n",
        "    for word_idx, pred_label in zip(word_ids, pred):\n",
        "\n",
        "        if word_idx is not None and word_idx != prev_word_id:\n",
        "            # Solo considera la etiqueta del primer sub-token\n",
        "            sentence_pred_labels.append(id_to_label[pred_label])\n",
        "        prev_word_id = word_idx\n",
        "\n",
        "    final_pred_labels_per_sentence.append(sentence_pred_labels)"
      ],
      "metadata": {
        "id": "FQlEHBc-pJiL"
      },
      "execution_count": 41,
      "outputs": []
    },
    {
      "cell_type": "markdown",
      "source": [
        "### Métricas de evaluación (Seqeval)"
      ],
      "metadata": {
        "id": "IP-LCSIj-thX"
      }
    },
    {
      "cell_type": "code",
      "source": [
        "# Aplanar las listas de listas\n",
        "flat_true_labels = [label for sublist in labels_test for label in sublist]\n",
        "flat_pred_labels = [label for sublist in final_pred_labels_per_sentence for label in sublist]\n",
        "\n",
        "# Crear un informe de clasificación usando sklearn\n",
        "report = classification_report(flat_true_labels, flat_pred_labels, zero_division=0)\n",
        "print(report)"
      ],
      "metadata": {
        "colab": {
          "base_uri": "https://localhost:8080/"
        },
        "id": "fjXYAKdkPhJi",
        "outputId": "0a3ded98-32ef-48c0-e906-15d6cb84c591"
      },
      "execution_count": 42,
      "outputs": [
        {
          "output_type": "stream",
          "name": "stdout",
          "text": [
            "              precision    recall  f1-score   support\n",
            "\n",
            "         ADJ       0.98      0.96      0.97      3468\n",
            "         ADP       1.00      1.00      1.00      8332\n",
            "         ADV       0.98      0.98      0.98      1763\n",
            "         AUX       0.99      0.98      0.99      1304\n",
            "       CCONJ       1.00      1.00      1.00      1439\n",
            "         DET       1.00      1.00      1.00      8055\n",
            "        INTJ       0.77      0.62      0.69        16\n",
            "        NOUN       0.98      0.99      0.98      9531\n",
            "         NUM       0.98      0.97      0.97       977\n",
            "        PART       0.93      0.78      0.85        18\n",
            "        PRON       0.99      0.99      0.99      3250\n",
            "       PROPN       0.99      0.99      0.99      4094\n",
            "       PUNCT       1.00      1.00      1.00      6334\n",
            "       SCONJ       0.97      0.98      0.98      1210\n",
            "         SYM       0.88      0.75      0.81        28\n",
            "        VERB       0.99      1.00      0.99      4636\n",
            "           _       1.00      1.00      1.00      1166\n",
            "\n",
            "    accuracy                           0.99     55621\n",
            "   macro avg       0.97      0.94      0.95     55621\n",
            "weighted avg       0.99      0.99      0.99     55621\n",
            "\n"
          ]
        }
      ]
    }
  ]
}